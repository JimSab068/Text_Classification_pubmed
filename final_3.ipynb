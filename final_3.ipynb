{
 "cells": [
  {
   "cell_type": "code",
   "execution_count": 1,
   "metadata": {},
   "outputs": [],
   "source": [
    "# !pip3 uninstall qiskit qiskit-terra qiskit-aer qiskit-ibmq-provider --yes\n"
   ]
  },
  {
   "cell_type": "code",
   "execution_count": 2,
   "metadata": {
    "colab": {
     "base_uri": "https://localhost:8080/",
     "height": 1000
    },
    "id": "rQgBdgOURzs1",
    "outputId": "e59bff03-a5c3-4bce-d0ad-8715878c62b2",
    "scrolled": true
   },
   "outputs": [],
   "source": [
    "# # Install Qiskit and related packages\n",
    "# !pip3 install qiskit==0.44.1\n",
    "# !pip3 install pylatexenc==3.0.0\n",
    "# !pip3 install qiskit-machine-learning==0.6.1\n",
    "\n",
    "# # Install TensorFlow and related packages\n",
    "# !pip3 install tensorflow==2.12.0\n",
    "# !pip3 install numpy==1.23.5\n",
    "\n",
    "# # Install PyTorch and other utilities\n",
    "# !pip3 install torch==2.0.1\n",
    "# !pip3 install tqdm==4.66.1\n",
    "\n",
    "# Print installation status to confirm\n",
    "# import subprocess\n",
    "# for package in ['qiskit', 'pylatexenc', 'qiskit-machine-learning', 'tensorflow', 'numpy', 'torch', 'tqdm']:\n",
    "#     result = subprocess.run(['pip', 'show', package], capture_output=True, text=True)\n",
    "#     if result.returncode == 0:\n",
    "#         version = [line for line in result.stdout.split('\\n') if line.startswith('Version:')][0]\n",
    "#         print(f\"{package}: {version}\")\n",
    "#     else:\n",
    "#         print(f\"{package}: Not installed\")"
   ]
  },
  {
   "cell_type": "code",
   "execution_count": 3,
   "metadata": {},
   "outputs": [],
   "source": [
    "# !pip install torch==2.6.0\n"
   ]
  },
  {
   "cell_type": "code",
   "execution_count": 4,
   "metadata": {},
   "outputs": [],
   "source": [
    "# !pip install tensorflow\n"
   ]
  },
  {
   "cell_type": "code",
   "execution_count": 5,
   "metadata": {
    "scrolled": true
   },
   "outputs": [],
   "source": [
    "# !pip3 install qiskit==0.44.1\n",
    "# !pip3 install pylatexenc==3.0.0\n",
    "# !pip3 install qiskit-machine-learning==0.6.1\n",
    "\n",
    "# # Install TensorFlow and NumPy\n",
    "# !pip3 install tensorflow==2.12.0\n",
    "# !pip3 install numpy==1.23.5\n",
    "\n",
    "# # Install PyTorch and other utilities\n",
    "# !pip3 install torch==2.0.1\n",
    "# !pip3 install tqdm==4.66.1"
   ]
  },
  {
   "cell_type": "code",
   "execution_count": 6,
   "metadata": {},
   "outputs": [
    {
     "name": "stdout",
     "output_type": "stream",
     "text": [
      "All imports successful!\n"
     ]
    }
   ],
   "source": [
    "# Test your imports\n",
    "from qiskit import *\n",
    "from qiskit import QuantumCircuit\n",
    "import qiskit.circuit.library as circuit_library\n",
    "import qiskit.quantum_info as qi\n",
    "from qiskit.utils import algorithm_globals\n",
    "from qiskit.circuit.library import EfficientSU2\n",
    "from qiskit_machine_learning.neural_networks import SamplerQNN, EstimatorQNN\n",
    "from qiskit_machine_learning.connectors import TorchConnector\n",
    "import torch\n",
    "from qiskit.circuit import ParameterVector\n",
    "from torch import Tensor\n",
    "import torch.nn as nn\n",
    "import numpy as np\n",
    "from qiskit.quantum_info import SparsePauliOp\n",
    "from tqdm import tqdm\n",
    "# from tensorflow.keras.preprocessing.sequence import pad_sequences\n",
    "\n",
    "print(\"All imports successful!\")"
   ]
  },
  {
   "cell_type": "code",
   "execution_count": null,
   "metadata": {},
   "outputs": [],
   "source": []
  },
  {
   "cell_type": "code",
   "execution_count": 7,
   "metadata": {
    "id": "czT7D0_kRzmv"
   },
   "outputs": [],
   "source": [
    "# # Restart the runtime after installation\n",
    "# import os\n",
    "# os._exit(0)"
   ]
  },
  {
   "cell_type": "code",
   "execution_count": 8,
   "metadata": {
    "colab": {
     "base_uri": "https://localhost:8080/"
    },
    "id": "fbx4ukklRziZ",
    "outputId": "ba7bbfee-c82d-479e-add1-bbdd29366ca9"
   },
   "outputs": [
    {
     "name": "stderr",
     "output_type": "stream",
     "text": [
      "2025-05-05 10:28:10.695012: I tensorflow/core/util/port.cc:110] oneDNN custom operations are on. You may see slightly different numerical results due to floating-point round-off errors from different computation orders. To turn them off, set the environment variable `TF_ENABLE_ONEDNN_OPTS=0`.\n",
      "2025-05-05 10:28:10.793810: I tensorflow/core/platform/cpu_feature_guard.cc:182] This TensorFlow binary is optimized to use available CPU instructions in performance-critical operations.\n",
      "To enable the following instructions: AVX2 AVX_VNNI FMA, in other operations, rebuild TensorFlow with the appropriate compiler flags.\n",
      "2025-05-05 10:28:12.310674: W tensorflow/compiler/tf2tensorrt/utils/py_utils.cc:38] TF-TRT Warning: Could not find TensorRT\n"
     ]
    },
    {
     "name": "stdout",
     "output_type": "stream",
     "text": [
      "Basic imports successful!\n",
      "All imports successful!\n"
     ]
    }
   ],
   "source": [
    "# Test imports\n",
    "from qiskit import QuantumCircuit\n",
    "import tensorflow as tf\n",
    "import torch\n",
    "import numpy as np\n",
    "print(\"Basic imports successful!\")\n",
    "\n",
    "# Now try your full import list\n",
    "from qiskit import *\n",
    "from qiskit import QuantumCircuit\n",
    "import qiskit.circuit.library as circuit_library\n",
    "import qiskit.quantum_info as qi\n",
    "from qiskit.utils import algorithm_globals\n",
    "from qiskit.circuit.library import EfficientSU2\n",
    "from qiskit_machine_learning.neural_networks import SamplerQNN, EstimatorQNN\n",
    "from qiskit_machine_learning.connectors import TorchConnector\n",
    "import torch\n",
    "from qiskit.circuit import ParameterVector\n",
    "from torch import Tensor\n",
    "import torch.nn as nn\n",
    "import numpy as np\n",
    "from qiskit.quantum_info import SparsePauliOp\n",
    "from tqdm import tqdm\n",
    "print(\"All imports successful!\")"
   ]
  },
  {
   "cell_type": "code",
   "execution_count": null,
   "metadata": {
    "id": "b6Lc7m-iRzeJ"
   },
   "outputs": [],
   "source": []
  },
  {
   "cell_type": "code",
   "execution_count": null,
   "metadata": {
    "id": "f6mYyQ7ORzYM"
   },
   "outputs": [],
   "source": []
  },
  {
   "cell_type": "code",
   "execution_count": 9,
   "metadata": {
    "id": "ra_z6VwWLIxV"
   },
   "outputs": [],
   "source": [
    "from qiskit import *\n",
    "# Qiskit module\n",
    "from qiskit import QuantumCircuit\n",
    "import qiskit.circuit.library as circuit_library\n",
    "import qiskit.quantum_info as qi\n",
    "#from qiskit import execute\n",
    "from qiskit.utils import algorithm_globals\n",
    "from qiskit.circuit.library import EfficientSU2\n",
    "from qiskit_machine_learning.neural_networks import SamplerQNN, EstimatorQNN\n",
    "from qiskit_machine_learning.connectors import TorchConnector\n",
    "import torch\n",
    "from qiskit.circuit import ParameterVector\n",
    "from torch import Tensor\n",
    "import torch.nn as nn\n",
    "import numpy as np\n",
    "from qiskit.quantum_info import SparsePauliOp\n",
    "from tqdm import tqdm\n",
    "\n"
   ]
  },
  {
   "cell_type": "code",
   "execution_count": 10,
   "metadata": {
    "id": "sO8CMIIvLIum"
   },
   "outputs": [],
   "source": [
    "# !pip3 install pandas"
   ]
  },
  {
   "cell_type": "code",
   "execution_count": 11,
   "metadata": {
    "colab": {
     "base_uri": "https://localhost:8080/"
    },
    "id": "kxDzmVWhCZqL",
    "outputId": "50bc44bb-36d1-4c30-b47c-54f39ed55afa"
   },
   "outputs": [],
   "source": [
    "# from google.colab import drive\n",
    "# drive.mount('/content/gdrive')"
   ]
  },
  {
   "cell_type": "code",
   "execution_count": 12,
   "metadata": {
    "id": "RQGjPtjkCe1Z"
   },
   "outputs": [],
   "source": [
    "# path='/content/gdrive/MyDrive/NLP_projects/Lucas'"
   ]
  },
  {
   "cell_type": "code",
   "execution_count": 13,
   "metadata": {
    "colab": {
     "base_uri": "https://localhost:8080/",
     "height": 256
    },
    "id": "vGdQ6oU_CghZ",
    "outputId": "b476f906-425f-425d-c8a0-650550350314"
   },
   "outputs": [
    {
     "data": {
      "text/html": [
       "<div>\n",
       "<style scoped>\n",
       "    .dataframe tbody tr th:only-of-type {\n",
       "        vertical-align: middle;\n",
       "    }\n",
       "\n",
       "    .dataframe tbody tr th {\n",
       "        vertical-align: top;\n",
       "    }\n",
       "\n",
       "    .dataframe thead th {\n",
       "        text-align: right;\n",
       "    }\n",
       "</style>\n",
       "<table border=\"1\" class=\"dataframe\">\n",
       "  <thead>\n",
       "    <tr style=\"text-align: right;\">\n",
       "      <th></th>\n",
       "      <th>NODE</th>\n",
       "      <th>Label</th>\n",
       "      <th>rat</th>\n",
       "      <th>common</th>\n",
       "      <th>use</th>\n",
       "      <th>examin</th>\n",
       "      <th>pathogenesi</th>\n",
       "      <th>retinopathi</th>\n",
       "      <th>mous</th>\n",
       "      <th>studi</th>\n",
       "      <th>...</th>\n",
       "      <th>kidney</th>\n",
       "      <th>urinari</th>\n",
       "      <th>myocardi</th>\n",
       "      <th>meal</th>\n",
       "      <th>ica</th>\n",
       "      <th>locus</th>\n",
       "      <th>tcell</th>\n",
       "      <th>depress</th>\n",
       "      <th>bone</th>\n",
       "      <th>mutat</th>\n",
       "    </tr>\n",
       "  </thead>\n",
       "  <tbody>\n",
       "    <tr>\n",
       "      <th>0</th>\n",
       "      <td>12187484</td>\n",
       "      <td>1</td>\n",
       "      <td>46.967448</td>\n",
       "      <td>14.349229</td>\n",
       "      <td>5.880063</td>\n",
       "      <td>9.687707</td>\n",
       "      <td>31.58066</td>\n",
       "      <td>85.445293</td>\n",
       "      <td>33.85124</td>\n",
       "      <td>8.777305</td>\n",
       "      <td>...</td>\n",
       "      <td>0.0</td>\n",
       "      <td>0.0</td>\n",
       "      <td>0.0</td>\n",
       "      <td>0.0</td>\n",
       "      <td>0.0</td>\n",
       "      <td>0.0</td>\n",
       "      <td>0.0</td>\n",
       "      <td>0.0</td>\n",
       "      <td>0.0</td>\n",
       "      <td>0.0</td>\n",
       "    </tr>\n",
       "    <tr>\n",
       "      <th>1</th>\n",
       "      <td>2344352</td>\n",
       "      <td>1</td>\n",
       "      <td>11.808958</td>\n",
       "      <td>0.000000</td>\n",
       "      <td>7.392080</td>\n",
       "      <td>0.000000</td>\n",
       "      <td>0.00000</td>\n",
       "      <td>0.000000</td>\n",
       "      <td>0.00000</td>\n",
       "      <td>0.000000</td>\n",
       "      <td>...</td>\n",
       "      <td>0.0</td>\n",
       "      <td>0.0</td>\n",
       "      <td>0.0</td>\n",
       "      <td>0.0</td>\n",
       "      <td>0.0</td>\n",
       "      <td>0.0</td>\n",
       "      <td>0.0</td>\n",
       "      <td>0.0</td>\n",
       "      <td>0.0</td>\n",
       "      <td>0.0</td>\n",
       "    </tr>\n",
       "    <tr>\n",
       "      <th>2</th>\n",
       "      <td>14654069</td>\n",
       "      <td>1</td>\n",
       "      <td>51.131572</td>\n",
       "      <td>0.000000</td>\n",
       "      <td>5.334490</td>\n",
       "      <td>0.000000</td>\n",
       "      <td>0.00000</td>\n",
       "      <td>0.000000</td>\n",
       "      <td>0.00000</td>\n",
       "      <td>0.000000</td>\n",
       "      <td>...</td>\n",
       "      <td>0.0</td>\n",
       "      <td>0.0</td>\n",
       "      <td>0.0</td>\n",
       "      <td>0.0</td>\n",
       "      <td>0.0</td>\n",
       "      <td>0.0</td>\n",
       "      <td>0.0</td>\n",
       "      <td>0.0</td>\n",
       "      <td>0.0</td>\n",
       "      <td>0.0</td>\n",
       "    </tr>\n",
       "    <tr>\n",
       "      <th>3</th>\n",
       "      <td>16443886</td>\n",
       "      <td>2</td>\n",
       "      <td>0.000000</td>\n",
       "      <td>0.000000</td>\n",
       "      <td>0.000000</td>\n",
       "      <td>0.000000</td>\n",
       "      <td>0.00000</td>\n",
       "      <td>0.000000</td>\n",
       "      <td>0.00000</td>\n",
       "      <td>0.000000</td>\n",
       "      <td>...</td>\n",
       "      <td>0.0</td>\n",
       "      <td>0.0</td>\n",
       "      <td>0.0</td>\n",
       "      <td>0.0</td>\n",
       "      <td>0.0</td>\n",
       "      <td>0.0</td>\n",
       "      <td>0.0</td>\n",
       "      <td>0.0</td>\n",
       "      <td>0.0</td>\n",
       "      <td>0.0</td>\n",
       "    </tr>\n",
       "    <tr>\n",
       "      <th>4</th>\n",
       "      <td>2684155</td>\n",
       "      <td>1</td>\n",
       "      <td>15.307909</td>\n",
       "      <td>0.000000</td>\n",
       "      <td>0.000000</td>\n",
       "      <td>0.000000</td>\n",
       "      <td>0.00000</td>\n",
       "      <td>0.000000</td>\n",
       "      <td>0.00000</td>\n",
       "      <td>0.000000</td>\n",
       "      <td>...</td>\n",
       "      <td>0.0</td>\n",
       "      <td>0.0</td>\n",
       "      <td>0.0</td>\n",
       "      <td>0.0</td>\n",
       "      <td>0.0</td>\n",
       "      <td>0.0</td>\n",
       "      <td>0.0</td>\n",
       "      <td>0.0</td>\n",
       "      <td>0.0</td>\n",
       "      <td>0.0</td>\n",
       "    </tr>\n",
       "  </tbody>\n",
       "</table>\n",
       "<p>5 rows × 502 columns</p>\n",
       "</div>"
      ],
      "text/plain": [
       "       NODE  Label        rat     common       use    examin  pathogenesi  \\\n",
       "0  12187484      1  46.967448  14.349229  5.880063  9.687707     31.58066   \n",
       "1   2344352      1  11.808958   0.000000  7.392080  0.000000      0.00000   \n",
       "2  14654069      1  51.131572   0.000000  5.334490  0.000000      0.00000   \n",
       "3  16443886      2   0.000000   0.000000  0.000000  0.000000      0.00000   \n",
       "4   2684155      1  15.307909   0.000000  0.000000  0.000000      0.00000   \n",
       "\n",
       "   retinopathi      mous     studi  ...  kidney  urinari  myocardi  meal  ica  \\\n",
       "0    85.445293  33.85124  8.777305  ...     0.0      0.0       0.0   0.0  0.0   \n",
       "1     0.000000   0.00000  0.000000  ...     0.0      0.0       0.0   0.0  0.0   \n",
       "2     0.000000   0.00000  0.000000  ...     0.0      0.0       0.0   0.0  0.0   \n",
       "3     0.000000   0.00000  0.000000  ...     0.0      0.0       0.0   0.0  0.0   \n",
       "4     0.000000   0.00000  0.000000  ...     0.0      0.0       0.0   0.0  0.0   \n",
       "\n",
       "   locus  tcell  depress  bone  mutat  \n",
       "0    0.0    0.0      0.0   0.0    0.0  \n",
       "1    0.0    0.0      0.0   0.0    0.0  \n",
       "2    0.0    0.0      0.0   0.0    0.0  \n",
       "3    0.0    0.0      0.0   0.0    0.0  \n",
       "4    0.0    0.0      0.0   0.0    0.0  \n",
       "\n",
       "[5 rows x 502 columns]"
      ]
     },
     "execution_count": 13,
     "metadata": {},
     "output_type": "execute_result"
    }
   ],
   "source": [
    "import pandas as pd\n",
    "from sklearn.model_selection import train_test_split\n",
    "\n",
    "# Load CSV file\n",
    "df_2= pd.read_csv('final_dataset_pubmed.csv')\n",
    "\n",
    "# Check the first few rows\n",
    "df_2.head()"
   ]
  },
  {
   "cell_type": "code",
   "execution_count": 14,
   "metadata": {},
   "outputs": [],
   "source": [
    "# Create a dictionary mapping column names to indices (excluding 'node' and 'label')\n",
    "column_dict = {col: idx + 1 for idx, col in enumerate(df_2.columns) if col not in ['NODE', 'Label']}\n",
    "\n",
    "# # View the dictionary\n",
    "# print(column_dict)\n"
   ]
  },
  {
   "cell_type": "code",
   "execution_count": 15,
   "metadata": {},
   "outputs": [],
   "source": [
    "\n",
    "# Assume df is your TF-IDF dataframe\n",
    "df = df_2.reset_index(drop=True)\n",
    "vocab = df.columns[2:]  # Skipping 'NODE' and 'Label' columns\n",
    "\n",
    "def tfidf_to_review(row, max_words=300):\n",
    "    word_list = []\n",
    "    for word in vocab:\n",
    "        tfidf_score = row[word]\n",
    "        if tfidf_score > 0:\n",
    "            repeat_count = int(tfidf_score // 5)  # Scale down to reduce long reviews\n",
    "            word_list.extend([word] * repeat_count)\n",
    "    return ' '.join(word_list[:max_words])  # Truncate to max_words\n",
    "\n",
    "# Apply to all rows\n",
    "pseudo_reviews = df.apply(tfidf_to_review, axis=1)\n",
    "\n",
    "# Extract labels\n",
    "labels = df['Label'].values\n"
   ]
  },
  {
   "cell_type": "code",
   "execution_count": 16,
   "metadata": {},
   "outputs": [],
   "source": [
    "# # View pseudo-reviews with their corresponding class labels\n",
    "# for i in range(5):\n",
    "#     print(f\"Label: {labels[i]} | Review: {pseudo_reviews[i]}\")\n",
    "#     print(\"-\" * 100)\n",
    "\n"
   ]
  },
  {
   "cell_type": "code",
   "execution_count": 17,
   "metadata": {},
   "outputs": [
    {
     "name": "stdout",
     "output_type": "stream",
     "text": [
      "   Label                                        Pseudo_Text\n",
      "0      1  rat rat rat rat rat rat rat rat rat common com...\n",
      "1      1  rat rat use anim anim anim metabol metabol met...\n",
      "2      1  rat rat rat rat rat rat rat rat rat rat use an...\n",
      "3      2  model model model develop month month method l...\n",
      "4      1  rat rat rat anim anim anim anim anim anim anim...\n"
     ]
    }
   ],
   "source": [
    "df = pd.DataFrame({'Label': labels, 'Pseudo_Text': pseudo_reviews})\n",
    "print(df.head())\n"
   ]
  },
  {
   "cell_type": "code",
   "execution_count": 18,
   "metadata": {
    "id": "4XkHK6GeCgd6"
   },
   "outputs": [
    {
     "data": {
      "text/html": [
       "<div>\n",
       "<style scoped>\n",
       "    .dataframe tbody tr th:only-of-type {\n",
       "        vertical-align: middle;\n",
       "    }\n",
       "\n",
       "    .dataframe tbody tr th {\n",
       "        vertical-align: top;\n",
       "    }\n",
       "\n",
       "    .dataframe thead th {\n",
       "        text-align: right;\n",
       "    }\n",
       "</style>\n",
       "<table border=\"1\" class=\"dataframe\">\n",
       "  <thead>\n",
       "    <tr style=\"text-align: right;\">\n",
       "      <th></th>\n",
       "      <th>Label</th>\n",
       "      <th>Pseudo_Text</th>\n",
       "    </tr>\n",
       "  </thead>\n",
       "  <tbody>\n",
       "    <tr>\n",
       "      <th>0</th>\n",
       "      <td>1</td>\n",
       "      <td>rat rat rat rat rat rat rat rat rat common com...</td>\n",
       "    </tr>\n",
       "    <tr>\n",
       "      <th>1</th>\n",
       "      <td>1</td>\n",
       "      <td>rat rat use anim anim anim metabol metabol met...</td>\n",
       "    </tr>\n",
       "    <tr>\n",
       "      <th>2</th>\n",
       "      <td>1</td>\n",
       "      <td>rat rat rat rat rat rat rat rat rat rat use an...</td>\n",
       "    </tr>\n",
       "    <tr>\n",
       "      <th>3</th>\n",
       "      <td>2</td>\n",
       "      <td>model model model develop month month method l...</td>\n",
       "    </tr>\n",
       "    <tr>\n",
       "      <th>4</th>\n",
       "      <td>1</td>\n",
       "      <td>rat rat rat anim anim anim anim anim anim anim...</td>\n",
       "    </tr>\n",
       "  </tbody>\n",
       "</table>\n",
       "</div>"
      ],
      "text/plain": [
       "   Label                                        Pseudo_Text\n",
       "0      1  rat rat rat rat rat rat rat rat rat common com...\n",
       "1      1  rat rat use anim anim anim metabol metabol met...\n",
       "2      1  rat rat rat rat rat rat rat rat rat rat use an...\n",
       "3      2  model model model develop month month method l...\n",
       "4      1  rat rat rat anim anim anim anim anim anim anim..."
      ]
     },
     "execution_count": 18,
     "metadata": {},
     "output_type": "execute_result"
    }
   ],
   "source": [
    "df=df[df['Label'].isin([1, 2])]\n",
    "df.head()"
   ]
  },
  {
   "cell_type": "code",
   "execution_count": 19,
   "metadata": {
    "id": "f3V-PTGlCgbv"
   },
   "outputs": [],
   "source": [
    "# df= df.fillna(0).round().astype('Int64', errors='ignore')  # Fill NaNs with 0, round, and convert to integers\n"
   ]
  },
  {
   "cell_type": "code",
   "execution_count": 20,
   "metadata": {
    "colab": {
     "base_uri": "https://localhost:8080/",
     "height": 256
    },
    "id": "eI55XYqrCgZW",
    "outputId": "d770752e-1e3c-4766-d58f-930cabdf34a0"
   },
   "outputs": [],
   "source": [
    "# df.head()"
   ]
  },
  {
   "cell_type": "code",
   "execution_count": 21,
   "metadata": {
    "colab": {
     "base_uri": "https://localhost:8080/"
    },
    "id": "9d1FUeuhCqd9",
    "outputId": "8d1b9b6c-c10f-4fb3-fb34-178c91aba839"
   },
   "outputs": [
    {
     "name": "stdout",
     "output_type": "stream",
     "text": [
      "Label          0\n",
      "Pseudo_Text    0\n",
      "dtype: int64\n",
      "False\n"
     ]
    }
   ],
   "source": [
    "# Check for missing values\n",
    "print(df.isnull().sum())\n",
    "print(df.isnull().values.any())  # Returns True if any NaN is present\n"
   ]
  },
  {
   "cell_type": "code",
   "execution_count": 22,
   "metadata": {},
   "outputs": [
    {
     "name": "stdout",
     "output_type": "stream",
     "text": [
      "Label\n",
      "2    7875\n",
      "1    4103\n",
      "Name: count, dtype: int64\n"
     ]
    }
   ],
   "source": [
    "import pandas as pd\n",
    "\n",
    "# Suppose your DataFrame is called df\n",
    "label_counts = df['Label'].value_counts()\n",
    "\n",
    "print(label_counts)"
   ]
  },
  {
   "cell_type": "code",
   "execution_count": 23,
   "metadata": {},
   "outputs": [
    {
     "name": "stdout",
     "output_type": "stream",
     "text": [
      "Label\n",
      "1    4103\n",
      "0    4103\n",
      "Name: count, dtype: int64\n"
     ]
    }
   ],
   "source": [
    "from sklearn.utils import resample\n",
    "\n",
    "# Separate majority and minority classes\n",
    "df_majority = df[df['Label'] == 2]\n",
    "df_minority = df[df['Label'] == 1]\n",
    "\n",
    "# Downsample majority class\n",
    "df_majority_downsampled = resample(df_majority, \n",
    "                                   replace=False,    # sample without replacement\n",
    "                                   n_samples=len(df_minority), # match minority count\n",
    "                                   random_state=42)  # reproducible results\n",
    "\n",
    "# Combine minority class with downsampled majority class\n",
    "df_balanced = pd.concat([df_majority_downsampled, df_minority])\n",
    "\n",
    "# Shuffle the dataset\n",
    "df_balanced = df_balanced.sample(frac=1, random_state=42).reset_index(drop=True)\n",
    "# Ensure the labels are integers before mapping\n",
    "df_balanced['Label'] = df_balanced['Label'].astype(int).map({1: 0, 2: 1})\n",
    "\n",
    "\n",
    "print(df_balanced['Label'].value_counts())"
   ]
  },
  {
   "cell_type": "code",
   "execution_count": 24,
   "metadata": {},
   "outputs": [],
   "source": [
    "import pandas as pd\n",
    "import numpy as np\n",
    "from sklearn.model_selection import train_test_split\n",
    "from tensorflow.keras.preprocessing.text import Tokenizer\n",
    "from tensorflow.keras.preprocessing.sequence import pad_sequences\n",
    "\n",
    "# Assuming your data looks like this:\n",
    "# df = pd.DataFrame({'Pseudo_Review': [...], 'Label': [...]})\n",
    "# You can load it or define it as needed.\n",
    "\n",
    "# Example setup:\n",
    "texts = df['Pseudo_Text'].astype(str).tolist()  # list of reviews\n",
    "labels = df['Label'].astype(int).tolist()         # list of labels\n"
   ]
  },
  {
   "cell_type": "code",
   "execution_count": 25,
   "metadata": {},
   "outputs": [],
   "source": [
    "vocab_size = 1000\n",
    "tokenizer = Tokenizer(num_words=vocab_size, oov_token=\"<OOV>\")\n",
    "tokenizer.fit_on_texts(texts)\n",
    "\n",
    "sequences = tokenizer.texts_to_sequences(texts)\n"
   ]
  },
  {
   "cell_type": "code",
   "execution_count": 26,
   "metadata": {},
   "outputs": [],
   "source": [
    "maxlen = 200  # choose based on average sequence length or experiment\n",
    "padded_sequences = pad_sequences(sequences, maxlen=maxlen, padding='post', truncating='post')\n"
   ]
  },
  {
   "cell_type": "code",
   "execution_count": 27,
   "metadata": {},
   "outputs": [],
   "source": [
    "x_train, x_test, y_train, y_test = train_test_split(\n",
    "    padded_sequences, labels, test_size=0.2, random_state=42\n",
    ")\n",
    "\n",
    "x_train = np.array(x_train)\n",
    "x_test = np.array(x_test)\n",
    "y_train = np.array(y_train)\n",
    "y_test = np.array(y_test)\n"
   ]
  },
  {
   "cell_type": "code",
   "execution_count": 28,
   "metadata": {},
   "outputs": [
    {
     "name": "stdout",
     "output_type": "stream",
     "text": [
      "Label\n",
      "1    4103\n",
      "0    4103\n",
      "Name: count, dtype: int64\n"
     ]
    }
   ],
   "source": [
    "df = df_balanced\n",
    "print(df['Label'].value_counts())"
   ]
  },
  {
   "cell_type": "code",
   "execution_count": 29,
   "metadata": {
    "colab": {
     "base_uri": "https://localhost:8080/"
    },
    "id": "AsVySQhMCqWa",
    "outputId": "9ce2ca0e-5b95-489e-875e-15cefd2a2c20"
   },
   "outputs": [
    {
     "name": "stdout",
     "output_type": "stream",
     "text": [
      "                                         Pseudo_Text\n",
      "0  examin metabol lipid lipid lipid lipid lipid l...\n",
      "1  metabol metabol metabol metabol metabol metabo...\n",
      "2  compar method result 3 similar similar observ ...\n",
      "3  use studi develop develop 2 compar 6 6 3 3 p p...\n",
      "4  rat rat rat rat rat rat rat rat studi studi st...\n",
      "0    1\n",
      "1    1\n",
      "2    1\n",
      "3    1\n",
      "4    0\n",
      "Name: Label, dtype: int64\n"
     ]
    }
   ],
   "source": [
    "# Separate features and target\n",
    "X = df.drop(columns=['Label'])  # Assuming 'Label' is the target\n",
    "y = df['Label']\n",
    "\n",
    "print(X.head())\n",
    "print(y.head())\n"
   ]
  },
  {
   "cell_type": "code",
   "execution_count": 30,
   "metadata": {},
   "outputs": [
    {
     "name": "stdout",
     "output_type": "stream",
     "text": [
      "X_train shape: (9582, 200), y_train shape: (9582,)\n",
      "X_test shape: (2396, 200), y_test shape: (2396,)\n"
     ]
    }
   ],
   "source": [
    "# Check the shapes of the splits\n",
    "print(f'X_train shape: {x_train.shape}, y_train shape: {y_train.shape}')\n",
    "print(f'X_test shape: {x_test.shape}, y_test shape: {y_test.shape}')"
   ]
  },
  {
   "cell_type": "code",
   "execution_count": 31,
   "metadata": {
    "id": "eeSrbQA4CtN4"
   },
   "outputs": [
    {
     "name": "stdout",
     "output_type": "stream",
     "text": [
      "[ 90 140 216 216  85  85  28  43  78 130 130 219 219 219  11  11  55  55\n",
      "  55  55  55  55  55  55  55  55  55  55  55  55  55  55  55  55 189 189\n",
      " 221 221 375 375 375  20  57  57  57  45 429 429 429  54 381 381 381 358\n",
      " 358 358 129 129 129 129  98  98  98  98  98  98  98  98  98  98  98  98\n",
      "  98  88 295 295 295  49 386 386 386 160 160 160 146 146 146 146 146 146\n",
      " 146 229 229 229 242 242 242 176 176 176 176 176 236 236 236 236 315 315\n",
      " 315 315  40  40  93  93  93  93 255 255 255 255 255 255 255 255 255 255\n",
      " 255 255 255 255 255 255 255 255 255 255 255 255 255 197 197 197 197 197\n",
      " 197 197 197 197 197 197 197 197 197 197 197 197 197 197  23  23  23  23\n",
      "  23  23  23  23  23  23  23  23  23  23 104 104 104  50  50  50  50  73\n",
      "  73  73  73  73  73  73  73  73  73  73  73  73  73  73  73  73  73  73\n",
      " 316 316]\n"
     ]
    }
   ],
   "source": [
    "print(x_train[0])\n"
   ]
  },
  {
   "cell_type": "code",
   "execution_count": 32,
   "metadata": {
    "colab": {
     "base_uri": "https://localhost:8080/"
    },
    "id": "3OAqYWS7CtKf",
    "outputId": "8259e0f3-809b-47b0-c0f6-edae041897bd"
   },
   "outputs": [],
   "source": [
    "# # # Handle missing values (e.g., fill with the mean of each column)\n",
    "# # X = X.fillna(X.mean())\n",
    "\n",
    "# # Split the data into training and testing sets (80% train, 20% test)\n",
    "# x_train, x_test, y_train, y_test = train_test_split(X_np, y_np, test_size=0.2, random_state=42)\n",
    "\n",
    "# # Check the shapes of the splits\n",
    "# print(f'X_train shape: {x_train.shape}, y_train shape: {y_train.shape}')\n",
    "# print(f'X_test shape: {x_test.shape}, y_test shape: {y_test.shape}')"
   ]
  },
  {
   "cell_type": "code",
   "execution_count": 33,
   "metadata": {
    "colab": {
     "base_uri": "https://localhost:8080/"
    },
    "id": "UKsyy2IcCy5s",
    "outputId": "c8cbdb5c-5590-4361-95ca-4a25b30f9b73"
   },
   "outputs": [
    {
     "name": "stdout",
     "output_type": "stream",
     "text": [
      "<class 'numpy.ndarray'>\n"
     ]
    }
   ],
   "source": [
    "print(type(y_train))"
   ]
  },
  {
   "cell_type": "code",
   "execution_count": 34,
   "metadata": {
    "colab": {
     "base_uri": "https://localhost:8080/"
    },
    "id": "cs7B_nN-Cy2O",
    "outputId": "feae4702-e1d0-4851-951f-d72fd234d55a"
   },
   "outputs": [
    {
     "data": {
      "text/plain": [
       "2"
      ]
     },
     "execution_count": 34,
     "metadata": {},
     "output_type": "execute_result"
    }
   ],
   "source": [
    "y_train[0]"
   ]
  },
  {
   "cell_type": "code",
   "execution_count": 35,
   "metadata": {
    "colab": {
     "base_uri": "https://localhost:8080/"
    },
    "id": "-5SeUfmtCyy3",
    "outputId": "12d3c895-7c36-4b05-90fa-de738a914fe4"
   },
   "outputs": [
    {
     "name": "stdout",
     "output_type": "stream",
     "text": [
      "<class 'numpy.ndarray'>\n"
     ]
    }
   ],
   "source": [
    "print(type(y_test))"
   ]
  },
  {
   "cell_type": "code",
   "execution_count": 36,
   "metadata": {},
   "outputs": [
    {
     "name": "stdout",
     "output_type": "stream",
     "text": [
      "Unique y_train labels: {1, 2}\n",
      "Unique y_test labels: {1, 2}\n"
     ]
    }
   ],
   "source": [
    "print(\"Unique y_train labels:\", set(y_train))\n",
    "print(\"Unique y_test labels:\", set(y_test))\n"
   ]
  },
  {
   "cell_type": "code",
   "execution_count": 37,
   "metadata": {
    "id": "xQ7ozMuQCtH5"
   },
   "outputs": [
    {
     "name": "stdout",
     "output_type": "stream",
     "text": [
      "Train class balance: 64 64\n",
      "Test class balance: 64 64\n"
     ]
    }
   ],
   "source": [
    "import random\n",
    "\n",
    "selected_num = 128\n",
    "\n",
    "# Remap labels before any sampling\n",
    "y_train = [0 if y == 1 else 1 for y in y_train]\n",
    "y_test = [0 if y == 1 else 1 for y in y_test]\n",
    "\n",
    "# Now shuffle\n",
    "train_data = list(zip(x_train, y_train))\n",
    "test_data = list(zip(x_test, y_test))\n",
    "...\n",
    "\n",
    "# Shuffle data\n",
    "train_data = list(zip(x_train, y_train))\n",
    "test_data = list(zip(x_test, y_test))\n",
    "random.shuffle(train_data)\n",
    "random.shuffle(test_data)\n",
    "x_train_shuffled, y_train_shuffled = zip(*train_data)\n",
    "x_test_shuffled, y_test_shuffled = zip(*test_data)\n",
    "\n",
    "# Balanced sampling for train\n",
    "new_x_train = []\n",
    "new_y_train = []\n",
    "class_0_count = 0\n",
    "class_1_count = 0\n",
    "indx = 0\n",
    "\n",
    "while len(new_x_train) < selected_num and indx < len(x_train_shuffled):\n",
    "    label = y_train_shuffled[indx]\n",
    "    if label == 0 and class_0_count < selected_num // 2:\n",
    "        new_x_train.append(x_train_shuffled[indx])\n",
    "        new_y_train.append(label)\n",
    "        class_0_count += 1\n",
    "    elif label == 1 and class_1_count < selected_num // 2:\n",
    "        new_x_train.append(x_train_shuffled[indx])\n",
    "        new_y_train.append(label)\n",
    "        class_1_count += 1\n",
    "    indx += 1\n",
    "\n",
    "# Balanced sampling for test\n",
    "new_x_test = []\n",
    "new_y_test = []\n",
    "class_0_count = 0\n",
    "class_1_count = 0\n",
    "indx = 0\n",
    "\n",
    "while len(new_x_test) < selected_num and indx < len(x_test_shuffled):\n",
    "    label = y_test_shuffled[indx]\n",
    "    if label == 0 and class_0_count < selected_num // 2:\n",
    "        new_x_test.append(x_test_shuffled[indx])\n",
    "        new_y_test.append(label)\n",
    "        class_0_count += 1\n",
    "    elif label == 1 and class_1_count < selected_num // 2:\n",
    "        new_x_test.append(x_test_shuffled[indx])\n",
    "        new_y_test.append(label)\n",
    "        class_1_count += 1\n",
    "    indx += 1\n",
    "\n",
    "# Check results\n",
    "print(\"Train class balance:\", new_y_train.count(0), new_y_train.count(1))\n",
    "print(\"Test class balance:\", new_y_test.count(0), new_y_test.count(1))\n"
   ]
  },
  {
   "cell_type": "code",
   "execution_count": 38,
   "metadata": {},
   "outputs": [
    {
     "name": "stdout",
     "output_type": "stream",
     "text": [
      "Train class balance: 64 64\n",
      "Test class balance: 64 64\n"
     ]
    }
   ],
   "source": [
    "print(\"Train class balance:\", new_y_train.count(0), new_y_train.count(1))\n",
    "print(\"Test class balance:\", new_y_test.count(0), new_y_test.count(1))\n"
   ]
  },
  {
   "cell_type": "code",
   "execution_count": 39,
   "metadata": {
    "colab": {
     "base_uri": "https://localhost:8080/"
    },
    "id": "zFfB3t8rDAv_",
    "outputId": "75db4339-e773-4eed-df52-4d5b3b327683"
   },
   "outputs": [],
   "source": [
    "# print([len(str(x)) for x in new_x_train])  # Converts to string to avoid errors\n"
   ]
  },
  {
   "cell_type": "code",
   "execution_count": 40,
   "metadata": {
    "id": "n5O-yiTYDAsh"
   },
   "outputs": [
    {
     "name": "stdout",
     "output_type": "stream",
     "text": [
      "x_train length: 128\n",
      "x_test length: 128\n"
     ]
    }
   ],
   "source": [
    "x_train=np.array(new_x_train)#[:128]\n",
    "y_train=np.array(new_y_train)#[:128]\n",
    "\n",
    "x_test=np.array(new_x_test)#[:128]\n",
    "y_test=np.array(new_y_test)#[:128]\n",
    "\n",
    "print(\"x_train length:\", len(x_train))\n",
    "print(\"x_test length:\", len(x_test))\n"
   ]
  },
  {
   "cell_type": "code",
   "execution_count": 41,
   "metadata": {
    "id": "UxzjXem9DAp7"
   },
   "outputs": [
    {
     "name": "stdout",
     "output_type": "stream",
     "text": [
      "Maximum text: 200\n",
      "Minimum text: 200\n",
      "Mean text: 200.00\n",
      "\n",
      "Machine Readable text\n",
      "  Review Text: [110 165 165 165 458  28  28  28 187 187  69  69  76  76 130 138 138 138\n",
      " 289 289 168 168 168 168 168 189  95 135 135 135 135 135 135 135  59  59\n",
      "  59  59 147 147 147 375 375 124 124 254 254 481 481 481 481  35 170   9\n",
      "   9 354 354 115 115 204 204  65 263 263 263  89  54  54 397 397 363 363\n",
      " 200  67  32  38  38  38  38  38  38  88  36  36  36  36  36  36  49  49\n",
      "  49  49  49  49  49  49  49  49  49  49  49 268 382 382 382 382 382 382\n",
      " 382 382 382 382 382 382 382 386 386 336 336 344 344 352 401 401 356 356\n",
      " 356 356 356 136 174 174 109 413 413 182 182 392 392  40 207 207 207 207\n",
      "  12  12 158 158 158 303 303   0   0   0   0   0   0   0   0   0   0   0\n",
      "   0   0   0   0   0   0   0   0   0   0   0   0   0   0   0   0   0   0\n",
      "   0   0   0   0   0   0   0   0   0   0   0   0   0   0   0   0   0   0\n",
      "   0   0]\n",
      "  Review Class: 1\n",
      "\n",
      "Human Readable text\n",
      "  Review Text: loss manag manag manag hla induc induc induc test test concentr concentr fast fast glucos relat relat relat longterm longterm cholesterol cholesterol cholesterol cholesterol cholesterol analys death variabl variabl variabl variabl variabl variabl variabl muscl muscl muscl muscl consist consist consist approxim approxim evalu evalu year year coronari coronari coronari coronari hyperglycemia 24 use use genet genet durat durat 17 17 mass mortal mortal mortal appear role role transgen transgen total total number decreas normal oxid oxid oxid oxid oxid oxid high level level level level level level similar similar similar similar similar similar similar similar similar similar similar similar similar drug uptak uptak uptak uptak uptak uptak uptak uptak uptak uptak uptak uptak uptak autoimmun autoimmun risk risk particular particular liver earli earli growth growth growth growth growth independ fatti fatti weight multipl multipl plasma plasma linkag linkag protein induct induct induct induct retinopathi retinopathi influenc influenc influenc individu individu <PAD> <PAD> <PAD> <PAD> <PAD> <PAD> <PAD> <PAD> <PAD> <PAD> <PAD> <PAD> <PAD> <PAD> <PAD> <PAD> <PAD> <PAD> <PAD> <PAD> <PAD> <PAD> <PAD> <PAD> <PAD> <PAD> <PAD> <PAD> <PAD> <PAD> <PAD> <PAD> <PAD> <PAD> <PAD> <PAD> <PAD> <PAD> <PAD> <PAD> <PAD> <PAD> <PAD> <PAD> <PAD> <PAD> <PAD> <PAD> <PAD>\n",
      "  Review Class: Diabetes Mellitus Type 1\n"
     ]
    }
   ],
   "source": [
    "import numpy as np\n",
    "\n",
    "# STEP 1: Create column_dict with special tokens\n",
    "# If you already have a dictionary like {'the': 1, 'and': 2, ...}, load or define it here.\n",
    "# Example:\n",
    "# column_dict = {'the': 1, 'and': 2, 'a': 3, 'of': 4, 'to': 5, ...}\n",
    "\n",
    "# Shift existing indices to make room for special tokens\n",
    "column_dict = {k: v + 4 for k, v in column_dict.items()}  \n",
    "class_names = [\"Diabetes Mellitus, Experimental\", \"Diabetes Mellitus Type 1\", \"Diabetes Mellitus Type 2\"]\n",
    "\n",
    "# Add special tokens\n",
    "column_dict[\"<PAD>\"] = 0\n",
    "column_dict[\"<START>\"] = 1\n",
    "column_dict[\"<UNKNOWN>\"] = 2\n",
    "column_dict[\"<UNUSED>\"] = 3\n",
    "\n",
    "# Create reverse lookup dictionary\n",
    "reverse_column_dict = {v: k for k, v in column_dict.items()}\n",
    "\n",
    "# Function to decode list of token indices to human-readable text\n",
    "def decode_review(encoded_text):\n",
    "    return ' '.join([reverse_column_dict.get(i, \"<UNKNOWN>\") for i in encoded_text])\n",
    "\n",
    "# STEP 2: Analyze review lengths\n",
    "# Combine train and test reviews\n",
    "allreviews = np.concatenate((x_train, x_test), axis=0)\n",
    "\n",
    "# Print review length statistics\n",
    "print(\"Maximum text: {}\".format(len(max(allreviews, key=len))))\n",
    "print(\"Minimum text: {}\".format(len(min(allreviews, key=len))))\n",
    "result = [len(x) for x in allreviews]\n",
    "print(\"Mean text: {:.2f}\".format(np.mean(result)))\n",
    "\n",
    "# STEP 3: Print machine-readable and human-readable versions of reviews\n",
    "# Change index (e.g., 0 or 60) to inspect different examples\n",
    "index = 0\n",
    "\n",
    "print(\"\\nMachine Readable text\")\n",
    "print(\"  Review Text: \" + str(x_train[index]))\n",
    "print(\"  Review Class: \" + str(y_train[index]))\n",
    "\n",
    "print(\"\\nHuman Readable text\")\n",
    "print(\"  Review Text: \" + decode_review(x_train[index]))\n",
    "print(\"  Review Class: \" + class_names[y_train[index]])\n",
    "\n"
   ]
  },
  {
   "cell_type": "code",
   "execution_count": 42,
   "metadata": {
    "colab": {
     "base_uri": "https://localhost:8080/"
    },
    "id": "aja1Md5oDG-8",
    "outputId": "f8891865-efaf-4376-d42e-1c5ce9384701"
   },
   "outputs": [
    {
     "name": "stdout",
     "output_type": "stream",
     "text": [
      "Maximum text: 200\n",
      "Minimum text: 200\n",
      "Mean text length: 200.0\n",
      "\n",
      "Machine readable text\n",
      "  Review Text: [191 346  27  27 218  26  26  26  26 212 212  64  64  64  64  64 152 152\n",
      " 152 152 467 467 467 467 467 467  43  11  11  95  95 463  29  29  29 427\n",
      " 425  20  20 170   9   9   9   9   9   9   9   9   9 354 238 238 440 440\n",
      " 440  10  10 456 456 456  57  57  45 379 379 379 379 379 105 105 105 105\n",
      " 105 105 122 396 391 391 391 257 257 257 257 257 257  79 482 200  67 474\n",
      " 474 474 386 386 386 386 194 194 274 352 146 146 249 340 402 412 232 182\n",
      " 182 182 473 473 473 473 304 304 304 304 304 407 407 407 321 321 321 321\n",
      " 321 321 321 321 112 283 488 488 488 383 496 496 496 496 496 172   0   0\n",
      "   0   0   0   0   0   0   0   0   0   0   0   0   0   0   0   0   0   0\n",
      "   0   0   0   0   0   0   0   0   0   0   0   0   0   0   0   0   0   0\n",
      "   0   0   0   0   0   0   0   0   0   0   0   0   0   0   0   0   0   0\n",
      "   0   0]\n",
      "  Review class: 1\n",
      "\n",
      "Human Readable text\n",
      "  Review Text: loss manag manag manag hla induc induc induc test test concentr concentr fast fast glucos relat relat relat longterm longterm cholesterol cholesterol cholesterol cholesterol cholesterol analys death variabl variabl variabl variabl variabl variabl variabl muscl muscl muscl muscl consist consist consist approxim approxim evalu evalu year year coronari coronari coronari coronari hyperglycemia 24 use use genet genet durat durat 17 17 mass mortal mortal mortal appear role role transgen transgen total total number decreas normal oxid oxid oxid oxid oxid oxid high level level level level level level similar similar similar similar similar similar similar similar similar similar similar similar similar drug uptak uptak uptak uptak uptak uptak uptak uptak uptak uptak uptak uptak uptak autoimmun autoimmun risk risk particular particular liver earli earli growth growth growth growth growth independ fatti fatti weight multipl multipl plasma plasma linkag linkag protein induct induct induct induct retinopathi retinopathi influenc influenc influenc individu individu <PAD> <PAD> <PAD> <PAD> <PAD> <PAD> <PAD> <PAD> <PAD> <PAD> <PAD> <PAD> <PAD> <PAD> <PAD> <PAD> <PAD> <PAD> <PAD> <PAD> <PAD> <PAD> <PAD> <PAD> <PAD> <PAD> <PAD> <PAD> <PAD> <PAD> <PAD> <PAD> <PAD> <PAD> <PAD> <PAD> <PAD> <PAD> <PAD> <PAD> <PAD> <PAD> <PAD> <PAD> <PAD> <PAD> <PAD> <PAD> <PAD>\n",
      "  Review class: Diabetes Mellitus Type 1\n"
     ]
    }
   ],
   "source": [
    "\n",
    "# Concatonate test and training datasets\n",
    "allreviews = np.concatenate((x_train, x_test), axis=0)\n",
    "\n",
    "# Review lengths across test and training whole datasets\n",
    "print(\"Maximum text: {}\".format(len(max((allreviews), key=len))))\n",
    "print(\"Minimum text: {}\".format(len(min((allreviews), key=len))))\n",
    "result = [len(x) for x in allreviews]\n",
    "print(\"Mean text length: {}\".format(np.mean(result)))\n",
    "\n",
    "# Print a review and it's class as stored in the dataset. Replace the number\n",
    "# to select a different review.\n",
    "print(\"\")\n",
    "print(\"Machine readable text\")\n",
    "print(\"  Review Text: \" + str(x_train[60]))\n",
    "print(\"  Review class: \" + str(y_train[60]))\n",
    "\n",
    "# Print a review and it's class in human readable format. Replace the number\n",
    "# to select a different review.\n",
    "print(\"\")\n",
    "print(\"Human Readable text\")\n",
    "print(\"  Review Text: \" + decode_review(x_train[0]))\n",
    "print(\"  Review class: \" + class_names[y_train[0]])\n"
   ]
  },
  {
   "cell_type": "code",
   "execution_count": null,
   "metadata": {
    "colab": {
     "base_uri": "https://localhost:8080/"
    },
    "id": "oWrKiEerDG7g",
    "outputId": "94932d82-1def-426e-d62b-5abdd2401d38"
   },
   "outputs": [],
   "source": []
  },
  {
   "cell_type": "code",
   "execution_count": 43,
   "metadata": {
    "id": "mx6X4VyIDR26"
   },
   "outputs": [],
   "source": [
    "\n",
    "new_X_train=[]\n",
    "for seq in x_train:\n",
    "    a=torch.tensor(np.pi*(seq/1000-0.5))\n",
    "    new_X_train.append(torch.reshape(a, (10, 20)))\n",
    "\n",
    "new_y_train=[]\n",
    "for seq in y_train:\n",
    "    new_y_train.append(torch.tensor(seq))"
   ]
  },
  {
   "cell_type": "code",
   "execution_count": 44,
   "metadata": {},
   "outputs": [],
   "source": [
    "\n",
    "new_X_train=torch.stack(new_X_train)\n",
    "\n",
    "label=torch.stack(new_y_train)"
   ]
  },
  {
   "cell_type": "code",
   "execution_count": 45,
   "metadata": {},
   "outputs": [],
   "source": [
    "\n",
    "new_X_test=[]\n",
    "for seq in x_test:\n",
    "    a=torch.tensor(np.pi*(seq/1000-0.5))\n",
    "    new_X_test.append(torch.reshape(a, (10, 20)))\n",
    "\n",
    "new_y_test=[]\n",
    "for seq in y_test:\n",
    "    new_y_test.append(torch.tensor(seq))"
   ]
  },
  {
   "cell_type": "code",
   "execution_count": 46,
   "metadata": {},
   "outputs": [],
   "source": [
    "from qiskit import Aer\n"
   ]
  },
  {
   "cell_type": "code",
   "execution_count": 47,
   "metadata": {},
   "outputs": [],
   "source": [
    "# !pip3 install qiskit-aer\n"
   ]
  },
  {
   "cell_type": "code",
   "execution_count": 48,
   "metadata": {
    "id": "SL69XLGwDRzZ"
   },
   "outputs": [],
   "source": [
    "import torch\n",
    "import numpy as np\n",
    "import random\n",
    "import qiskit\n",
    "# Set seeds for reproducibility\n",
    "torch.manual_seed(42)\n",
    "np.random.seed(42)\n",
    "random.seed(42)\n",
    "\n",
    "# If using a GPU, ensure deterministic behavior\n",
    "torch.backends.cudnn.deterministic = True\n",
    "torch.backends.cudnn.benchmark = False\n",
    "\n",
    "from qiskit.utils import algorithm_globals\n",
    "algorithm_globals.random_seed = 42\n"
   ]
  },
  {
   "cell_type": "code",
   "execution_count": 49,
   "metadata": {
    "id": "pB5zOpZMDEhy"
   },
   "outputs": [],
   "source": [
    "import random\n",
    "class QSAL_qiskit(torch.nn.Module):\n",
    "    def __init__(self,S,n,Denc,D):\n",
    "        \"\"\"\n",
    "        # input: input data\n",
    "        # weight: trainable parameter\n",
    "        # n: # of of qubits\n",
    "        # d: embedding dimension which is equal to n(Denc+2)\n",
    "        # Denc: the # number of layers for encoding\n",
    "        # D: the # of layers of variational layers\n",
    "        # type \"K\": key, \"Q\": Query, \"V\": value\n",
    "        \"\"\"\n",
    "        super().__init__()\n",
    "        self.seq_num=S\n",
    "        # Reduced scale initialization\n",
    "        #################################################\n",
    "        self.init_params_Q = torch.nn.Parameter(torch.stack([(np.pi/8) * (2 * torch.randn(n*(D+2)) - 1) for _ in range(self.seq_num)]))\n",
    "        # self.init_params_Q=torch.nn.Parameter(torch.stack([(np.pi/4) * (2 * torch.randn(n*(D+2)) - 1) for _ in range(self.seq_num)]))\n",
    "        self.init_params_K=torch.nn.Parameter(torch.stack([(np.pi/4) * (2 * torch.randn(n*(D+2)) - 1) for _ in range(self.seq_num)]))\n",
    "        self.init_params_V=torch.nn.Parameter(torch.stack([(np.pi/4) * (2 * torch.randn(n*(D+2)) - 1) for _ in range(self.seq_num)]))\n",
    "        self.params_input=[ParameterVector('IN'+str(i),n*(Denc+2)) for i in range(self.seq_num)]\n",
    "        self.params_Q=[ParameterVector('Q'+str(i),n*(D+2)) for i in range(self.seq_num)]\n",
    "        self.params_K=[ParameterVector('K'+str(i),n*(D+2)) for i in range(self.seq_num)]\n",
    "        self.params_V=[ParameterVector('V'+str(i),n*(D+2)) for i in range(self.seq_num)]\n",
    "        self.num_q=n\n",
    "        self.Denc=Denc\n",
    "        self.D=D\n",
    "        self.d=n*(Denc+2)\n",
    "        self.bit_string_Z=SparsePauliOp.from_list([('I'*(self.num_q-1)+'Z', 1)])\n",
    "        self.pauli_strings=[]\n",
    "        for i in range(self.d):\n",
    "            string=['I']*self.num_q\n",
    "            while string==['I']*self.num_q:\n",
    "                for j in range(self.num_q):\n",
    "                    a=random.randint(0, 4)\n",
    "                    if a==0:\n",
    "                        continue\n",
    "                    elif a==1:\n",
    "                        string[j]='X'\n",
    "                    elif a==2:\n",
    "                        string[j]='Y'\n",
    "                    elif a==3:\n",
    "                        string[j]='Z'\n",
    "            self.pauli_strings.append(SparsePauliOp.from_list([(\"\".join(string), 1)]))\n",
    "\n",
    "        Q_qnn=[EstimatorQNN(circuit=self.QSAL_cir(\"Q\",i),observables=[self.bit_string_Z], input_params=self.params_input[i], weight_params=self.params_Q[i]) for i in range(self.seq_num)]\n",
    "        K_qnn=[EstimatorQNN(circuit=self.QSAL_cir(\"K\",i),observables=[self.bit_string_Z], input_params=self.params_input[i], weight_params=self.params_K[i]) for i in range(self.seq_num)]\n",
    "        V_qnn=[EstimatorQNN(circuit=self.QSAL_cir(\"V\",i),observables=self.pauli_strings, input_params=self.params_input[i], weight_params=self.params_V[i]) for i in range(self.seq_num)]\n",
    "\n",
    "        self.Q_models=[TorchConnector(Q_qnn[i], initial_weights=self.init_params_Q[i]) for i in range(self.seq_num)]\n",
    "        self.K_models=[TorchConnector(K_qnn[i], initial_weights=self.init_params_K[i]) for i in range(self.seq_num)]\n",
    "        self.V_models=[TorchConnector(V_qnn[i], initial_weights=self.init_params_V[i]) for i in range(self.seq_num)]\n",
    "\n",
    "    def QSAL_cir(self,type,indx):\n",
    "\n",
    "        qc=QuantumCircuit(self.num_q)\n",
    "        if type==\"Q\":\n",
    "            self.Feature_map(qc,self.params_input[indx])\n",
    "            self.ansatz(qc,self.params_Q[indx])\n",
    "\n",
    "        elif type==\"K\":\n",
    "            self.Feature_map(qc,self.params_input[indx])\n",
    "            self.ansatz(qc,self.params_K[indx])\n",
    "\n",
    "        elif type==\"V\":\n",
    "            self.Feature_map(qc,self.params_input[indx])\n",
    "            self.ansatz(qc,self.params_V[indx])\n",
    "\n",
    "        return qc\n",
    "\n",
    "    def Feature_map(self,qc,params):\n",
    "        indx=0\n",
    "        for j in range(self.num_q):\n",
    "            qc.rx(params[indx],j)\n",
    "            qc.ry(params[indx+1],j)\n",
    "            indx+=2\n",
    "        for i in range(self.Denc):\n",
    "            for j in range(self.num_q):\n",
    "                qc.cx(j,(j+1)%self.num_q)\n",
    "\n",
    "            for j in range(self.num_q):\n",
    "                #qc.rx(params[indx],j)\n",
    "                qc.ry(params[indx],j)\n",
    "                indx+=1\n",
    "\n",
    "\n",
    "    def ansatz(self,qc,params):\n",
    "        indx=0\n",
    "        for j in range(self.num_q):\n",
    "            qc.rx(params[indx],j)\n",
    "            qc.ry(params[indx+1],j)\n",
    "            indx+=2\n",
    "        for i in range(self.D):\n",
    "            for j in range(self.num_q):\n",
    "                qc.cx(j,(j+1)%self.num_q)\n",
    "\n",
    "            for j in range(self.num_q):\n",
    "                #qc.rx(params[indx],j)\n",
    "                qc.ry(params[indx],j)\n",
    "                indx+=1\n",
    "\n",
    "    def forward(self,input):\n",
    "\n",
    "        Q_output=torch.stack([self.Q_models[i](input[:,i]) for i in range(self.seq_num)])\n",
    "        K_output=torch.stack([self.K_models[i](input[:,i]) for i in range(self.seq_num)])\n",
    "        V_output=torch.stack([self.V_models[i](input[:,i]) for i in range(self.seq_num)])\n",
    "        batch_size=len(input)\n",
    "        Q_output=Q_output.transpose(0,2).repeat((self.seq_num,1,1))\n",
    "        K_output=K_output.transpose(0,2).repeat((self.seq_num,1,1)).transpose(0,2)\n",
    "        #print(V_output.size())\n",
    "        #Q_grid, K_grid=torch.meshgrid(Q_output, K_output, indexing='ij')\n",
    "        alpha=torch.exp(-(Q_output-K_output)**2)\n",
    "        alpha=alpha.transpose(0,1)\n",
    "        V_output=V_output.transpose(0,1)\n",
    "        output=[]\n",
    "\n",
    "        for i in range(self.seq_num):\n",
    "\n",
    "            Sum_a=torch.sum(alpha[:,i,:],-1)\n",
    "            div_sum_a=(1/Sum_a).repeat(self.d,self.seq_num,1).transpose(0,2)\n",
    "\n",
    "            Sum_w=torch.sum(alpha[:,:,i].repeat((self.d,1,1)).transpose(0,2).transpose(0,1)*V_output*div_sum_a,1)\n",
    "            output.append(Sum_w)\n",
    "        return input+torch.stack(output).transpose(0,1)\n",
    "\n",
    "\n",
    "class QSANN_qiskit(torch.nn.Module):\n",
    "    def __init__(self,S,n,Denc,D,num_layers):\n",
    "        \"\"\"\n",
    "        # input: input data\n",
    "        # weight: trainable parameter\n",
    "        # n: # of of qubits\n",
    "        # d: embedding dimension which is equal to n(Denc+2)\n",
    "        # Denc: the # number of layers for encoding\n",
    "        # D: the # of layers of variational layers\n",
    "        # type \"K\": key, \"Q\": Query, \"V\": value\n",
    "        \"\"\"\n",
    "        super().__init__()\n",
    "        self.qsal_lst=[QSAL_qiskit(S,n,Denc,D) for _ in range(num_layers)]\n",
    "        self.qnn=nn.Sequential(*self.qsal_lst)\n",
    "\n",
    "    def forward(self,input):\n",
    "        print(f\"Input shape: {input.shape}\")\n",
    "\n",
    "        return self.qnn(input)\n",
    "\n",
    "class QSANN_text_classifier(torch.nn.Module):\n",
    "    def __init__(self,S,n,Denc,D,num_layers):\n",
    "        \"\"\"\n",
    "        # input: input data\n",
    "        # weight: trainable parameter\n",
    "        # n: # of of qubits\n",
    "        # d: embedding dimension which is equal to n(Denc+2)\n",
    "        # Denc: the # number of layers for encoding\n",
    "        # D: the # of layers of variational layers\n",
    "        # type \"K\": key, \"Q\": Query, \"V\": value\n",
    "        \"\"\"\n",
    "        super().__init__()\n",
    "        self.Qnn=QSANN_qiskit(S,n,Denc,D,num_layers)\n",
    "    ##############################\n",
    "        # self.final_layer = nn.Sequential(\n",
    "        #             nn.Linear(n*(Denc+2)*S, 32),\n",
    "        #             nn.ReLU(),\n",
    "        #             nn.Dropout(0.3),\n",
    "        #             nn.Linear(32, 1)\n",
    "        #         )\n",
    "        self.final_layer=nn.Linear(n*(Denc+2)*S, 1)\n",
    "        self.final_layer=self.final_layer.float()\n",
    "\n",
    "    def forward(self,input):\n",
    "\n",
    "        x=self.Qnn(input)\n",
    "        x=torch.flatten(x,start_dim=1)\n",
    "\n",
    "        return torch.sigmoid(self.final_layer(x))\n",
    "\n"
   ]
  },
  {
   "cell_type": "code",
   "execution_count": null,
   "metadata": {
    "id": "tUjMM57WCGmC"
   },
   "outputs": [],
   "source": []
  },
  {
   "cell_type": "code",
   "execution_count": 50,
   "metadata": {
    "id": "EhXYmsaIDiy5"
   },
   "outputs": [],
   "source": [
    "# model=QSANN_text_classifier(5,2,1,1,1)"
   ]
  },
  {
   "cell_type": "code",
   "execution_count": 51,
   "metadata": {
    "id": "I74R7DecDivZ"
   },
   "outputs": [],
   "source": [
    "# optimizer = torch.optim.Adam(lr=0.03, params=model.parameters())"
   ]
  },
  {
   "cell_type": "code",
   "execution_count": 52,
   "metadata": {
    "id": "7a7WfH58DitB"
   },
   "outputs": [],
   "source": [
    "# trainable_params = sum(p.numel() for p in model.parameters() if p.requires_grad)\n",
    "# print(trainable_params)"
   ]
  },
  {
   "cell_type": "code",
   "execution_count": 53,
   "metadata": {
    "id": "lmAfWq6aDmiK"
   },
   "outputs": [],
   "source": [
    "criterion = torch.nn.CrossEntropyLoss()"
   ]
  },
  {
   "cell_type": "code",
   "execution_count": 54,
   "metadata": {
    "id": "EdcIsh0ADmej"
   },
   "outputs": [],
   "source": [
    "def binary_accuracy(preds, y):\n",
    "    \"\"\"\n",
    "    Returns accuracy per batch, i.e. if you get 8/10 right, this returns 0.8, NOT 8\n",
    "    \"\"\"\n",
    "\n",
    "    #round predictions to the closest integer\n",
    "    rounded_preds = (torch.round(torch.sign(preds-0.5))+1)//2\n",
    "    correct = (rounded_preds == y).float() #convert into float for division\n",
    "    acc = correct.sum() / len(correct)\n",
    "    return acc"
   ]
  },
  {
   "cell_type": "code",
   "execution_count": 55,
   "metadata": {
    "colab": {
     "base_uri": "https://localhost:8080/"
    },
    "id": "bSoXsf4dDsss",
    "outputId": "23b92711-556a-4f74-bd8e-29086261f588"
   },
   "outputs": [
    {
     "name": "stderr",
     "output_type": "stream",
     "text": [
      "/home/sabdh/.local/lib/python3.11/site-packages/qiskit_machine_learning/connectors/torch_connector.py:312: UserWarning: To copy construct from a tensor, it is recommended to use sourceTensor.clone().detach() or sourceTensor.clone().detach().requires_grad_(True), rather than torch.tensor(sourceTensor).\n",
      "  self._weights.data = torch.tensor(initial_weights, dtype=torch.float)\n"
     ]
    }
   ],
   "source": [
    "# In your model initialization, S should equal 25 (sequence length)\n",
    "# and n*(Denc+2) should equal 20 (feature dimension)\n",
    "\n",
    "# Example:\n",
    "S = 25  # Sequence number - should match your input sequence length\n",
    "# n = 2   # Number of qubits\n",
    "# Denc = 8  # Should be set so that n*(Denc+2) = 20\n",
    "# D = 2   # Number of variational layers\n",
    "# num_layers = 1  # Number of QSANN layers\n",
    "\n",
    "# # This should satisfy: n*(Denc+2) = 20, so we get:\n",
    "# # 2*(8+2) = 2*10 = 20\n",
    "\n",
    "# model = QSANN_text_classifier(S=S, n=n, Denc=Denc, D=D, num_layers=num_layers)\n",
    "model = QSANN_text_classifier(10,2,8,1,1)"
   ]
  },
  {
   "cell_type": "code",
   "execution_count": 56,
   "metadata": {
    "id": "UX_CAv3AD0Z0"
   },
   "outputs": [],
   "source": [
    "optimizer = torch.optim.Adam(lr=0.005, params=model.parameters())\n",
    "criterion = torch.nn.CrossEntropyLoss()"
   ]
  },
  {
   "cell_type": "code",
   "execution_count": 57,
   "metadata": {
    "colab": {
     "base_uri": "https://localhost:8080/"
    },
    "id": "dCxYUdXxD3XI",
    "outputId": "e0be9202-7bae-4caf-85be-871342cc9bcb"
   },
   "outputs": [
    {
     "name": "stdout",
     "output_type": "stream",
     "text": [
      "381\n"
     ]
    }
   ],
   "source": [
    "trainable_params = sum(p.numel() for p in model.parameters() if p.requires_grad)\n",
    "print(trainable_params)"
   ]
  },
  {
   "cell_type": "code",
   "execution_count": 58,
   "metadata": {
    "colab": {
     "base_uri": "https://localhost:8080/"
    },
    "id": "HAAxzbnbD3Oa",
    "outputId": "f215d4e1-8e32-48ba-aed9-faeb65f89295"
   },
   "outputs": [
    {
     "data": {
      "text/plain": [
       "128"
      ]
     },
     "execution_count": 58,
     "metadata": {},
     "output_type": "execute_result"
    }
   ],
   "source": [
    "new_X_train.shape[0]  # Number of training samples"
   ]
  },
  {
   "cell_type": "code",
   "execution_count": 59,
   "metadata": {
    "id": "M--N6ZojXp-z"
   },
   "outputs": [],
   "source": [
    "import torch\n",
    "import os"
   ]
  },
  {
   "cell_type": "code",
   "execution_count": 60,
   "metadata": {},
   "outputs": [],
   "source": [
    "# Make sure everything is tensor first\n",
    "if isinstance(new_X_train, list):\n",
    "    new_X_train = torch.stack(new_X_train)\n",
    "\n",
    "if isinstance(new_y_train, list):\n",
    "    new_y_train = torch.stack(new_y_train)\n",
    "\n",
    "if isinstance(new_X_test, list):\n",
    "    new_X_val = torch.stack(new_X_test)\n",
    "else:\n",
    "    new_X_val = new_X_test\n",
    "\n",
    "if isinstance(new_y_test, list):\n",
    "    new_y_val = torch.stack(new_y_test)\n",
    "else:\n",
    "    new_y_val = new_y_test\n"
   ]
  },
  {
   "cell_type": "code",
   "execution_count": 61,
   "metadata": {},
   "outputs": [
    {
     "name": "stdout",
     "output_type": "stream",
     "text": [
      "Input shape: torch.Size([32, 10, 20])\n",
      "Input shape: torch.Size([32, 10, 20])\n",
      "Input shape: torch.Size([32, 10, 20])\n",
      "Input shape: torch.Size([32, 10, 20])\n",
      "Input shape: torch.Size([32, 10, 20])\n",
      "Input shape: torch.Size([32, 10, 20])\n",
      "Input shape: torch.Size([32, 10, 20])\n",
      "Input shape: torch.Size([32, 10, 20])\n",
      "Epoch 1: Train Loss=0.7606, Train Acc=0.4609, Val Loss=0.7045, Val Acc=0.5234\n",
      "Input shape: torch.Size([32, 10, 20])\n",
      "Input shape: torch.Size([32, 10, 20])\n",
      "Input shape: torch.Size([32, 10, 20])\n",
      "Input shape: torch.Size([32, 10, 20])\n",
      "Input shape: torch.Size([32, 10, 20])\n",
      "Input shape: torch.Size([32, 10, 20])\n",
      "Input shape: torch.Size([32, 10, 20])\n",
      "Input shape: torch.Size([32, 10, 20])\n",
      "Epoch 2: Train Loss=0.6653, Train Acc=0.5547, Val Loss=0.6979, Val Acc=0.4844\n",
      "Input shape: torch.Size([32, 10, 20])\n",
      "Input shape: torch.Size([32, 10, 20])\n",
      "Input shape: torch.Size([32, 10, 20])\n",
      "Input shape: torch.Size([32, 10, 20])\n",
      "Input shape: torch.Size([32, 10, 20])\n",
      "Input shape: torch.Size([32, 10, 20])\n",
      "Input shape: torch.Size([32, 10, 20])\n",
      "Input shape: torch.Size([32, 10, 20])\n",
      "Epoch 3: Train Loss=0.6547, Train Acc=0.6016, Val Loss=0.6482, Val Acc=0.6719\n",
      "Input shape: torch.Size([32, 10, 20])\n",
      "Input shape: torch.Size([32, 10, 20])\n",
      "Input shape: torch.Size([32, 10, 20])\n",
      "Input shape: torch.Size([32, 10, 20])\n",
      "Input shape: torch.Size([32, 10, 20])\n",
      "Input shape: torch.Size([32, 10, 20])\n",
      "Input shape: torch.Size([32, 10, 20])\n",
      "Input shape: torch.Size([32, 10, 20])\n",
      "Epoch 4: Train Loss=0.6064, Train Acc=0.6953, Val Loss=0.6367, Val Acc=0.6719\n",
      "Input shape: torch.Size([32, 10, 20])\n",
      "Input shape: torch.Size([32, 10, 20])\n",
      "Input shape: torch.Size([32, 10, 20])\n",
      "Input shape: torch.Size([32, 10, 20])\n",
      "Input shape: torch.Size([32, 10, 20])\n",
      "Input shape: torch.Size([32, 10, 20])\n",
      "Input shape: torch.Size([32, 10, 20])\n",
      "Input shape: torch.Size([32, 10, 20])\n",
      "Epoch 5: Train Loss=0.5702, Train Acc=0.7812, Val Loss=0.6313, Val Acc=0.6250\n",
      "Input shape: torch.Size([32, 10, 20])\n",
      "Input shape: torch.Size([32, 10, 20])\n",
      "Input shape: torch.Size([32, 10, 20])\n",
      "Input shape: torch.Size([32, 10, 20])\n",
      "Input shape: torch.Size([32, 10, 20])\n",
      "Input shape: torch.Size([32, 10, 20])\n",
      "Input shape: torch.Size([32, 10, 20])\n",
      "Input shape: torch.Size([32, 10, 20])\n",
      "Epoch 6: Train Loss=0.5518, Train Acc=0.7188, Val Loss=0.6100, Val Acc=0.7422\n",
      "Input shape: torch.Size([32, 10, 20])\n",
      "Input shape: torch.Size([32, 10, 20])\n",
      "Input shape: torch.Size([32, 10, 20])\n",
      "Input shape: torch.Size([32, 10, 20])\n",
      "Input shape: torch.Size([32, 10, 20])\n",
      "Input shape: torch.Size([32, 10, 20])\n",
      "Input shape: torch.Size([32, 10, 20])\n",
      "Input shape: torch.Size([32, 10, 20])\n",
      "Epoch 7: Train Loss=0.5319, Train Acc=0.7656, Val Loss=0.6054, Val Acc=0.6953\n",
      "Input shape: torch.Size([32, 10, 20])\n",
      "Input shape: torch.Size([32, 10, 20])\n",
      "Input shape: torch.Size([32, 10, 20])\n",
      "Input shape: torch.Size([32, 10, 20])\n",
      "Input shape: torch.Size([32, 10, 20])\n",
      "Input shape: torch.Size([32, 10, 20])\n",
      "Input shape: torch.Size([32, 10, 20])\n",
      "Input shape: torch.Size([32, 10, 20])\n",
      "Epoch 8: Train Loss=0.5063, Train Acc=0.7891, Val Loss=0.5973, Val Acc=0.7422\n",
      "Input shape: torch.Size([32, 10, 20])\n",
      "Input shape: torch.Size([32, 10, 20])\n",
      "Input shape: torch.Size([32, 10, 20])\n",
      "Input shape: torch.Size([32, 10, 20])\n",
      "Input shape: torch.Size([32, 10, 20])\n",
      "Input shape: torch.Size([32, 10, 20])\n",
      "Input shape: torch.Size([32, 10, 20])\n",
      "Input shape: torch.Size([32, 10, 20])\n",
      "Epoch 9: Train Loss=0.4955, Train Acc=0.7656, Val Loss=0.5938, Val Acc=0.7344\n",
      "Input shape: torch.Size([32, 10, 20])\n",
      "Input shape: torch.Size([32, 10, 20])\n",
      "Input shape: torch.Size([32, 10, 20])\n",
      "Input shape: torch.Size([32, 10, 20])\n",
      "Input shape: torch.Size([32, 10, 20])\n",
      "Input shape: torch.Size([32, 10, 20])\n",
      "Input shape: torch.Size([32, 10, 20])\n",
      "Input shape: torch.Size([32, 10, 20])\n",
      "Epoch 10: Train Loss=0.4833, Train Acc=0.7656, Val Loss=0.5885, Val Acc=0.7344\n",
      "Input shape: torch.Size([32, 10, 20])\n",
      "Input shape: torch.Size([32, 10, 20])\n",
      "Input shape: torch.Size([32, 10, 20])\n",
      "Input shape: torch.Size([32, 10, 20])\n",
      "Input shape: torch.Size([32, 10, 20])\n",
      "Input shape: torch.Size([32, 10, 20])\n",
      "Input shape: torch.Size([32, 10, 20])\n",
      "Input shape: torch.Size([32, 10, 20])\n",
      "Epoch 11: Train Loss=0.4703, Train Acc=0.7734, Val Loss=0.5863, Val Acc=0.7344\n",
      "Input shape: torch.Size([32, 10, 20])\n",
      "Input shape: torch.Size([32, 10, 20])\n",
      "Input shape: torch.Size([32, 10, 20])\n",
      "Input shape: torch.Size([32, 10, 20])\n",
      "Input shape: torch.Size([32, 10, 20])\n",
      "Input shape: torch.Size([32, 10, 20])\n",
      "Input shape: torch.Size([32, 10, 20])\n",
      "Input shape: torch.Size([32, 10, 20])\n",
      "Epoch 00012: reducing learning rate of group 0 to 2.5000e-03.\n",
      "Epoch 12: Train Loss=0.4661, Train Acc=0.7969, Val Loss=0.5845, Val Acc=0.7344\n",
      "Input shape: torch.Size([32, 10, 20])\n",
      "Input shape: torch.Size([32, 10, 20])\n",
      "Input shape: torch.Size([32, 10, 20])\n",
      "Input shape: torch.Size([32, 10, 20])\n",
      "Input shape: torch.Size([32, 10, 20])\n",
      "Input shape: torch.Size([32, 10, 20])\n",
      "Input shape: torch.Size([32, 10, 20])\n",
      "Input shape: torch.Size([32, 10, 20])\n",
      "Epoch 13: Train Loss=0.4543, Train Acc=0.7891, Val Loss=0.5859, Val Acc=0.7266\n",
      "Input shape: torch.Size([32, 10, 20])\n",
      "Input shape: torch.Size([32, 10, 20])\n",
      "Input shape: torch.Size([32, 10, 20])\n",
      "Input shape: torch.Size([32, 10, 20])\n",
      "Input shape: torch.Size([32, 10, 20])\n",
      "Input shape: torch.Size([32, 10, 20])\n",
      "Input shape: torch.Size([32, 10, 20])\n",
      "Input shape: torch.Size([32, 10, 20])\n",
      "Epoch 14: Train Loss=0.4510, Train Acc=0.8125, Val Loss=0.5834, Val Acc=0.7266\n",
      "Input shape: torch.Size([32, 10, 20])\n",
      "Input shape: torch.Size([32, 10, 20])\n",
      "Input shape: torch.Size([32, 10, 20])\n",
      "Input shape: torch.Size([32, 10, 20])\n",
      "Input shape: torch.Size([32, 10, 20])\n",
      "Input shape: torch.Size([32, 10, 20])\n",
      "Input shape: torch.Size([32, 10, 20])\n",
      "Input shape: torch.Size([32, 10, 20])\n",
      "Epoch 15: Train Loss=0.4476, Train Acc=0.8047, Val Loss=0.5833, Val Acc=0.7266\n",
      "Input shape: torch.Size([32, 10, 20])\n",
      "Input shape: torch.Size([32, 10, 20])\n",
      "Input shape: torch.Size([32, 10, 20])\n",
      "Input shape: torch.Size([32, 10, 20])\n",
      "Input shape: torch.Size([32, 10, 20])\n",
      "Input shape: torch.Size([32, 10, 20])\n",
      "Input shape: torch.Size([32, 10, 20])\n",
      "Input shape: torch.Size([32, 10, 20])\n",
      "Epoch 16: Train Loss=0.4421, Train Acc=0.8047, Val Loss=0.5826, Val Acc=0.7344\n",
      "Early stopping triggered at epoch 16\n",
      "Total training time: 187.30 minutes\n"
     ]
    }
   ],
   "source": [
    "import time\n",
    "import torch\n",
    "import torch.nn as nn\n",
    "from torch.utils.data import TensorDataset, DataLoader\n",
    "from tqdm import tqdm\n",
    "\n",
    "# Set device\n",
    "device = torch.device(\"cuda\" if torch.cuda.is_available() else \"cpu\")\n",
    "model.to(device)\n",
    "\n",
    "# Prepare data\n",
    "# new_X_train = torch.stack(new_X_train)\n",
    "# label = torch.stack(new_y_train)\n",
    "\n",
    "new_X_val = torch.stack(new_X_test)   # Use your test set as validation set\n",
    "new_y_val = torch.stack(new_y_test)\n",
    "\n",
    "\n",
    "# Dataloaders\n",
    "batch_size = 32\n",
    "\n",
    "train_dataset = TensorDataset(new_X_train, label)\n",
    "train_loader = DataLoader(train_dataset, batch_size=batch_size, shuffle=True)\n",
    "\n",
    "val_dataset = TensorDataset(new_X_val, new_y_val)\n",
    "val_loader = DataLoader(val_dataset, batch_size=batch_size, shuffle=False)\n",
    "\n",
    "# Loss, Optimizer, Scheduler\n",
    "criterion = nn.BCELoss()\n",
    "optimizer = torch.optim.Adam(model.parameters(), lr=0.005)\n",
    "scheduler = torch.optim.lr_scheduler.ReduceLROnPlateau(optimizer, mode='max', patience=5, factor=0.5, verbose=True)\n",
    "\n",
    "# Training loop\n",
    "n_epochs = 100\n",
    "patience = 10\n",
    "best_val_acc = 0\n",
    "epochs_no_improve = 0\n",
    "\n",
    "def binary_accuracy(preds, y):\n",
    "    # For BCELoss outputs\n",
    "    rounded_preds = torch.round(preds)\n",
    "    correct = (rounded_preds == y).float()\n",
    "    acc = correct.sum() / len(correct)\n",
    "    return acc\n",
    "\n",
    "start_time = time.time()\n",
    "\n",
    "for epoch in range(n_epochs):\n",
    "    model.train()\n",
    "    train_loss = 0\n",
    "    train_acc = 0\n",
    "\n",
    "    for X_batch, y_batch in train_loader:\n",
    "        X_batch, y_batch = X_batch.to(device), y_batch.to(device)\n",
    "\n",
    "        optimizer.zero_grad()\n",
    "        predictions = model(X_batch.float()).squeeze(1)\n",
    "        loss = criterion(predictions, y_batch.float())\n",
    "\n",
    "        loss.backward()\n",
    "        optimizer.step()\n",
    "\n",
    "        train_loss += loss.item()\n",
    "        train_acc += binary_accuracy(predictions, y_batch)\n",
    "\n",
    "    train_loss /= len(train_loader)\n",
    "    train_acc /= len(train_loader)\n",
    "\n",
    "    # Validation\n",
    "    model.eval()\n",
    "    val_acc = 0\n",
    "    val_loss = 0\n",
    "    with torch.no_grad():\n",
    "        for X_val, y_val in val_loader:\n",
    "            X_val, y_val = X_val.to(device), y_val.to(device)\n",
    "            preds = model(X_val.float()).squeeze(1)\n",
    "            loss = criterion(preds, y_val.float())\n",
    "            val_loss += loss.item()\n",
    "            val_acc += binary_accuracy(preds, y_val)\n",
    "\n",
    "    val_loss /= len(val_loader)\n",
    "    val_acc /= len(val_loader)\n",
    "\n",
    "    scheduler.step(val_acc)\n",
    "\n",
    "    print(f\"Epoch {epoch+1}: Train Loss={train_loss:.4f}, Train Acc={train_acc:.4f}, Val Loss={val_loss:.4f}, Val Acc={val_acc:.4f}\")\n",
    "\n",
    "    # Early stopping\n",
    "    if val_acc > best_val_acc:\n",
    "        best_val_acc = val_acc\n",
    "        epochs_no_improve = 0\n",
    "        torch.save(model.state_dict(), 'best_model_3.pt')  # save the best model\n",
    "    else:\n",
    "        epochs_no_improve += 1\n",
    "\n",
    "    if epochs_no_improve >= patience:\n",
    "        print(f\"Early stopping triggered at epoch {epoch+1}\")\n",
    "        break\n",
    "\n",
    "total_time = time.time() - start_time\n",
    "print(f\"Total training time: {total_time/60:.2f} minutes\")\n"
   ]
  },
  {
   "cell_type": "code",
   "execution_count": 62,
   "metadata": {},
   "outputs": [],
   "source": [
    "path ='take_2'"
   ]
  },
  {
   "cell_type": "code",
   "execution_count": 63,
   "metadata": {},
   "outputs": [],
   "source": [
    "\n",
    "file_name=path+'m_3'\n",
    "torch.save(model.state_dict(),file_name)"
   ]
  },
  {
   "cell_type": "code",
   "execution_count": 64,
   "metadata": {},
   "outputs": [
    {
     "name": "stdout",
     "output_type": "stream",
     "text": [
      "Train input shape: torch.Size([128, 10, 20])\n",
      "Test input shape: torch.Size([128, 10, 20])\n",
      "Train input dtype: torch.float64\n",
      "Test input dtype: torch.float64\n",
      "Train input device: cpu\n",
      "Test input device: cpu\n",
      "Train input min/max: -1.5707963267948966 0.003141592653589796\n",
      "Test input min/max: -1.5707963267948966 -0.003141592653589796\n"
     ]
    }
   ],
   "source": [
    "new_X_test = torch.stack(new_X_test)  # Shape: (num_samples, 10, 20)\n",
    "new_y_test = torch.tensor(new_y_test)  # Automatically stacks scalar tensors\n",
    "\n",
    "\n",
    "# Check shapes\n",
    "print(\"Train input shape:\", new_X_train.shape)\n",
    "print(\"Test input shape:\", new_X_test.shape)\n",
    "\n",
    "# Check data types\n",
    "print(\"Train input dtype:\", new_X_train.dtype)\n",
    "print(\"Test input dtype:\", new_X_test.dtype)\n",
    "\n",
    "# Check devices\n",
    "print(\"Train input device:\", new_X_train.device)\n",
    "print(\"Test input device:\", new_X_test.device)\n",
    "\n",
    "# Check value ranges (optional but helpful)\n",
    "print(\"Train input min/max:\", new_X_train.min().item(), new_X_train.max().item())\n",
    "print(\"Test input min/max:\", new_X_test.min().item(), new_X_test.max().item())"
   ]
  },
  {
   "cell_type": "code",
   "execution_count": 65,
   "metadata": {},
   "outputs": [
    {
     "ename": "TypeError",
     "evalue": "stack(): argument 'tensors' (position 1) must be tuple of Tensors, not Tensor",
     "output_type": "error",
     "traceback": [
      "\u001b[31m---------------------------------------------------------------------------\u001b[39m",
      "\u001b[31mTypeError\u001b[39m                                 Traceback (most recent call last)",
      "\u001b[36mCell\u001b[39m\u001b[36m \u001b[39m\u001b[32mIn[65]\u001b[39m\u001b[32m, line 1\u001b[39m\n\u001b[32m----> \u001b[39m\u001b[32m1\u001b[39m new_X_test = \u001b[43mtorch\u001b[49m\u001b[43m.\u001b[49m\u001b[43mstack\u001b[49m\u001b[43m(\u001b[49m\u001b[43mnew_X_test\u001b[49m\u001b[43m)\u001b[49m  \u001b[38;5;66;03m# Shape: (num_samples, 10, 20)\u001b[39;00m\n\u001b[32m      2\u001b[39m new_y_test = torch.tensor(new_y_test)  \u001b[38;5;66;03m# Automatically stacks scalar tensors\u001b[39;00m\n",
      "\u001b[31mTypeError\u001b[39m: stack(): argument 'tensors' (position 1) must be tuple of Tensors, not Tensor"
     ]
    }
   ],
   "source": [
    "new_X_test = torch.stack(new_X_test)  # Shape: (num_samples, 10, 20)\n",
    "new_y_test = torch.tensor(new_y_test)  # Automatically stacks scalar tensors\n"
   ]
  },
  {
   "cell_type": "code",
   "execution_count": 66,
   "metadata": {},
   "outputs": [
    {
     "name": "stdout",
     "output_type": "stream",
     "text": [
      "Train input shape: torch.Size([128, 10, 20])\n",
      "Test input shape: torch.Size([128, 10, 20])\n",
      "Train input dtype: torch.float64\n",
      "Test input dtype: torch.float64\n",
      "Train input device: cpu\n",
      "Test input device: cpu\n",
      "Train input min/max: -1.5707963267948966 0.003141592653589796\n",
      "Test input min/max: -1.5707963267948966 -0.003141592653589796\n"
     ]
    }
   ],
   "source": [
    "# Check shapes\n",
    "print(\"Train input shape:\", new_X_train.shape)\n",
    "print(\"Test input shape:\", new_X_test.shape)\n",
    "\n",
    "# Check data types\n",
    "print(\"Train input dtype:\", new_X_train.dtype)\n",
    "print(\"Test input dtype:\", new_X_test.dtype)\n",
    "\n",
    "# Check devices\n",
    "print(\"Train input device:\", new_X_train.device)\n",
    "print(\"Test input device:\", new_X_test.device)\n",
    "\n",
    "# Check value ranges (optional but helpful)\n",
    "print(\"Train input min/max:\", new_X_train.min().item(), new_X_train.max().item())\n",
    "print(\"Test input min/max:\", new_X_test.min().item(), new_X_test.max().item())\n"
   ]
  },
  {
   "cell_type": "code",
   "execution_count": 67,
   "metadata": {},
   "outputs": [
    {
     "data": {
      "text/plain": [
       "QSANN_text_classifier(\n",
       "  (Qnn): QSANN_qiskit(\n",
       "    (qnn): Sequential(\n",
       "      (0): QSAL_qiskit()\n",
       "    )\n",
       "  )\n",
       "  (final_layer): Linear(in_features=200, out_features=1, bias=True)\n",
       ")"
      ]
     },
     "execution_count": 67,
     "metadata": {},
     "output_type": "execute_result"
    }
   ],
   "source": [
    "# Load the best saved model\n",
    "model.load_state_dict(torch.load('best_model_3.pt'))\n",
    "model.to(device)  # (in case you need to move it back to the correct device)\n",
    "model.eval()      # always eval mode for testing\n"
   ]
  },
  {
   "cell_type": "code",
   "execution_count": 68,
   "metadata": {},
   "outputs": [
    {
     "name": "stdout",
     "output_type": "stream",
     "text": [
      "Input shape: torch.Size([32, 10, 20])\n",
      "Input shape: torch.Size([32, 10, 20])\n",
      "Input shape: torch.Size([32, 10, 20])\n",
      "Input shape: torch.Size([32, 10, 20])\n",
      "Run 1: Test Accuracy = 0.6953\n",
      "Input shape: torch.Size([32, 10, 20])\n",
      "Input shape: torch.Size([32, 10, 20])\n",
      "Input shape: torch.Size([32, 10, 20])\n",
      "Input shape: torch.Size([32, 10, 20])\n",
      "Run 2: Test Accuracy = 0.6875\n",
      "Input shape: torch.Size([32, 10, 20])\n",
      "Input shape: torch.Size([32, 10, 20])\n",
      "Input shape: torch.Size([32, 10, 20])\n",
      "Input shape: torch.Size([32, 10, 20])\n",
      "Run 3: Test Accuracy = 0.7266\n",
      "Input shape: torch.Size([32, 10, 20])\n",
      "Input shape: torch.Size([32, 10, 20])\n",
      "Input shape: torch.Size([32, 10, 20])\n",
      "Input shape: torch.Size([32, 10, 20])\n",
      "Run 4: Test Accuracy = 0.7344\n",
      "Input shape: torch.Size([32, 10, 20])\n",
      "Input shape: torch.Size([32, 10, 20])\n",
      "Input shape: torch.Size([32, 10, 20])\n",
      "Input shape: torch.Size([32, 10, 20])\n",
      "Run 5: Test Accuracy = 0.7109\n",
      "Input shape: torch.Size([32, 10, 20])\n",
      "Input shape: torch.Size([32, 10, 20])\n",
      "Input shape: torch.Size([32, 10, 20])\n",
      "Input shape: torch.Size([32, 10, 20])\n",
      "Run 6: Test Accuracy = 0.6797\n",
      "Input shape: torch.Size([32, 10, 20])\n",
      "Input shape: torch.Size([32, 10, 20])\n",
      "Input shape: torch.Size([32, 10, 20])\n",
      "Input shape: torch.Size([32, 10, 20])\n",
      "Run 7: Test Accuracy = 0.6875\n",
      "Input shape: torch.Size([32, 10, 20])\n",
      "Input shape: torch.Size([32, 10, 20])\n",
      "Input shape: torch.Size([32, 10, 20])\n",
      "Input shape: torch.Size([32, 10, 20])\n",
      "Run 8: Test Accuracy = 0.6875\n",
      "Input shape: torch.Size([32, 10, 20])\n",
      "Input shape: torch.Size([32, 10, 20])\n",
      "Input shape: torch.Size([32, 10, 20])\n",
      "Input shape: torch.Size([32, 10, 20])\n",
      "Run 9: Test Accuracy = 0.7109\n",
      "Input shape: torch.Size([32, 10, 20])\n",
      "Input shape: torch.Size([32, 10, 20])\n",
      "Input shape: torch.Size([32, 10, 20])\n",
      "Input shape: torch.Size([32, 10, 20])\n",
      "Run 10: Test Accuracy = 0.6797\n",
      "\n",
      "Average Test Accuracy over 10 runs: 0.7000\n",
      "Max Accuracy: 0.7344, Min Accuracy: 0.6797\n"
     ]
    }
   ],
   "source": [
    "import torch\n",
    "from torch.utils.data import DataLoader, TensorDataset\n",
    "\n",
    "device = torch.device(\"cuda\" if torch.cuda.is_available() else \"cpu\")\n",
    "\n",
    "# Ensure test data is properly stacked\n",
    "if isinstance(new_X_test, list):\n",
    "    new_X_test = torch.stack(new_X_test)\n",
    "if isinstance(new_y_test, list):\n",
    "    new_y_test = torch.stack(new_y_test)\n",
    "\n",
    "# Create the DataLoader\n",
    "test_loader = torch.utils.data.DataLoader(\n",
    "    torch.utils.data.TensorDataset(new_X_test, new_y_test),\n",
    "    batch_size=32,\n",
    "    shuffle=False\n",
    ")\n",
    "\n",
    "# Define the test accuracy function\n",
    "def test_accuracy(model, test_loader, device):\n",
    "    model.eval()\n",
    "    total = 0\n",
    "    correct = 0\n",
    "\n",
    "    with torch.no_grad():\n",
    "        for inputs, labels in test_loader:\n",
    "            inputs = inputs.to(device).float()\n",
    "            labels = labels.to(device).float()\n",
    "\n",
    "            outputs = model(inputs).squeeze(1)\n",
    "            preds = torch.round(outputs)\n",
    "\n",
    "            correct += (preds == labels).sum().item()\n",
    "            total += labels.size(0)\n",
    "\n",
    "    return correct / total\n",
    "\n",
    "accuracies = []\n",
    "\n",
    "# Loop to reload model and test each time\n",
    "for run in range(10):\n",
    "    # Re-load the model\n",
    "    model = QSANN_text_classifier(10,2,8,1,1)  # instantiate your model class fresh each time\n",
    "    model.load_state_dict(torch.load('best_model_3.pt', map_location=device))\n",
    "    model.to(device)\n",
    "    model.eval()\n",
    "\n",
    "    # Test the model\n",
    "    acc = test_accuracy(model, test_loader, device)\n",
    "    accuracies.append(acc)\n",
    "    print(f\"Run {run+1}: Test Accuracy = {acc:.4f}\")\n",
    "\n",
    "# Final statistics\n",
    "print(f\"\\nAverage Test Accuracy over 10 runs: {sum(accuracies)/len(accuracies):.4f}\")\n",
    "print(f\"Max Accuracy: {max(accuracies):.4f}, Min Accuracy: {min(accuracies):.4f}\")\n"
   ]
  },
  {
   "cell_type": "code",
   "execution_count": 69,
   "metadata": {},
   "outputs": [
    {
     "name": "stdout",
     "output_type": "stream",
     "text": [
      "Input shape: torch.Size([32, 10, 20])\n",
      "Input shape: torch.Size([32, 10, 20])\n",
      "Input shape: torch.Size([32, 10, 20])\n",
      "Input shape: torch.Size([32, 10, 20])\n"
     ]
    },
    {
     "data": {
      "image/png": "[encoded data removed]",
      "text/plain": [
       "<Figure size 640x480 with 2 Axes>"
      ]
     },
     "metadata": {},
     "output_type": "display_data"
    }
   ],
   "source": [
    "import torch\n",
    "import numpy as np\n",
    "import matplotlib.pyplot as plt\n",
    "from sklearn.metrics import confusion_matrix, ConfusionMatrixDisplay\n",
    "\n",
    "# 1. Load your best saved model\n",
    "model.load_state_dict(torch.load('best_model_3.pt'))\n",
    "model.to(device)\n",
    "model.eval()\n",
    "\n",
    "# 2. Prepare the test DataLoader\n",
    "if isinstance(new_X_test, list):\n",
    "    new_X_test = torch.stack(new_X_test)\n",
    "if isinstance(new_y_test, list):\n",
    "    new_y_test = torch.stack(new_y_test)\n",
    "\n",
    "test_loader = torch.utils.data.DataLoader(\n",
    "    torch.utils.data.TensorDataset(new_X_test, new_y_test),\n",
    "    batch_size=32,\n",
    "    shuffle=False\n",
    ")\n",
    "\n",
    "# 3. Gather all predictions and true labels\n",
    "all_preds = []\n",
    "all_labels = []\n",
    "\n",
    "with torch.no_grad():\n",
    "    for inputs, labels in test_loader:\n",
    "        inputs = inputs.to(device).float()\n",
    "        labels = labels.to(device).float()\n",
    "\n",
    "        outputs = model(inputs).squeeze(1)\n",
    "        preds = torch.round(outputs)  # Binary thresholding at 0.5\n",
    "\n",
    "        all_preds.append(preds.cpu().numpy())\n",
    "        all_labels.append(labels.cpu().numpy())\n",
    "\n",
    "# 4. Concatenate all batches\n",
    "all_preds = np.concatenate(all_preds)\n",
    "all_labels = np.concatenate(all_labels)\n",
    "\n",
    "# 5. Compute the confusion matrix\n",
    "cm = confusion_matrix(all_labels, all_preds)\n",
    "\n",
    "# 6. Plot the confusion matrix\n",
    "disp = ConfusionMatrixDisplay(confusion_matrix=cm, display_labels=[\"Class 0\", \"Class 1\"])\n",
    "disp.plot(cmap=plt.cm.Blues)\n",
    "plt.title(\"Confusion Matrix on Test Set\")\n",
    "plt.show()\n"
   ]
  },
  {
   "cell_type": "code",
   "execution_count": 70,
   "metadata": {},
   "outputs": [
    {
     "name": "stdout",
     "output_type": "stream",
     "text": [
      "Input shape: torch.Size([32, 10, 20])\n",
      "Input shape: torch.Size([32, 10, 20])\n",
      "Input shape: torch.Size([32, 10, 20])\n",
      "Input shape: torch.Size([32, 10, 20])\n",
      "              precision    recall  f1-score   support\n",
      "\n",
      "     Class 0       0.65      0.77      0.71        64\n",
      "     Class 1       0.72      0.59      0.65        64\n",
      "\n",
      "    accuracy                           0.68       128\n",
      "   macro avg       0.69      0.68      0.68       128\n",
      "weighted avg       0.69      0.68      0.68       128\n",
      "\n",
      "Confusion Matrix:\n",
      " [[49 15]\n",
      " [26 38]]\n",
      "Input shape: torch.Size([32, 10, 20])\n",
      "Input shape: torch.Size([32, 10, 20])\n",
      "Input shape: torch.Size([32, 10, 20])\n",
      "Input shape: torch.Size([32, 10, 20])\n"
     ]
    },
    {
     "data": {
      "image/png": "[encoded data removed]",
      "text/plain": [
       "<Figure size 640x480 with 1 Axes>"
      ]
     },
     "metadata": {},
     "output_type": "display_data"
    }
   ],
   "source": [
    "from sklearn.metrics import classification_report, confusion_matrix, roc_curve, auc, RocCurveDisplay\n",
    "import matplotlib.pyplot as plt\n",
    "import torch\n",
    "\n",
    "# Make predictions\n",
    "# 1. Load your best saved model\n",
    "model.load_state_dict(torch.load('best_model_3.pt'))\n",
    "model.to(device)\n",
    "\n",
    "model.eval()\n",
    "all_preds = []\n",
    "all_labels = []\n",
    "\n",
    "with torch.no_grad():\n",
    "    for inputs, labels in test_loader:\n",
    "        inputs = inputs.to(device).float()\n",
    "        labels = labels.to(device).float()\n",
    "        \n",
    "        outputs = model(inputs).squeeze(1)\n",
    "        preds = torch.round(outputs)\n",
    "        \n",
    "        all_preds.append(preds.cpu())\n",
    "        all_labels.append(labels.cpu())\n",
    "\n",
    "all_preds = torch.cat(all_preds)\n",
    "all_labels = torch.cat(all_labels)\n",
    "\n",
    "# Classification Report (Precision, Recall, F1)\n",
    "print(classification_report(all_labels, all_preds, target_names=['Class 0', 'Class 1']))\n",
    "\n",
    "# Confusion Matrix\n",
    "cm = confusion_matrix(all_labels, all_preds)\n",
    "print(\"Confusion Matrix:\\n\", cm)\n",
    "\n",
    "# ROC Curve\n",
    "# Need probabilities, not rounded predictions\n",
    "probs = []\n",
    "\n",
    "with torch.no_grad():\n",
    "    for inputs, labels in test_loader:\n",
    "        inputs = inputs.to(device).float()\n",
    "        outputs = model(inputs).squeeze(1)\n",
    "        probs.append(outputs.cpu())\n",
    "\n",
    "probs = torch.cat(probs)\n",
    "\n",
    "fpr, tpr, thresholds = roc_curve(all_labels, probs)\n",
    "roc_auc = auc(fpr, tpr)\n",
    "\n",
    "# Plot ROC\n",
    "plt.figure()\n",
    "plt.plot(fpr, tpr, color='darkorange', lw=2, label=f'ROC curve (area = {roc_auc:.2f})')\n",
    "plt.plot([0, 1], [0, 1], color='navy', lw=2, linestyle='--')\n",
    "plt.xlim([0.0, 1.0])\n",
    "plt.ylim([0.0, 1.05])\n",
    "plt.xlabel('False Positive Rate')\n",
    "plt.ylabel('True Positive Rate')\n",
    "plt.title('Receiver Operating Characteristic (ROC)')\n",
    "plt.legend(loc=\"lower right\")\n",
    "plt.show()\n"
   ]
  },
  {
   "cell_type": "code",
   "execution_count": null,
   "metadata": {},
   "outputs": [],
   "source": []
  },
  {
   "cell_type": "code",
   "execution_count": null,
   "metadata": {},
   "outputs": [],
   "source": []
  }
 ],
 "metadata": {
  "accelerator": "GPU",
  "colab": {
   "gpuType": "T4",
   "provenance": []
  },
  "kernelspec": {
   "display_name": "Python 3.11",
   "language": "python",
   "name": "python3.11"
  },
  "language_info": {
   "codemirror_mode": {
    "name": "ipython",
    "version": 3
   },
   "file_extension": ".py",
   "mimetype": "text/x-python",
   "name": "python",
   "nbconvert_exporter": "python",
   "pygments_lexer": "ipython3",
   "version": "3.11.12"
  }
 },
 "nbformat": 4,
 "nbformat_minor": 4
}
