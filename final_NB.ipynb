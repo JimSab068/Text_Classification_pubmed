{
 "cells": [
  {
   "cell_type": "code",
   "execution_count": 1,
   "metadata": {},
   "outputs": [],
   "source": [
    "# !pip3 uninstall qiskit qiskit-terra qiskit-aer qiskit-ibmq-provider --yes\n"
   ]
  },
  {
   "cell_type": "code",
   "execution_count": 2,
   "metadata": {
    "colab": {
     "base_uri": "https://localhost:8080/",
     "height": 1000
    },
    "id": "rQgBdgOURzs1",
    "outputId": "e59bff03-a5c3-4bce-d0ad-8715878c62b2",
    "scrolled": true
   },
   "outputs": [],
   "source": [
    "# # Install Qiskit and related packages\n",
    "# !pip3 install qiskit==0.44.1\n",
    "# !pip3 install pylatexenc==3.0.0\n",
    "# !pip3 install qiskit-machine-learning==0.6.1\n",
    "\n",
    "# # Install TensorFlow and related packages\n",
    "# !pip3 install tensorflow==2.12.0\n",
    "# !pip3 install numpy==1.23.5\n",
    "\n",
    "# # Install PyTorch and other utilities\n",
    "# !pip3 install torch==2.0.1\n",
    "# !pip3 install tqdm==4.66.1\n",
    "\n",
    "# Print installation status to confirm\n",
    "# import subprocess\n",
    "# for package in ['qiskit', 'pylatexenc', 'qiskit-machine-learning', 'tensorflow', 'numpy', 'torch', 'tqdm']:\n",
    "#     result = subprocess.run(['pip', 'show', package], capture_output=True, text=True)\n",
    "#     if result.returncode == 0:\n",
    "#         version = [line for line in result.stdout.split('\\n') if line.startswith('Version:')][0]\n",
    "#         print(f\"{package}: {version}\")\n",
    "#     else:\n",
    "#         print(f\"{package}: Not installed\")"
   ]
  },
  {
   "cell_type": "code",
   "execution_count": 3,
   "metadata": {},
   "outputs": [],
   "source": [
    "# !pip install torch==2.6.0\n"
   ]
  },
  {
   "cell_type": "code",
   "execution_count": 4,
   "metadata": {},
   "outputs": [],
   "source": [
    "# !pip install tensorflow\n"
   ]
  },
  {
   "cell_type": "code",
   "execution_count": 5,
   "metadata": {
    "scrolled": true
   },
   "outputs": [
    {
     "name": "stdout",
     "output_type": "stream",
     "text": [
      "Defaulting to user installation because normal site-packages is not writeable\n",
      "Requirement already satisfied: qiskit==0.44.1 in /home/sabdh/.local/lib/python3.11/site-packages (0.44.1)\n",
      "Requirement already satisfied: qiskit-terra==0.25.1 in /home/sabdh/.local/lib/python3.11/site-packages (from qiskit==0.44.1) (0.25.1)\n",
      "Requirement already satisfied: rustworkx>=0.13.0 in /home/sabdh/.local/lib/python3.11/site-packages (from qiskit-terra==0.25.1->qiskit==0.44.1) (0.16.0)\n",
      "Requirement already satisfied: numpy>=1.17 in /home/sabdh/.local/lib/python3.11/site-packages (from qiskit-terra==0.25.1->qiskit==0.44.1) (1.23.5)\n",
      "Requirement already satisfied: ply>=3.10 in /home/sabdh/.local/lib/python3.11/site-packages (from qiskit-terra==0.25.1->qiskit==0.44.1) (3.11)\n",
      "Requirement already satisfied: psutil>=5 in /home/sabdh/.local/lib/python3.11/site-packages (from qiskit-terra==0.25.1->qiskit==0.44.1) (7.0.0)\n",
      "Requirement already satisfied: scipy>=1.5 in /home/sabdh/.local/lib/python3.11/site-packages (from qiskit-terra==0.25.1->qiskit==0.44.1) (1.15.2)\n",
      "Requirement already satisfied: sympy>=1.3 in /home/sabdh/.local/lib/python3.11/site-packages (from qiskit-terra==0.25.1->qiskit==0.44.1) (1.14.0)\n",
      "Requirement already satisfied: dill>=0.3 in /home/sabdh/.local/lib/python3.11/site-packages (from qiskit-terra==0.25.1->qiskit==0.44.1) (0.4.0)\n",
      "Requirement already satisfied: python-dateutil>=2.8.0 in /home/sabdh/.local/lib/python3.11/site-packages (from qiskit-terra==0.25.1->qiskit==0.44.1) (2.9.0.post0)\n",
      "Requirement already satisfied: stevedore>=3.0.0 in /home/sabdh/.local/lib/python3.11/site-packages (from qiskit-terra==0.25.1->qiskit==0.44.1) (5.4.1)\n",
      "Requirement already satisfied: symengine<0.10,>=0.9 in /home/sabdh/.local/lib/python3.11/site-packages (from qiskit-terra==0.25.1->qiskit==0.44.1) (0.9.2)\n",
      "Requirement already satisfied: six>=1.5 in /home/sabdh/.local/lib/python3.11/site-packages (from python-dateutil>=2.8.0->qiskit-terra==0.25.1->qiskit==0.44.1) (1.17.0)\n",
      "Requirement already satisfied: pbr>=2.0.0 in /home/sabdh/.local/lib/python3.11/site-packages (from stevedore>=3.0.0->qiskit-terra==0.25.1->qiskit==0.44.1) (6.1.1)\n",
      "Requirement already satisfied: mpmath<1.4,>=1.1.0 in /home/sabdh/.local/lib/python3.11/site-packages (from sympy>=1.3->qiskit-terra==0.25.1->qiskit==0.44.1) (1.3.0)\n",
      "Requirement already satisfied: setuptools in /usr/local/lib/python3.11/site-packages (from pbr>=2.0.0->stevedore>=3.0.0->qiskit-terra==0.25.1->qiskit==0.44.1) (65.5.0)\n",
      "\n",
      "\u001b[1m[\u001b[0m\u001b[34;49mnotice\u001b[0m\u001b[1;39;49m]\u001b[0m\u001b[39;49m A new release of pip is available: \u001b[0m\u001b[31;49m24.0\u001b[0m\u001b[39;49m -> \u001b[0m\u001b[32;49m25.1\u001b[0m\n",
      "\u001b[1m[\u001b[0m\u001b[34;49mnotice\u001b[0m\u001b[1;39;49m]\u001b[0m\u001b[39;49m To update, run: \u001b[0m\u001b[32;49mpip3 install --upgrade pip\u001b[0m\n",
      "Defaulting to user installation because normal site-packages is not writeable\n",
      "\u001b[31mERROR: Could not find a version that satisfies the requirement pylatexenc==3.0.0 (from versions: 1.0.macosx-10.6-x86_64, 0.9, 1.0, 1.0.post1, 1.1, 1.2, 1.3, 1.4, 1.5, 2.0, 2.0.post1, 2.1, 2.2, 2.3, 2.4, 2.5, 2.6, 2.7, 2.8, 2.9, 2.10, 3.0a13, 3.0a14, 3.0a15, 3.0a17, 3.0a18, 3.0a19, 3.0a21, 3.0a22, 3.0a23, 3.0a24, 3.0a25, 3.0a26, 3.0a27, 3.0a28, 3.0a29, 3.0a30, 3.0a31, 3.0a32)\u001b[0m\u001b[31m\n",
      "\u001b[0m\u001b[31mERROR: No matching distribution found for pylatexenc==3.0.0\u001b[0m\u001b[31m\n",
      "\u001b[0m\n",
      "\u001b[1m[\u001b[0m\u001b[34;49mnotice\u001b[0m\u001b[1;39;49m]\u001b[0m\u001b[39;49m A new release of pip is available: \u001b[0m\u001b[31;49m24.0\u001b[0m\u001b[39;49m -> \u001b[0m\u001b[32;49m25.1\u001b[0m\n",
      "\u001b[1m[\u001b[0m\u001b[34;49mnotice\u001b[0m\u001b[1;39;49m]\u001b[0m\u001b[39;49m To update, run: \u001b[0m\u001b[32;49mpip3 install --upgrade pip\u001b[0m\n",
      "Defaulting to user installation because normal site-packages is not writeable\n",
      "Requirement already satisfied: qiskit-machine-learning==0.6.1 in /home/sabdh/.local/lib/python3.11/site-packages (0.6.1)\n",
      "Requirement already satisfied: qiskit-terra>=0.22.2 in /home/sabdh/.local/lib/python3.11/site-packages (from qiskit-machine-learning==0.6.1) (0.25.1)\n",
      "Requirement already satisfied: scipy>=1.4 in /home/sabdh/.local/lib/python3.11/site-packages (from qiskit-machine-learning==0.6.1) (1.15.2)\n",
      "Requirement already satisfied: numpy>=1.17 in /home/sabdh/.local/lib/python3.11/site-packages (from qiskit-machine-learning==0.6.1) (1.23.5)\n",
      "Requirement already satisfied: psutil>=5 in /home/sabdh/.local/lib/python3.11/site-packages (from qiskit-machine-learning==0.6.1) (7.0.0)\n",
      "Requirement already satisfied: scikit-learn>=0.20.0 in /home/sabdh/.local/lib/python3.11/site-packages (from qiskit-machine-learning==0.6.1) (1.6.1)\n",
      "Requirement already satisfied: fastdtw in /home/sabdh/.local/lib/python3.11/site-packages (from qiskit-machine-learning==0.6.1) (0.3.4)\n",
      "Requirement already satisfied: setuptools>=40.1.0 in /usr/local/lib/python3.11/site-packages (from qiskit-machine-learning==0.6.1) (65.5.0)\n",
      "Requirement already satisfied: dill>=0.3.4 in /home/sabdh/.local/lib/python3.11/site-packages (from qiskit-machine-learning==0.6.1) (0.4.0)\n",
      "Requirement already satisfied: rustworkx>=0.13.0 in /home/sabdh/.local/lib/python3.11/site-packages (from qiskit-terra>=0.22.2->qiskit-machine-learning==0.6.1) (0.16.0)\n",
      "Requirement already satisfied: ply>=3.10 in /home/sabdh/.local/lib/python3.11/site-packages (from qiskit-terra>=0.22.2->qiskit-machine-learning==0.6.1) (3.11)\n",
      "Requirement already satisfied: sympy>=1.3 in /home/sabdh/.local/lib/python3.11/site-packages (from qiskit-terra>=0.22.2->qiskit-machine-learning==0.6.1) (1.14.0)\n",
      "Requirement already satisfied: python-dateutil>=2.8.0 in /home/sabdh/.local/lib/python3.11/site-packages (from qiskit-terra>=0.22.2->qiskit-machine-learning==0.6.1) (2.9.0.post0)\n",
      "Requirement already satisfied: stevedore>=3.0.0 in /home/sabdh/.local/lib/python3.11/site-packages (from qiskit-terra>=0.22.2->qiskit-machine-learning==0.6.1) (5.4.1)\n",
      "Requirement already satisfied: symengine<0.10,>=0.9 in /home/sabdh/.local/lib/python3.11/site-packages (from qiskit-terra>=0.22.2->qiskit-machine-learning==0.6.1) (0.9.2)\n",
      "Requirement already satisfied: joblib>=1.2.0 in /home/sabdh/.local/lib/python3.11/site-packages (from scikit-learn>=0.20.0->qiskit-machine-learning==0.6.1) (1.4.2)\n",
      "Requirement already satisfied: threadpoolctl>=3.1.0 in /home/sabdh/.local/lib/python3.11/site-packages (from scikit-learn>=0.20.0->qiskit-machine-learning==0.6.1) (3.6.0)\n",
      "Requirement already satisfied: six>=1.5 in /home/sabdh/.local/lib/python3.11/site-packages (from python-dateutil>=2.8.0->qiskit-terra>=0.22.2->qiskit-machine-learning==0.6.1) (1.17.0)\n",
      "Requirement already satisfied: pbr>=2.0.0 in /home/sabdh/.local/lib/python3.11/site-packages (from stevedore>=3.0.0->qiskit-terra>=0.22.2->qiskit-machine-learning==0.6.1) (6.1.1)\n",
      "Requirement already satisfied: mpmath<1.4,>=1.1.0 in /home/sabdh/.local/lib/python3.11/site-packages (from sympy>=1.3->qiskit-terra>=0.22.2->qiskit-machine-learning==0.6.1) (1.3.0)\n",
      "\n",
      "\u001b[1m[\u001b[0m\u001b[34;49mnotice\u001b[0m\u001b[1;39;49m]\u001b[0m\u001b[39;49m A new release of pip is available: \u001b[0m\u001b[31;49m24.0\u001b[0m\u001b[39;49m -> \u001b[0m\u001b[32;49m25.1\u001b[0m\n",
      "\u001b[1m[\u001b[0m\u001b[34;49mnotice\u001b[0m\u001b[1;39;49m]\u001b[0m\u001b[39;49m To update, run: \u001b[0m\u001b[32;49mpip3 install --upgrade pip\u001b[0m\n",
      "Defaulting to user installation because normal site-packages is not writeable\n",
      "Requirement already satisfied: tensorflow==2.12.0 in /home/sabdh/.local/lib/python3.11/site-packages (2.12.0)\n",
      "Requirement already satisfied: absl-py>=1.0.0 in /home/sabdh/.local/lib/python3.11/site-packages (from tensorflow==2.12.0) (2.2.2)\n",
      "Requirement already satisfied: astunparse>=1.6.0 in /home/sabdh/.local/lib/python3.11/site-packages (from tensorflow==2.12.0) (1.6.3)\n",
      "Requirement already satisfied: flatbuffers>=2.0 in /home/sabdh/.local/lib/python3.11/site-packages (from tensorflow==2.12.0) (25.2.10)\n",
      "Requirement already satisfied: gast<=0.4.0,>=0.2.1 in /home/sabdh/.local/lib/python3.11/site-packages (from tensorflow==2.12.0) (0.4.0)\n",
      "Requirement already satisfied: google-pasta>=0.1.1 in /home/sabdh/.local/lib/python3.11/site-packages (from tensorflow==2.12.0) (0.2.0)\n",
      "Requirement already satisfied: grpcio<2.0,>=1.24.3 in /home/sabdh/.local/lib/python3.11/site-packages (from tensorflow==2.12.0) (1.71.0)\n",
      "Requirement already satisfied: h5py>=2.9.0 in /home/sabdh/.local/lib/python3.11/site-packages (from tensorflow==2.12.0) (3.13.0)\n",
      "Requirement already satisfied: jax>=0.3.15 in /home/sabdh/.local/lib/python3.11/site-packages (from tensorflow==2.12.0) (0.4.30)\n",
      "Requirement already satisfied: keras<2.13,>=2.12.0 in /home/sabdh/.local/lib/python3.11/site-packages (from tensorflow==2.12.0) (2.12.0)\n",
      "Requirement already satisfied: libclang>=13.0.0 in /home/sabdh/.local/lib/python3.11/site-packages (from tensorflow==2.12.0) (18.1.1)\n",
      "Requirement already satisfied: numpy<1.24,>=1.22 in /home/sabdh/.local/lib/python3.11/site-packages (from tensorflow==2.12.0) (1.23.5)\n",
      "Requirement already satisfied: opt-einsum>=2.3.2 in /home/sabdh/.local/lib/python3.11/site-packages (from tensorflow==2.12.0) (3.4.0)\n",
      "Requirement already satisfied: packaging in /home/sabdh/.local/lib/python3.11/site-packages (from tensorflow==2.12.0) (25.0)\n",
      "Requirement already satisfied: protobuf!=4.21.0,!=4.21.1,!=4.21.2,!=4.21.3,!=4.21.4,!=4.21.5,<5.0.0dev,>=3.20.3 in /home/sabdh/.local/lib/python3.11/site-packages (from tensorflow==2.12.0) (4.25.7)\n",
      "Requirement already satisfied: setuptools in /usr/local/lib/python3.11/site-packages (from tensorflow==2.12.0) (65.5.0)\n",
      "Requirement already satisfied: six>=1.12.0 in /home/sabdh/.local/lib/python3.11/site-packages (from tensorflow==2.12.0) (1.17.0)\n",
      "Requirement already satisfied: tensorboard<2.13,>=2.12 in /home/sabdh/.local/lib/python3.11/site-packages (from tensorflow==2.12.0) (2.12.3)\n",
      "Requirement already satisfied: tensorflow-estimator<2.13,>=2.12.0 in /home/sabdh/.local/lib/python3.11/site-packages (from tensorflow==2.12.0) (2.12.0)\n",
      "Requirement already satisfied: termcolor>=1.1.0 in /home/sabdh/.local/lib/python3.11/site-packages (from tensorflow==2.12.0) (3.0.1)\n",
      "Requirement already satisfied: typing-extensions>=3.6.6 in /home/sabdh/.local/lib/python3.11/site-packages (from tensorflow==2.12.0) (4.13.2)\n",
      "Requirement already satisfied: wrapt<1.15,>=1.11.0 in /home/sabdh/.local/lib/python3.11/site-packages (from tensorflow==2.12.0) (1.14.1)\n",
      "Requirement already satisfied: tensorflow-io-gcs-filesystem>=0.23.1 in /home/sabdh/.local/lib/python3.11/site-packages (from tensorflow==2.12.0) (0.37.1)\n",
      "Requirement already satisfied: wheel<1.0,>=0.23.0 in /home/sabdh/.local/lib/python3.11/site-packages (from astunparse>=1.6.0->tensorflow==2.12.0) (0.45.1)\n",
      "Requirement already satisfied: jaxlib<=0.4.30,>=0.4.27 in /home/sabdh/.local/lib/python3.11/site-packages (from jax>=0.3.15->tensorflow==2.12.0) (0.4.30)\n",
      "Requirement already satisfied: ml-dtypes>=0.2.0 in /home/sabdh/.local/lib/python3.11/site-packages (from jax>=0.3.15->tensorflow==2.12.0) (0.5.1)\n",
      "Requirement already satisfied: scipy>=1.9 in /home/sabdh/.local/lib/python3.11/site-packages (from jax>=0.3.15->tensorflow==2.12.0) (1.15.2)\n",
      "Requirement already satisfied: google-auth<3,>=1.6.3 in /home/sabdh/.local/lib/python3.11/site-packages (from tensorboard<2.13,>=2.12->tensorflow==2.12.0) (2.39.0)\n",
      "Requirement already satisfied: google-auth-oauthlib<1.1,>=0.5 in /home/sabdh/.local/lib/python3.11/site-packages (from tensorboard<2.13,>=2.12->tensorflow==2.12.0) (1.0.0)\n",
      "Requirement already satisfied: markdown>=2.6.8 in /home/sabdh/.local/lib/python3.11/site-packages (from tensorboard<2.13,>=2.12->tensorflow==2.12.0) (3.8)\n",
      "Requirement already satisfied: requests<3,>=2.21.0 in /home/sabdh/.local/lib/python3.11/site-packages (from tensorboard<2.13,>=2.12->tensorflow==2.12.0) (2.32.3)\n",
      "Requirement already satisfied: tensorboard-data-server<0.8.0,>=0.7.0 in /home/sabdh/.local/lib/python3.11/site-packages (from tensorboard<2.13,>=2.12->tensorflow==2.12.0) (0.7.2)\n",
      "Requirement already satisfied: werkzeug>=1.0.1 in /home/sabdh/.local/lib/python3.11/site-packages (from tensorboard<2.13,>=2.12->tensorflow==2.12.0) (3.1.3)\n",
      "Requirement already satisfied: cachetools<6.0,>=2.0.0 in /home/sabdh/.local/lib/python3.11/site-packages (from google-auth<3,>=1.6.3->tensorboard<2.13,>=2.12->tensorflow==2.12.0) (5.5.2)\n",
      "Requirement already satisfied: pyasn1-modules>=0.2.1 in /home/sabdh/.local/lib/python3.11/site-packages (from google-auth<3,>=1.6.3->tensorboard<2.13,>=2.12->tensorflow==2.12.0) (0.4.2)\n",
      "Requirement already satisfied: rsa<5,>=3.1.4 in /home/sabdh/.local/lib/python3.11/site-packages (from google-auth<3,>=1.6.3->tensorboard<2.13,>=2.12->tensorflow==2.12.0) (4.9.1)\n",
      "Requirement already satisfied: requests-oauthlib>=0.7.0 in /home/sabdh/.local/lib/python3.11/site-packages (from google-auth-oauthlib<1.1,>=0.5->tensorboard<2.13,>=2.12->tensorflow==2.12.0) (2.0.0)\n",
      "Requirement already satisfied: charset-normalizer<4,>=2 in /home/sabdh/.local/lib/python3.11/site-packages (from requests<3,>=2.21.0->tensorboard<2.13,>=2.12->tensorflow==2.12.0) (3.4.1)\n",
      "Requirement already satisfied: idna<4,>=2.5 in /home/sabdh/.local/lib/python3.11/site-packages (from requests<3,>=2.21.0->tensorboard<2.13,>=2.12->tensorflow==2.12.0) (3.10)\n",
      "Requirement already satisfied: urllib3<3,>=1.21.1 in /home/sabdh/.local/lib/python3.11/site-packages (from requests<3,>=2.21.0->tensorboard<2.13,>=2.12->tensorflow==2.12.0) (2.4.0)\n",
      "Requirement already satisfied: certifi>=2017.4.17 in /home/sabdh/.local/lib/python3.11/site-packages (from requests<3,>=2.21.0->tensorboard<2.13,>=2.12->tensorflow==2.12.0) (2025.4.26)\n",
      "Requirement already satisfied: MarkupSafe>=2.1.1 in /home/sabdh/.local/lib/python3.11/site-packages (from werkzeug>=1.0.1->tensorboard<2.13,>=2.12->tensorflow==2.12.0) (3.0.2)\n",
      "Requirement already satisfied: pyasn1<0.7.0,>=0.6.1 in /home/sabdh/.local/lib/python3.11/site-packages (from pyasn1-modules>=0.2.1->google-auth<3,>=1.6.3->tensorboard<2.13,>=2.12->tensorflow==2.12.0) (0.6.1)\n",
      "Requirement already satisfied: oauthlib>=3.0.0 in /home/sabdh/.local/lib/python3.11/site-packages (from requests-oauthlib>=0.7.0->google-auth-oauthlib<1.1,>=0.5->tensorboard<2.13,>=2.12->tensorflow==2.12.0) (3.2.2)\n",
      "\n",
      "\u001b[1m[\u001b[0m\u001b[34;49mnotice\u001b[0m\u001b[1;39;49m]\u001b[0m\u001b[39;49m A new release of pip is available: \u001b[0m\u001b[31;49m24.0\u001b[0m\u001b[39;49m -> \u001b[0m\u001b[32;49m25.1\u001b[0m\n",
      "\u001b[1m[\u001b[0m\u001b[34;49mnotice\u001b[0m\u001b[1;39;49m]\u001b[0m\u001b[39;49m To update, run: \u001b[0m\u001b[32;49mpip3 install --upgrade pip\u001b[0m\n",
      "Defaulting to user installation because normal site-packages is not writeable\n",
      "Requirement already satisfied: numpy==1.23.5 in /home/sabdh/.local/lib/python3.11/site-packages (1.23.5)\n",
      "\n",
      "\u001b[1m[\u001b[0m\u001b[34;49mnotice\u001b[0m\u001b[1;39;49m]\u001b[0m\u001b[39;49m A new release of pip is available: \u001b[0m\u001b[31;49m24.0\u001b[0m\u001b[39;49m -> \u001b[0m\u001b[32;49m25.1\u001b[0m\n",
      "\u001b[1m[\u001b[0m\u001b[34;49mnotice\u001b[0m\u001b[1;39;49m]\u001b[0m\u001b[39;49m To update, run: \u001b[0m\u001b[32;49mpip3 install --upgrade pip\u001b[0m\n",
      "Defaulting to user installation because normal site-packages is not writeable\n",
      "Requirement already satisfied: torch==2.0.1 in /home/sabdh/.local/lib/python3.11/site-packages (2.0.1)\n",
      "Requirement already satisfied: filelock in /home/sabdh/.local/lib/python3.11/site-packages (from torch==2.0.1) (3.18.0)\n",
      "Requirement already satisfied: typing-extensions in /home/sabdh/.local/lib/python3.11/site-packages (from torch==2.0.1) (4.13.2)\n",
      "Requirement already satisfied: sympy in /home/sabdh/.local/lib/python3.11/site-packages (from torch==2.0.1) (1.14.0)\n",
      "Requirement already satisfied: networkx in /home/sabdh/.local/lib/python3.11/site-packages (from torch==2.0.1) (3.4.2)\n",
      "Requirement already satisfied: jinja2 in /home/sabdh/.local/lib/python3.11/site-packages (from torch==2.0.1) (3.1.6)\n",
      "Requirement already satisfied: nvidia-cuda-nvrtc-cu11==11.7.99 in /home/sabdh/.local/lib/python3.11/site-packages (from torch==2.0.1) (11.7.99)\n",
      "Requirement already satisfied: nvidia-cuda-runtime-cu11==11.7.99 in /home/sabdh/.local/lib/python3.11/site-packages (from torch==2.0.1) (11.7.99)\n",
      "Requirement already satisfied: nvidia-cuda-cupti-cu11==11.7.101 in /home/sabdh/.local/lib/python3.11/site-packages (from torch==2.0.1) (11.7.101)\n",
      "Requirement already satisfied: nvidia-cudnn-cu11==8.5.0.96 in /home/sabdh/.local/lib/python3.11/site-packages (from torch==2.0.1) (8.5.0.96)\n",
      "Requirement already satisfied: nvidia-cublas-cu11==11.10.3.66 in /home/sabdh/.local/lib/python3.11/site-packages (from torch==2.0.1) (11.10.3.66)\n",
      "Requirement already satisfied: nvidia-cufft-cu11==10.9.0.58 in /home/sabdh/.local/lib/python3.11/site-packages (from torch==2.0.1) (10.9.0.58)\n",
      "Requirement already satisfied: nvidia-curand-cu11==10.2.10.91 in /home/sabdh/.local/lib/python3.11/site-packages (from torch==2.0.1) (10.2.10.91)\n",
      "Requirement already satisfied: nvidia-cusolver-cu11==11.4.0.1 in /home/sabdh/.local/lib/python3.11/site-packages (from torch==2.0.1) (11.4.0.1)\n",
      "Requirement already satisfied: nvidia-cusparse-cu11==11.7.4.91 in /home/sabdh/.local/lib/python3.11/site-packages (from torch==2.0.1) (11.7.4.91)\n",
      "Requirement already satisfied: nvidia-nccl-cu11==2.14.3 in /home/sabdh/.local/lib/python3.11/site-packages (from torch==2.0.1) (2.14.3)\n",
      "Requirement already satisfied: nvidia-nvtx-cu11==11.7.91 in /home/sabdh/.local/lib/python3.11/site-packages (from torch==2.0.1) (11.7.91)\n",
      "Requirement already satisfied: triton==2.0.0 in /home/sabdh/.local/lib/python3.11/site-packages (from torch==2.0.1) (2.0.0)\n",
      "Requirement already satisfied: setuptools in /usr/local/lib/python3.11/site-packages (from nvidia-cublas-cu11==11.10.3.66->torch==2.0.1) (65.5.0)\n",
      "Requirement already satisfied: wheel in /home/sabdh/.local/lib/python3.11/site-packages (from nvidia-cublas-cu11==11.10.3.66->torch==2.0.1) (0.45.1)\n",
      "Requirement already satisfied: cmake in /home/sabdh/.local/lib/python3.11/site-packages (from triton==2.0.0->torch==2.0.1) (4.0.0)\n",
      "Requirement already satisfied: lit in /home/sabdh/.local/lib/python3.11/site-packages (from triton==2.0.0->torch==2.0.1) (18.1.8)\n",
      "Requirement already satisfied: MarkupSafe>=2.0 in /home/sabdh/.local/lib/python3.11/site-packages (from jinja2->torch==2.0.1) (3.0.2)\n",
      "Requirement already satisfied: mpmath<1.4,>=1.1.0 in /home/sabdh/.local/lib/python3.11/site-packages (from sympy->torch==2.0.1) (1.3.0)\n",
      "\n",
      "\u001b[1m[\u001b[0m\u001b[34;49mnotice\u001b[0m\u001b[1;39;49m]\u001b[0m\u001b[39;49m A new release of pip is available: \u001b[0m\u001b[31;49m24.0\u001b[0m\u001b[39;49m -> \u001b[0m\u001b[32;49m25.1\u001b[0m\n",
      "\u001b[1m[\u001b[0m\u001b[34;49mnotice\u001b[0m\u001b[1;39;49m]\u001b[0m\u001b[39;49m To update, run: \u001b[0m\u001b[32;49mpip3 install --upgrade pip\u001b[0m\n",
      "Defaulting to user installation because normal site-packages is not writeable\n",
      "Requirement already satisfied: tqdm==4.66.1 in /home/sabdh/.local/lib/python3.11/site-packages (4.66.1)\n",
      "\n",
      "\u001b[1m[\u001b[0m\u001b[34;49mnotice\u001b[0m\u001b[1;39;49m]\u001b[0m\u001b[39;49m A new release of pip is available: \u001b[0m\u001b[31;49m24.0\u001b[0m\u001b[39;49m -> \u001b[0m\u001b[32;49m25.1\u001b[0m\n",
      "\u001b[1m[\u001b[0m\u001b[34;49mnotice\u001b[0m\u001b[1;39;49m]\u001b[0m\u001b[39;49m To update, run: \u001b[0m\u001b[32;49mpip3 install --upgrade pip\u001b[0m\n"
     ]
    }
   ],
   "source": [
    "!pip3 install qiskit==0.44.1\n",
    "!pip3 install pylatexenc==3.0.0\n",
    "!pip3 install qiskit-machine-learning==0.6.1\n",
    "\n",
    "# Install TensorFlow and NumPy\n",
    "!pip3 install tensorflow==2.12.0\n",
    "!pip3 install numpy==1.23.5\n",
    "\n",
    "# Install PyTorch and other utilities\n",
    "!pip3 install torch==2.0.1\n",
    "!pip3 install tqdm==4.66.1"
   ]
  },
  {
   "cell_type": "code",
   "execution_count": 6,
   "metadata": {},
   "outputs": [
    {
     "name": "stdout",
     "output_type": "stream",
     "text": [
      "All imports successful!\n"
     ]
    }
   ],
   "source": [
    "# Test your imports\n",
    "from qiskit import *\n",
    "from qiskit import QuantumCircuit\n",
    "import qiskit.circuit.library as circuit_library\n",
    "import qiskit.quantum_info as qi\n",
    "from qiskit.utils import algorithm_globals\n",
    "from qiskit.circuit.library import EfficientSU2\n",
    "from qiskit_machine_learning.neural_networks import SamplerQNN, EstimatorQNN\n",
    "from qiskit_machine_learning.connectors import TorchConnector\n",
    "import torch\n",
    "from qiskit.circuit import ParameterVector\n",
    "from torch import Tensor\n",
    "import torch.nn as nn\n",
    "import numpy as np\n",
    "from qiskit.quantum_info import SparsePauliOp\n",
    "from tqdm import tqdm\n",
    "# from tensorflow.keras.preprocessing.sequence import pad_sequences\n",
    "\n",
    "print(\"All imports successful!\")"
   ]
  },
  {
   "cell_type": "code",
   "execution_count": null,
   "metadata": {},
   "outputs": [],
   "source": []
  },
  {
   "cell_type": "code",
   "execution_count": null,
   "metadata": {
    "id": "czT7D0_kRzmv"
   },
   "outputs": [],
   "source": [
    "# Restart the runtime after installation\n",
    "import os\n",
    "os._exit(0)"
   ]
  },
  {
   "cell_type": "code",
   "execution_count": 1,
   "metadata": {
    "colab": {
     "base_uri": "https://localhost:8080/"
    },
    "id": "fbx4ukklRziZ",
    "outputId": "ba7bbfee-c82d-479e-add1-bbdd29366ca9"
   },
   "outputs": [
    {
     "name": "stderr",
     "output_type": "stream",
     "text": [
      "2025-05-03 19:02:07.732393: I tensorflow/core/util/port.cc:110] oneDNN custom operations are on. You may see slightly different numerical results due to floating-point round-off errors from different computation orders. To turn them off, set the environment variable `TF_ENABLE_ONEDNN_OPTS=0`.\n",
      "2025-05-03 19:02:07.910583: I tensorflow/tsl/cuda/cudart_stub.cc:28] Could not find cuda drivers on your machine, GPU will not be used.\n",
      "2025-05-03 19:02:08.809267: I tensorflow/tsl/cuda/cudart_stub.cc:28] Could not find cuda drivers on your machine, GPU will not be used.\n",
      "2025-05-03 19:02:08.815163: I tensorflow/core/platform/cpu_feature_guard.cc:182] This TensorFlow binary is optimized to use available CPU instructions in performance-critical operations.\n",
      "To enable the following instructions: AVX2 AVX_VNNI FMA, in other operations, rebuild TensorFlow with the appropriate compiler flags.\n",
      "2025-05-03 19:02:13.065722: W tensorflow/compiler/tf2tensorrt/utils/py_utils.cc:38] TF-TRT Warning: Could not find TensorRT\n"
     ]
    },
    {
     "name": "stdout",
     "output_type": "stream",
     "text": [
      "Basic imports successful!\n",
      "All imports successful!\n"
     ]
    }
   ],
   "source": [
    "# Test imports\n",
    "from qiskit import QuantumCircuit\n",
    "import tensorflow as tf\n",
    "import torch\n",
    "import numpy as np\n",
    "print(\"Basic imports successful!\")\n",
    "\n",
    "# Now try your full import list\n",
    "from qiskit import *\n",
    "from qiskit import QuantumCircuit\n",
    "import qiskit.circuit.library as circuit_library\n",
    "import qiskit.quantum_info as qi\n",
    "from qiskit.utils import algorithm_globals\n",
    "from qiskit.circuit.library import EfficientSU2\n",
    "from qiskit_machine_learning.neural_networks import SamplerQNN, EstimatorQNN\n",
    "from qiskit_machine_learning.connectors import TorchConnector\n",
    "import torch\n",
    "from qiskit.circuit import ParameterVector\n",
    "from torch import Tensor\n",
    "import torch.nn as nn\n",
    "import numpy as np\n",
    "from qiskit.quantum_info import SparsePauliOp\n",
    "from tqdm import tqdm\n",
    "print(\"All imports successful!\")"
   ]
  },
  {
   "cell_type": "code",
   "execution_count": null,
   "metadata": {
    "id": "b6Lc7m-iRzeJ"
   },
   "outputs": [],
   "source": []
  },
  {
   "cell_type": "code",
   "execution_count": null,
   "metadata": {
    "id": "f6mYyQ7ORzYM"
   },
   "outputs": [],
   "source": []
  },
  {
   "cell_type": "code",
   "execution_count": 2,
   "metadata": {
    "id": "ra_z6VwWLIxV"
   },
   "outputs": [],
   "source": [
    "from qiskit import *\n",
    "# Qiskit module\n",
    "from qiskit import QuantumCircuit\n",
    "import qiskit.circuit.library as circuit_library\n",
    "import qiskit.quantum_info as qi\n",
    "#from qiskit import execute\n",
    "from qiskit.utils import algorithm_globals\n",
    "from qiskit.circuit.library import EfficientSU2\n",
    "from qiskit_machine_learning.neural_networks import SamplerQNN, EstimatorQNN\n",
    "from qiskit_machine_learning.connectors import TorchConnector\n",
    "import torch\n",
    "from qiskit.circuit import ParameterVector\n",
    "from torch import Tensor\n",
    "import torch.nn as nn\n",
    "import numpy as np\n",
    "from qiskit.quantum_info import SparsePauliOp\n",
    "from tqdm import tqdm\n",
    "\n"
   ]
  },
  {
   "cell_type": "code",
   "execution_count": null,
   "metadata": {
    "id": "sO8CMIIvLIum"
   },
   "outputs": [],
   "source": [
    "# !pip3 install pandas"
   ]
  },
  {
   "cell_type": "code",
   "execution_count": null,
   "metadata": {
    "colab": {
     "base_uri": "https://localhost:8080/"
    },
    "id": "kxDzmVWhCZqL",
    "outputId": "50bc44bb-36d1-4c30-b47c-54f39ed55afa"
   },
   "outputs": [],
   "source": [
    "# from google.colab import drive\n",
    "# drive.mount('/content/gdrive')"
   ]
  },
  {
   "cell_type": "code",
   "execution_count": null,
   "metadata": {
    "id": "RQGjPtjkCe1Z"
   },
   "outputs": [],
   "source": [
    "# path='/content/gdrive/MyDrive/NLP_projects/Lucas'"
   ]
  },
  {
   "cell_type": "code",
   "execution_count": 7,
   "metadata": {
    "colab": {
     "base_uri": "https://localhost:8080/",
     "height": 256
    },
    "id": "vGdQ6oU_CghZ",
    "outputId": "b476f906-425f-425d-c8a0-650550350314"
   },
   "outputs": [
    {
     "data": {
      "text/html": [
       "<div>\n",
       "<style scoped>\n",
       "    .dataframe tbody tr th:only-of-type {\n",
       "        vertical-align: middle;\n",
       "    }\n",
       "\n",
       "    .dataframe tbody tr th {\n",
       "        vertical-align: top;\n",
       "    }\n",
       "\n",
       "    .dataframe thead th {\n",
       "        text-align: right;\n",
       "    }\n",
       "</style>\n",
       "<table border=\"1\" class=\"dataframe\">\n",
       "  <thead>\n",
       "    <tr style=\"text-align: right;\">\n",
       "      <th></th>\n",
       "      <th>NODE</th>\n",
       "      <th>Label</th>\n",
       "      <th>rat</th>\n",
       "      <th>common</th>\n",
       "      <th>use</th>\n",
       "      <th>examin</th>\n",
       "      <th>pathogenesi</th>\n",
       "      <th>retinopathi</th>\n",
       "      <th>mous</th>\n",
       "      <th>studi</th>\n",
       "      <th>...</th>\n",
       "      <th>kidney</th>\n",
       "      <th>urinari</th>\n",
       "      <th>myocardi</th>\n",
       "      <th>meal</th>\n",
       "      <th>ica</th>\n",
       "      <th>locus</th>\n",
       "      <th>tcell</th>\n",
       "      <th>depress</th>\n",
       "      <th>bone</th>\n",
       "      <th>mutat</th>\n",
       "    </tr>\n",
       "  </thead>\n",
       "  <tbody>\n",
       "    <tr>\n",
       "      <th>0</th>\n",
       "      <td>12187484</td>\n",
       "      <td>1</td>\n",
       "      <td>46.967448</td>\n",
       "      <td>14.349229</td>\n",
       "      <td>5.880063</td>\n",
       "      <td>9.687707</td>\n",
       "      <td>31.58066</td>\n",
       "      <td>85.445293</td>\n",
       "      <td>33.85124</td>\n",
       "      <td>8.777305</td>\n",
       "      <td>...</td>\n",
       "      <td>0.0</td>\n",
       "      <td>0.0</td>\n",
       "      <td>0.0</td>\n",
       "      <td>0.0</td>\n",
       "      <td>0.0</td>\n",
       "      <td>0.0</td>\n",
       "      <td>0.0</td>\n",
       "      <td>0.0</td>\n",
       "      <td>0.0</td>\n",
       "      <td>0.0</td>\n",
       "    </tr>\n",
       "    <tr>\n",
       "      <th>1</th>\n",
       "      <td>2344352</td>\n",
       "      <td>1</td>\n",
       "      <td>11.808958</td>\n",
       "      <td>0.000000</td>\n",
       "      <td>7.392080</td>\n",
       "      <td>0.000000</td>\n",
       "      <td>0.00000</td>\n",
       "      <td>0.000000</td>\n",
       "      <td>0.00000</td>\n",
       "      <td>0.000000</td>\n",
       "      <td>...</td>\n",
       "      <td>0.0</td>\n",
       "      <td>0.0</td>\n",
       "      <td>0.0</td>\n",
       "      <td>0.0</td>\n",
       "      <td>0.0</td>\n",
       "      <td>0.0</td>\n",
       "      <td>0.0</td>\n",
       "      <td>0.0</td>\n",
       "      <td>0.0</td>\n",
       "      <td>0.0</td>\n",
       "    </tr>\n",
       "    <tr>\n",
       "      <th>2</th>\n",
       "      <td>14654069</td>\n",
       "      <td>1</td>\n",
       "      <td>51.131572</td>\n",
       "      <td>0.000000</td>\n",
       "      <td>5.334490</td>\n",
       "      <td>0.000000</td>\n",
       "      <td>0.00000</td>\n",
       "      <td>0.000000</td>\n",
       "      <td>0.00000</td>\n",
       "      <td>0.000000</td>\n",
       "      <td>...</td>\n",
       "      <td>0.0</td>\n",
       "      <td>0.0</td>\n",
       "      <td>0.0</td>\n",
       "      <td>0.0</td>\n",
       "      <td>0.0</td>\n",
       "      <td>0.0</td>\n",
       "      <td>0.0</td>\n",
       "      <td>0.0</td>\n",
       "      <td>0.0</td>\n",
       "      <td>0.0</td>\n",
       "    </tr>\n",
       "    <tr>\n",
       "      <th>3</th>\n",
       "      <td>16443886</td>\n",
       "      <td>2</td>\n",
       "      <td>0.000000</td>\n",
       "      <td>0.000000</td>\n",
       "      <td>0.000000</td>\n",
       "      <td>0.000000</td>\n",
       "      <td>0.00000</td>\n",
       "      <td>0.000000</td>\n",
       "      <td>0.00000</td>\n",
       "      <td>0.000000</td>\n",
       "      <td>...</td>\n",
       "      <td>0.0</td>\n",
       "      <td>0.0</td>\n",
       "      <td>0.0</td>\n",
       "      <td>0.0</td>\n",
       "      <td>0.0</td>\n",
       "      <td>0.0</td>\n",
       "      <td>0.0</td>\n",
       "      <td>0.0</td>\n",
       "      <td>0.0</td>\n",
       "      <td>0.0</td>\n",
       "    </tr>\n",
       "    <tr>\n",
       "      <th>4</th>\n",
       "      <td>2684155</td>\n",
       "      <td>1</td>\n",
       "      <td>15.307909</td>\n",
       "      <td>0.000000</td>\n",
       "      <td>0.000000</td>\n",
       "      <td>0.000000</td>\n",
       "      <td>0.00000</td>\n",
       "      <td>0.000000</td>\n",
       "      <td>0.00000</td>\n",
       "      <td>0.000000</td>\n",
       "      <td>...</td>\n",
       "      <td>0.0</td>\n",
       "      <td>0.0</td>\n",
       "      <td>0.0</td>\n",
       "      <td>0.0</td>\n",
       "      <td>0.0</td>\n",
       "      <td>0.0</td>\n",
       "      <td>0.0</td>\n",
       "      <td>0.0</td>\n",
       "      <td>0.0</td>\n",
       "      <td>0.0</td>\n",
       "    </tr>\n",
       "  </tbody>\n",
       "</table>\n",
       "<p>5 rows × 502 columns</p>\n",
       "</div>"
      ],
      "text/plain": [
       "       NODE  Label        rat     common       use    examin  pathogenesi  \\\n",
       "0  12187484      1  46.967448  14.349229  5.880063  9.687707     31.58066   \n",
       "1   2344352      1  11.808958   0.000000  7.392080  0.000000      0.00000   \n",
       "2  14654069      1  51.131572   0.000000  5.334490  0.000000      0.00000   \n",
       "3  16443886      2   0.000000   0.000000  0.000000  0.000000      0.00000   \n",
       "4   2684155      1  15.307909   0.000000  0.000000  0.000000      0.00000   \n",
       "\n",
       "   retinopathi      mous     studi  ...  kidney  urinari  myocardi  meal  ica  \\\n",
       "0    85.445293  33.85124  8.777305  ...     0.0      0.0       0.0   0.0  0.0   \n",
       "1     0.000000   0.00000  0.000000  ...     0.0      0.0       0.0   0.0  0.0   \n",
       "2     0.000000   0.00000  0.000000  ...     0.0      0.0       0.0   0.0  0.0   \n",
       "3     0.000000   0.00000  0.000000  ...     0.0      0.0       0.0   0.0  0.0   \n",
       "4     0.000000   0.00000  0.000000  ...     0.0      0.0       0.0   0.0  0.0   \n",
       "\n",
       "   locus  tcell  depress  bone  mutat  \n",
       "0    0.0    0.0      0.0   0.0    0.0  \n",
       "1    0.0    0.0      0.0   0.0    0.0  \n",
       "2    0.0    0.0      0.0   0.0    0.0  \n",
       "3    0.0    0.0      0.0   0.0    0.0  \n",
       "4    0.0    0.0      0.0   0.0    0.0  \n",
       "\n",
       "[5 rows x 502 columns]"
      ]
     },
     "execution_count": 7,
     "metadata": {},
     "output_type": "execute_result"
    }
   ],
   "source": [
    "import pandas as pd\n",
    "from sklearn.model_selection import train_test_split\n",
    "\n",
    "# Load CSV file\n",
    "df_2= pd.read_csv('final_dataset_pubmed.csv')\n",
    "\n",
    "# Check the first few rows\n",
    "df_2.head()"
   ]
  },
  {
   "cell_type": "code",
   "execution_count": 8,
   "metadata": {},
   "outputs": [],
   "source": [
    "# Create a dictionary mapping column names to indices (excluding 'node' and 'label')\n",
    "column_dict = {col: idx + 1 for idx, col in enumerate(df_2.columns) if col not in ['NODE', 'Label']}\n",
    "\n",
    "# # View the dictionary\n",
    "# print(column_dict)\n"
   ]
  },
  {
   "cell_type": "code",
   "execution_count": 9,
   "metadata": {},
   "outputs": [],
   "source": [
    "\n",
    "# Assume df is your TF-IDF dataframe\n",
    "df = df_2.reset_index(drop=True)\n",
    "vocab = df.columns[2:]  # Skipping 'NODE' and 'Label' columns\n",
    "\n",
    "def tfidf_to_review(row, max_words=300):\n",
    "    word_list = []\n",
    "    for word in vocab:\n",
    "        tfidf_score = row[word]\n",
    "        if tfidf_score > 0:\n",
    "            repeat_count = int(tfidf_score // 5)  # Scale down to reduce long reviews\n",
    "            word_list.extend([word] * repeat_count)\n",
    "    return ' '.join(word_list[:max_words])  # Truncate to max_words\n",
    "\n",
    "# Apply to all rows\n",
    "pseudo_reviews = df.apply(tfidf_to_review, axis=1)\n",
    "\n",
    "# Extract labels\n",
    "labels = df['Label'].values\n"
   ]
  },
  {
   "cell_type": "code",
   "execution_count": null,
   "metadata": {},
   "outputs": [],
   "source": [
    "# # View pseudo-reviews with their corresponding class labels\n",
    "# for i in range(5):\n",
    "#     print(f\"Label: {labels[i]} | Review: {pseudo_reviews[i]}\")\n",
    "#     print(\"-\" * 100)\n",
    "\n"
   ]
  },
  {
   "cell_type": "code",
   "execution_count": 10,
   "metadata": {},
   "outputs": [
    {
     "name": "stdout",
     "output_type": "stream",
     "text": [
      "   Label                                      Pseudo_Review\n",
      "0      1  rat rat rat rat rat rat rat rat rat common com...\n",
      "1      1  rat rat use anim anim anim metabol metabol met...\n",
      "2      1  rat rat rat rat rat rat rat rat rat rat use an...\n",
      "3      2  model model model develop month month method l...\n",
      "4      1  rat rat rat anim anim anim anim anim anim anim...\n"
     ]
    }
   ],
   "source": [
    "df = pd.DataFrame({'Label': labels, 'Pseudo_Review': pseudo_reviews})\n",
    "print(df.head())\n"
   ]
  },
  {
   "cell_type": "code",
   "execution_count": 11,
   "metadata": {
    "id": "4XkHK6GeCgd6"
   },
   "outputs": [
    {
     "data": {
      "text/html": [
       "<div>\n",
       "<style scoped>\n",
       "    .dataframe tbody tr th:only-of-type {\n",
       "        vertical-align: middle;\n",
       "    }\n",
       "\n",
       "    .dataframe tbody tr th {\n",
       "        vertical-align: top;\n",
       "    }\n",
       "\n",
       "    .dataframe thead th {\n",
       "        text-align: right;\n",
       "    }\n",
       "</style>\n",
       "<table border=\"1\" class=\"dataframe\">\n",
       "  <thead>\n",
       "    <tr style=\"text-align: right;\">\n",
       "      <th></th>\n",
       "      <th>Label</th>\n",
       "      <th>Pseudo_Review</th>\n",
       "    </tr>\n",
       "  </thead>\n",
       "  <tbody>\n",
       "    <tr>\n",
       "      <th>0</th>\n",
       "      <td>1</td>\n",
       "      <td>rat rat rat rat rat rat rat rat rat common com...</td>\n",
       "    </tr>\n",
       "    <tr>\n",
       "      <th>1</th>\n",
       "      <td>1</td>\n",
       "      <td>rat rat use anim anim anim metabol metabol met...</td>\n",
       "    </tr>\n",
       "    <tr>\n",
       "      <th>2</th>\n",
       "      <td>1</td>\n",
       "      <td>rat rat rat rat rat rat rat rat rat rat use an...</td>\n",
       "    </tr>\n",
       "    <tr>\n",
       "      <th>3</th>\n",
       "      <td>2</td>\n",
       "      <td>model model model develop month month method l...</td>\n",
       "    </tr>\n",
       "    <tr>\n",
       "      <th>4</th>\n",
       "      <td>1</td>\n",
       "      <td>rat rat rat anim anim anim anim anim anim anim...</td>\n",
       "    </tr>\n",
       "  </tbody>\n",
       "</table>\n",
       "</div>"
      ],
      "text/plain": [
       "   Label                                      Pseudo_Review\n",
       "0      1  rat rat rat rat rat rat rat rat rat common com...\n",
       "1      1  rat rat use anim anim anim metabol metabol met...\n",
       "2      1  rat rat rat rat rat rat rat rat rat rat use an...\n",
       "3      2  model model model develop month month method l...\n",
       "4      1  rat rat rat anim anim anim anim anim anim anim..."
      ]
     },
     "execution_count": 11,
     "metadata": {},
     "output_type": "execute_result"
    }
   ],
   "source": [
    "df=df[df['Label'].isin([1, 2])]\n",
    "df.head()"
   ]
  },
  {
   "cell_type": "code",
   "execution_count": 12,
   "metadata": {
    "id": "f3V-PTGlCgbv"
   },
   "outputs": [],
   "source": [
    "# df= df.fillna(0).round().astype('Int64', errors='ignore')  # Fill NaNs with 0, round, and convert to integers\n"
   ]
  },
  {
   "cell_type": "code",
   "execution_count": 13,
   "metadata": {
    "colab": {
     "base_uri": "https://localhost:8080/",
     "height": 256
    },
    "id": "eI55XYqrCgZW",
    "outputId": "d770752e-1e3c-4766-d58f-930cabdf34a0"
   },
   "outputs": [],
   "source": [
    "# df.head()"
   ]
  },
  {
   "cell_type": "code",
   "execution_count": 14,
   "metadata": {
    "colab": {
     "base_uri": "https://localhost:8080/"
    },
    "id": "9d1FUeuhCqd9",
    "outputId": "8d1b9b6c-c10f-4fb3-fb34-178c91aba839"
   },
   "outputs": [
    {
     "name": "stdout",
     "output_type": "stream",
     "text": [
      "Label            0\n",
      "Pseudo_Review    0\n",
      "dtype: int64\n",
      "False\n"
     ]
    }
   ],
   "source": [
    "# Check for missing values\n",
    "print(df.isnull().sum())\n",
    "print(df.isnull().values.any())  # Returns True if any NaN is present\n"
   ]
  },
  {
   "cell_type": "code",
   "execution_count": 15,
   "metadata": {},
   "outputs": [
    {
     "name": "stdout",
     "output_type": "stream",
     "text": [
      "Label\n",
      "2    7875\n",
      "1    4103\n",
      "Name: count, dtype: int64\n"
     ]
    }
   ],
   "source": [
    "import pandas as pd\n",
    "\n",
    "# Suppose your DataFrame is called df\n",
    "label_counts = df['Label'].value_counts()\n",
    "\n",
    "print(label_counts)"
   ]
  },
  {
   "cell_type": "code",
   "execution_count": 16,
   "metadata": {},
   "outputs": [
    {
     "name": "stdout",
     "output_type": "stream",
     "text": [
      "Label\n",
      "1    4103\n",
      "0    4103\n",
      "Name: count, dtype: int64\n"
     ]
    }
   ],
   "source": [
    "from sklearn.utils import resample\n",
    "\n",
    "# Separate majority and minority classes\n",
    "df_majority = df[df['Label'] == 2]\n",
    "df_minority = df[df['Label'] == 1]\n",
    "\n",
    "# Downsample majority class\n",
    "df_majority_downsampled = resample(df_majority, \n",
    "                                   replace=False,    # sample without replacement\n",
    "                                   n_samples=len(df_minority), # match minority count\n",
    "                                   random_state=42)  # reproducible results\n",
    "\n",
    "# Combine minority class with downsampled majority class\n",
    "df_balanced = pd.concat([df_majority_downsampled, df_minority])\n",
    "\n",
    "# Shuffle the dataset\n",
    "df_balanced = df_balanced.sample(frac=1, random_state=42).reset_index(drop=True)\n",
    "# Ensure the labels are integers before mapping\n",
    "df_balanced['Label'] = df_balanced['Label'].astype(int).map({1: 0, 2: 1})\n",
    "\n",
    "\n",
    "print(df_balanced['Label'].value_counts())"
   ]
  },
  {
   "cell_type": "code",
   "execution_count": 17,
   "metadata": {},
   "outputs": [],
   "source": [
    "import pandas as pd\n",
    "import numpy as np\n",
    "from sklearn.model_selection import train_test_split\n",
    "from tensorflow.keras.preprocessing.text import Tokenizer\n",
    "from tensorflow.keras.preprocessing.sequence import pad_sequences\n",
    "\n",
    "# Assuming your data looks like this:\n",
    "# df = pd.DataFrame({'Pseudo_Review': [...], 'Label': [...]})\n",
    "# You can load it or define it as needed.\n",
    "\n",
    "# Example setup:\n",
    "texts = df['Pseudo_Review'].astype(str).tolist()  # list of reviews\n",
    "labels = df['Label'].astype(int).tolist()         # list of labels\n"
   ]
  },
  {
   "cell_type": "code",
   "execution_count": 18,
   "metadata": {},
   "outputs": [],
   "source": [
    "vocab_size = 1000\n",
    "tokenizer = Tokenizer(num_words=vocab_size, oov_token=\"<OOV>\")\n",
    "tokenizer.fit_on_texts(texts)\n",
    "\n",
    "sequences = tokenizer.texts_to_sequences(texts)\n"
   ]
  },
  {
   "cell_type": "code",
   "execution_count": 19,
   "metadata": {},
   "outputs": [],
   "source": [
    "maxlen = 200  # choose based on average sequence length or experiment\n",
    "padded_sequences = pad_sequences(sequences, maxlen=maxlen, padding='post', truncating='post')\n"
   ]
  },
  {
   "cell_type": "code",
   "execution_count": 20,
   "metadata": {},
   "outputs": [],
   "source": [
    "x_train, x_test, y_train, y_test = train_test_split(\n",
    "    padded_sequences, labels, test_size=0.2, random_state=42\n",
    ")\n",
    "\n",
    "x_train = np.array(x_train)\n",
    "x_test = np.array(x_test)\n",
    "y_train = np.array(y_train)\n",
    "y_test = np.array(y_test)\n"
   ]
  },
  {
   "cell_type": "code",
   "execution_count": 21,
   "metadata": {},
   "outputs": [
    {
     "name": "stdout",
     "output_type": "stream",
     "text": [
      "Label\n",
      "1    4103\n",
      "0    4103\n",
      "Name: count, dtype: int64\n"
     ]
    }
   ],
   "source": [
    "df = df_balanced\n",
    "print(df['Label'].value_counts())"
   ]
  },
  {
   "cell_type": "code",
   "execution_count": 22,
   "metadata": {
    "colab": {
     "base_uri": "https://localhost:8080/"
    },
    "id": "AsVySQhMCqWa",
    "outputId": "9ce2ca0e-5b95-489e-875e-15cefd2a2c20"
   },
   "outputs": [
    {
     "name": "stdout",
     "output_type": "stream",
     "text": [
      "                                       Pseudo_Review\n",
      "0  examin metabol lipid lipid lipid lipid lipid l...\n",
      "1  metabol metabol metabol metabol metabol metabo...\n",
      "2  compar method result 3 similar similar observ ...\n",
      "3  use studi develop develop 2 compar 6 6 3 3 p p...\n",
      "4  rat rat rat rat rat rat rat rat studi studi st...\n",
      "0    1\n",
      "1    1\n",
      "2    1\n",
      "3    1\n",
      "4    0\n",
      "Name: Label, dtype: int64\n"
     ]
    }
   ],
   "source": [
    "# Separate features and target\n",
    "X = df.drop(columns=['Label'])  # Assuming 'Label' is the target\n",
    "y = df['Label']\n",
    "\n",
    "print(X.head())\n",
    "print(y.head())\n"
   ]
  },
  {
   "cell_type": "code",
   "execution_count": 23,
   "metadata": {},
   "outputs": [
    {
     "name": "stdout",
     "output_type": "stream",
     "text": [
      "X_train shape: (9582, 200), y_train shape: (9582,)\n",
      "X_test shape: (2396, 200), y_test shape: (2396,)\n"
     ]
    }
   ],
   "source": [
    "# Check the shapes of the splits\n",
    "print(f'X_train shape: {x_train.shape}, y_train shape: {y_train.shape}')\n",
    "print(f'X_test shape: {x_test.shape}, y_test shape: {y_test.shape}')"
   ]
  },
  {
   "cell_type": "code",
   "execution_count": 24,
   "metadata": {
    "id": "eeSrbQA4CtN4"
   },
   "outputs": [
    {
     "name": "stdout",
     "output_type": "stream",
     "text": [
      "[ 90 140 216 216  85  85  28  43  78 130 130 219 219 219  11  11  55  55\n",
      "  55  55  55  55  55  55  55  55  55  55  55  55  55  55  55  55 189 189\n",
      " 221 221 375 375 375  20  57  57  57  45 429 429 429  54 381 381 381 358\n",
      " 358 358 129 129 129 129  98  98  98  98  98  98  98  98  98  98  98  98\n",
      "  98  88 295 295 295  49 386 386 386 160 160 160 146 146 146 146 146 146\n",
      " 146 229 229 229 242 242 242 176 176 176 176 176 236 236 236 236 315 315\n",
      " 315 315  40  40  93  93  93  93 255 255 255 255 255 255 255 255 255 255\n",
      " 255 255 255 255 255 255 255 255 255 255 255 255 255 197 197 197 197 197\n",
      " 197 197 197 197 197 197 197 197 197 197 197 197 197 197  23  23  23  23\n",
      "  23  23  23  23  23  23  23  23  23  23 104 104 104  50  50  50  50  73\n",
      "  73  73  73  73  73  73  73  73  73  73  73  73  73  73  73  73  73  73\n",
      " 316 316]\n"
     ]
    }
   ],
   "source": [
    "print(x_train[0])\n"
   ]
  },
  {
   "cell_type": "code",
   "execution_count": 25,
   "metadata": {
    "colab": {
     "base_uri": "https://localhost:8080/"
    },
    "id": "3OAqYWS7CtKf",
    "outputId": "8259e0f3-809b-47b0-c0f6-edae041897bd"
   },
   "outputs": [],
   "source": [
    "# # # Handle missing values (e.g., fill with the mean of each column)\n",
    "# # X = X.fillna(X.mean())\n",
    "\n",
    "# # Split the data into training and testing sets (80% train, 20% test)\n",
    "# x_train, x_test, y_train, y_test = train_test_split(X_np, y_np, test_size=0.2, random_state=42)\n",
    "\n",
    "# # Check the shapes of the splits\n",
    "# print(f'X_train shape: {x_train.shape}, y_train shape: {y_train.shape}')\n",
    "# print(f'X_test shape: {x_test.shape}, y_test shape: {y_test.shape}')"
   ]
  },
  {
   "cell_type": "code",
   "execution_count": 26,
   "metadata": {
    "colab": {
     "base_uri": "https://localhost:8080/"
    },
    "id": "UKsyy2IcCy5s",
    "outputId": "c8cbdb5c-5590-4361-95ca-4a25b30f9b73"
   },
   "outputs": [
    {
     "name": "stdout",
     "output_type": "stream",
     "text": [
      "<class 'numpy.ndarray'>\n"
     ]
    }
   ],
   "source": [
    "print(type(y_train))"
   ]
  },
  {
   "cell_type": "code",
   "execution_count": 27,
   "metadata": {
    "colab": {
     "base_uri": "https://localhost:8080/"
    },
    "id": "cs7B_nN-Cy2O",
    "outputId": "feae4702-e1d0-4851-951f-d72fd234d55a"
   },
   "outputs": [
    {
     "data": {
      "text/plain": [
       "2"
      ]
     },
     "execution_count": 27,
     "metadata": {},
     "output_type": "execute_result"
    }
   ],
   "source": [
    "y_train[0]"
   ]
  },
  {
   "cell_type": "code",
   "execution_count": 28,
   "metadata": {
    "colab": {
     "base_uri": "https://localhost:8080/"
    },
    "id": "-5SeUfmtCyy3",
    "outputId": "12d3c895-7c36-4b05-90fa-de738a914fe4"
   },
   "outputs": [
    {
     "name": "stdout",
     "output_type": "stream",
     "text": [
      "<class 'numpy.ndarray'>\n"
     ]
    }
   ],
   "source": [
    "print(type(y_test))"
   ]
  },
  {
   "cell_type": "code",
   "execution_count": 29,
   "metadata": {},
   "outputs": [
    {
     "name": "stdout",
     "output_type": "stream",
     "text": [
      "Unique y_train labels: {1, 2}\n",
      "Unique y_test labels: {1, 2}\n"
     ]
    }
   ],
   "source": [
    "print(\"Unique y_train labels:\", set(y_train))\n",
    "print(\"Unique y_test labels:\", set(y_test))\n"
   ]
  },
  {
   "cell_type": "code",
   "execution_count": 30,
   "metadata": {
    "id": "xQ7ozMuQCtH5"
   },
   "outputs": [
    {
     "name": "stdout",
     "output_type": "stream",
     "text": [
      "Train class balance: 64 64\n",
      "Test class balance: 64 64\n"
     ]
    }
   ],
   "source": [
    "import random\n",
    "\n",
    "selected_num = 128\n",
    "\n",
    "# Remap labels before any sampling\n",
    "y_train = [0 if y == 1 else 1 for y in y_train]\n",
    "y_test = [0 if y == 1 else 1 for y in y_test]\n",
    "\n",
    "# Now shuffle\n",
    "train_data = list(zip(x_train, y_train))\n",
    "test_data = list(zip(x_test, y_test))\n",
    "...\n",
    "\n",
    "# Shuffle data\n",
    "train_data = list(zip(x_train, y_train))\n",
    "test_data = list(zip(x_test, y_test))\n",
    "random.shuffle(train_data)\n",
    "random.shuffle(test_data)\n",
    "x_train_shuffled, y_train_shuffled = zip(*train_data)\n",
    "x_test_shuffled, y_test_shuffled = zip(*test_data)\n",
    "\n",
    "# Balanced sampling for train\n",
    "new_x_train = []\n",
    "new_y_train = []\n",
    "class_0_count = 0\n",
    "class_1_count = 0\n",
    "indx = 0\n",
    "\n",
    "while len(new_x_train) < selected_num and indx < len(x_train_shuffled):\n",
    "    label = y_train_shuffled[indx]\n",
    "    if label == 0 and class_0_count < selected_num // 2:\n",
    "        new_x_train.append(x_train_shuffled[indx])\n",
    "        new_y_train.append(label)\n",
    "        class_0_count += 1\n",
    "    elif label == 1 and class_1_count < selected_num // 2:\n",
    "        new_x_train.append(x_train_shuffled[indx])\n",
    "        new_y_train.append(label)\n",
    "        class_1_count += 1\n",
    "    indx += 1\n",
    "\n",
    "# Balanced sampling for test\n",
    "new_x_test = []\n",
    "new_y_test = []\n",
    "class_0_count = 0\n",
    "class_1_count = 0\n",
    "indx = 0\n",
    "\n",
    "while len(new_x_test) < selected_num and indx < len(x_test_shuffled):\n",
    "    label = y_test_shuffled[indx]\n",
    "    if label == 0 and class_0_count < selected_num // 2:\n",
    "        new_x_test.append(x_test_shuffled[indx])\n",
    "        new_y_test.append(label)\n",
    "        class_0_count += 1\n",
    "    elif label == 1 and class_1_count < selected_num // 2:\n",
    "        new_x_test.append(x_test_shuffled[indx])\n",
    "        new_y_test.append(label)\n",
    "        class_1_count += 1\n",
    "    indx += 1\n",
    "\n",
    "# Check results\n",
    "print(\"Train class balance:\", new_y_train.count(0), new_y_train.count(1))\n",
    "print(\"Test class balance:\", new_y_test.count(0), new_y_test.count(1))\n"
   ]
  },
  {
   "cell_type": "code",
   "execution_count": 31,
   "metadata": {},
   "outputs": [
    {
     "name": "stdout",
     "output_type": "stream",
     "text": [
      "Train class balance: 64 64\n",
      "Test class balance: 64 64\n"
     ]
    }
   ],
   "source": [
    "print(\"Train class balance:\", new_y_train.count(0), new_y_train.count(1))\n",
    "print(\"Test class balance:\", new_y_test.count(0), new_y_test.count(1))\n"
   ]
  },
  {
   "cell_type": "code",
   "execution_count": 32,
   "metadata": {
    "colab": {
     "base_uri": "https://localhost:8080/"
    },
    "id": "zFfB3t8rDAv_",
    "outputId": "75db4339-e773-4eed-df52-4d5b3b327683"
   },
   "outputs": [],
   "source": [
    "# print([len(str(x)) for x in new_x_train])  # Converts to string to avoid errors\n"
   ]
  },
  {
   "cell_type": "code",
   "execution_count": 36,
   "metadata": {},
   "outputs": [],
   "source": [
    "# !pip3 install seaborn\n"
   ]
  },
  {
   "cell_type": "code",
   "execution_count": 37,
   "metadata": {
    "id": "n5O-yiTYDAsh"
   },
   "outputs": [
    {
     "name": "stdout",
     "output_type": "stream",
     "text": [
      "x_train length: 128\n",
      "x_test length: 128\n"
     ]
    }
   ],
   "source": [
    "x_train=np.array(new_x_train)#[:128]\n",
    "y_train=np.array(new_y_train)#[:128]\n",
    "\n",
    "x_test=np.array(new_x_test)#[:128]\n",
    "y_test=np.array(new_y_test)#[:128]\n",
    "\n",
    "print(\"x_train length:\", len(x_train))\n",
    "print(\"x_test length:\", len(x_test))\n"
   ]
  },
  {
   "cell_type": "code",
   "execution_count": 40,
   "metadata": {},
   "outputs": [
    {
     "name": "stdout",
     "output_type": "stream",
     "text": [
      "Total number of parameters: 401\n"
     ]
    }
   ],
   "source": [
    "n_classes = len(set(y_train))\n",
    "n_features = x_train.shape[1]\n",
    "\n",
    "total_parameters = (n_classes - 1) + (n_classes * n_features)\n",
    "print(f\"Total number of parameters: {total_parameters}\")\n"
   ]
  },
  {
   "cell_type": "code",
   "execution_count": 38,
   "metadata": {},
   "outputs": [
    {
     "name": "stdout",
     "output_type": "stream",
     "text": [
      "Best hyperparameters: {'alpha': 0.1}\n",
      "Test Accuracy: 0.734375\n",
      "\n",
      "Classification Report:\n",
      "               precision    recall  f1-score   support\n",
      "\n",
      "           0       0.73      0.75      0.74        64\n",
      "           1       0.74      0.72      0.73        64\n",
      "\n",
      "    accuracy                           0.73       128\n",
      "   macro avg       0.73      0.73      0.73       128\n",
      "weighted avg       0.73      0.73      0.73       128\n",
      "\n"
     ]
    },
    {
     "data": {
      "image/png": "[encoded data removed]",
      "text/plain": [
       "<Figure size 800x600 with 2 Axes>"
      ]
     },
     "metadata": {},
     "output_type": "display_data"
    }
   ],
   "source": [
    "from sklearn.naive_bayes import MultinomialNB\n",
    "from sklearn.model_selection import GridSearchCV\n",
    "from sklearn.metrics import accuracy_score, classification_report, confusion_matrix\n",
    "import seaborn as sns\n",
    "import matplotlib.pyplot as plt\n",
    "\n",
    "# Step 1: Define the model\n",
    "model = MultinomialNB()\n",
    "\n",
    "# Step 2: Define the hyperparameter grid\n",
    "param_grid = {\n",
    "    'alpha': [0.1, 0.5, 1.0, 2.0, 5.0, 10.0]  # alpha = smoothing parameter\n",
    "}\n",
    "\n",
    "# Step 3: Set up GridSearchCV\n",
    "grid_search = GridSearchCV(model, param_grid, cv=5, scoring='accuracy')\n",
    "\n",
    "# Step 4: Train\n",
    "grid_search.fit(x_train, y_train)\n",
    "\n",
    "# Step 5: Best model and parameters\n",
    "best_model = grid_search.best_estimator_\n",
    "print(\"Best hyperparameters:\", grid_search.best_params_)\n",
    "\n",
    "# Step 6: Predictions on test set\n",
    "y_pred = best_model.predict(x_test)\n",
    "\n",
    "# Step 7: Evaluate\n",
    "print(\"Test Accuracy:\", accuracy_score(y_test, y_pred))\n",
    "print(\"\\nClassification Report:\\n\", classification_report(y_test, y_pred))\n",
    "\n",
    "# Optional: Confusion matrix\n",
    "cm = confusion_matrix(y_test, y_pred)\n",
    "plt.figure(figsize=(8,6))\n",
    "sns.heatmap(cm, annot=True, fmt='d', cmap='Blues')\n",
    "plt.xlabel('Predicted Label')\n",
    "plt.ylabel('True Label')\n",
    "plt.title('Confusion Matrix')\n",
    "plt.show()\n"
   ]
  },
  {
   "cell_type": "code",
   "execution_count": 39,
   "metadata": {},
   "outputs": [
    {
     "data": {
      "image/png": "[encoded data removed]",
      "text/plain": [
       "<Figure size 800x600 with 1 Axes>"
      ]
     },
     "metadata": {},
     "output_type": "display_data"
    }
   ],
   "source": [
    "from sklearn.metrics import roc_curve, auc, roc_auc_score\n",
    "import matplotlib.pyplot as plt\n",
    "\n",
    "# Make probability predictions instead of hard labels\n",
    "y_probs = best_model.predict_proba(x_test)[:, 1]  # Probabilities for class 1\n",
    "\n",
    "# Calculate FPR, TPR\n",
    "fpr, tpr, thresholds = roc_curve(y_test, y_probs)\n",
    "roc_auc = auc(fpr, tpr)\n",
    "\n",
    "# Plot\n",
    "plt.figure(figsize=(8,6))\n",
    "plt.plot(fpr, tpr, color='darkorange', lw=2, label=f'ROC curve (area = {roc_auc:.2f})')\n",
    "plt.plot([0, 1], [0, 1], color='navy', lw=2, linestyle='--')  # Random guess line\n",
    "plt.xlim([0.0, 1.0])\n",
    "plt.ylim([0.0, 1.05])\n",
    "plt.xlabel('False Positive Rate')\n",
    "plt.ylabel('True Positive Rate')\n",
    "plt.title('Receiver Operating Characteristic (ROC) Curve')\n",
    "plt.legend(loc=\"lower right\")\n",
    "plt.grid()\n",
    "plt.show()\n"
   ]
  },
  {
   "cell_type": "code",
   "execution_count": null,
   "metadata": {},
   "outputs": [],
   "source": []
  }
 ],
 "metadata": {
  "accelerator": "GPU",
  "colab": {
   "gpuType": "T4",
   "provenance": []
  },
  "kernelspec": {
   "display_name": "Python 3.11",
   "language": "python",
   "name": "python3.11"
  },
  "language_info": {
   "codemirror_mode": {
    "name": "ipython",
    "version": 3
   },
   "file_extension": ".py",
   "mimetype": "text/x-python",
   "name": "python",
   "nbconvert_exporter": "python",
   "pygments_lexer": "ipython3",
   "version": "3.11.12"
  }
 },
 "nbformat": 4,
 "nbformat_minor": 4
}
