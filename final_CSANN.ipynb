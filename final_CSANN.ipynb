{
 "cells": [
  {
   "cell_type": "code",
   "execution_count": 7,
   "metadata": {},
   "outputs": [
    {
     "name": "stdout",
     "output_type": "stream",
     "text": [
      "All imports successful!\n"
     ]
    }
   ],
   "source": [
    "# # Test your imports\n",
    "# from qiskit import *\n",
    "# from qiskit import QuantumCircuit\n",
    "# import qiskit.circuit.library as circuit_library\n",
    "# import qiskit.quantum_info as qi\n",
    "# from qiskit.utils import algorithm_globals\n",
    "# from qiskit.circuit.library import EfficientSU2\n",
    "# from qiskit_machine_learning.neural_networks import SamplerQNN, EstimatorQNN\n",
    "# from qiskit_machine_learning.connectors import TorchConnector\n",
    "import torch\n",
    "# from qiskit.circuit import ParameterVector\n",
    "from torch import Tensor\n",
    "import torch.nn as nn\n",
    "import numpy as np\n",
    "# from qiskit.quantum_info import SparsePauliOp\n",
    "from tqdm import tqdm\n",
    "# from tensorflow.keras.preprocessing.sequence import pad_sequences\n",
    "\n",
    "print(\"All imports successful!\")"
   ]
  },
  {
   "cell_type": "code",
   "execution_count": 9,
   "metadata": {
    "colab": {
     "base_uri": "https://localhost:8080/"
    },
    "id": "kxDzmVWhCZqL",
    "outputId": "50bc44bb-36d1-4c30-b47c-54f39ed55afa"
   },
   "outputs": [],
   "source": [
    "# from google.colab import drive\n",
    "# drive.mount('/content/gdrive')"
   ]
  },
  {
   "cell_type": "code",
   "execution_count": 10,
   "metadata": {
    "id": "RQGjPtjkCe1Z"
   },
   "outputs": [],
   "source": [
    "# path='/content/gdrive/MyDrive/NLP_projects/Lucas'"
   ]
  },
  {
   "cell_type": "code",
   "execution_count": 11,
   "metadata": {
    "colab": {
     "base_uri": "https://localhost:8080/",
     "height": 256
    },
    "id": "vGdQ6oU_CghZ",
    "outputId": "b476f906-425f-425d-c8a0-650550350314"
   },
   "outputs": [
    {
     "data": {
      "text/html": [
       "<div>\n",
       "<style scoped>\n",
       "    .dataframe tbody tr th:only-of-type {\n",
       "        vertical-align: middle;\n",
       "    }\n",
       "\n",
       "    .dataframe tbody tr th {\n",
       "        vertical-align: top;\n",
       "    }\n",
       "\n",
       "    .dataframe thead th {\n",
       "        text-align: right;\n",
       "    }\n",
       "</style>\n",
       "<table border=\"1\" class=\"dataframe\">\n",
       "  <thead>\n",
       "    <tr style=\"text-align: right;\">\n",
       "      <th></th>\n",
       "      <th>NODE</th>\n",
       "      <th>Label</th>\n",
       "      <th>rat</th>\n",
       "      <th>common</th>\n",
       "      <th>use</th>\n",
       "      <th>examin</th>\n",
       "      <th>pathogenesi</th>\n",
       "      <th>retinopathi</th>\n",
       "      <th>mous</th>\n",
       "      <th>studi</th>\n",
       "      <th>...</th>\n",
       "      <th>kidney</th>\n",
       "      <th>urinari</th>\n",
       "      <th>myocardi</th>\n",
       "      <th>meal</th>\n",
       "      <th>ica</th>\n",
       "      <th>locus</th>\n",
       "      <th>tcell</th>\n",
       "      <th>depress</th>\n",
       "      <th>bone</th>\n",
       "      <th>mutat</th>\n",
       "    </tr>\n",
       "  </thead>\n",
       "  <tbody>\n",
       "    <tr>\n",
       "      <th>0</th>\n",
       "      <td>12187484</td>\n",
       "      <td>1</td>\n",
       "      <td>46.967448</td>\n",
       "      <td>14.349229</td>\n",
       "      <td>5.880063</td>\n",
       "      <td>9.687707</td>\n",
       "      <td>31.58066</td>\n",
       "      <td>85.445293</td>\n",
       "      <td>33.85124</td>\n",
       "      <td>8.777305</td>\n",
       "      <td>...</td>\n",
       "      <td>0.0</td>\n",
       "      <td>0.0</td>\n",
       "      <td>0.0</td>\n",
       "      <td>0.0</td>\n",
       "      <td>0.0</td>\n",
       "      <td>0.0</td>\n",
       "      <td>0.0</td>\n",
       "      <td>0.0</td>\n",
       "      <td>0.0</td>\n",
       "      <td>0.0</td>\n",
       "    </tr>\n",
       "    <tr>\n",
       "      <th>1</th>\n",
       "      <td>2344352</td>\n",
       "      <td>1</td>\n",
       "      <td>11.808958</td>\n",
       "      <td>0.000000</td>\n",
       "      <td>7.392080</td>\n",
       "      <td>0.000000</td>\n",
       "      <td>0.00000</td>\n",
       "      <td>0.000000</td>\n",
       "      <td>0.00000</td>\n",
       "      <td>0.000000</td>\n",
       "      <td>...</td>\n",
       "      <td>0.0</td>\n",
       "      <td>0.0</td>\n",
       "      <td>0.0</td>\n",
       "      <td>0.0</td>\n",
       "      <td>0.0</td>\n",
       "      <td>0.0</td>\n",
       "      <td>0.0</td>\n",
       "      <td>0.0</td>\n",
       "      <td>0.0</td>\n",
       "      <td>0.0</td>\n",
       "    </tr>\n",
       "    <tr>\n",
       "      <th>2</th>\n",
       "      <td>14654069</td>\n",
       "      <td>1</td>\n",
       "      <td>51.131572</td>\n",
       "      <td>0.000000</td>\n",
       "      <td>5.334490</td>\n",
       "      <td>0.000000</td>\n",
       "      <td>0.00000</td>\n",
       "      <td>0.000000</td>\n",
       "      <td>0.00000</td>\n",
       "      <td>0.000000</td>\n",
       "      <td>...</td>\n",
       "      <td>0.0</td>\n",
       "      <td>0.0</td>\n",
       "      <td>0.0</td>\n",
       "      <td>0.0</td>\n",
       "      <td>0.0</td>\n",
       "      <td>0.0</td>\n",
       "      <td>0.0</td>\n",
       "      <td>0.0</td>\n",
       "      <td>0.0</td>\n",
       "      <td>0.0</td>\n",
       "    </tr>\n",
       "    <tr>\n",
       "      <th>3</th>\n",
       "      <td>16443886</td>\n",
       "      <td>2</td>\n",
       "      <td>0.000000</td>\n",
       "      <td>0.000000</td>\n",
       "      <td>0.000000</td>\n",
       "      <td>0.000000</td>\n",
       "      <td>0.00000</td>\n",
       "      <td>0.000000</td>\n",
       "      <td>0.00000</td>\n",
       "      <td>0.000000</td>\n",
       "      <td>...</td>\n",
       "      <td>0.0</td>\n",
       "      <td>0.0</td>\n",
       "      <td>0.0</td>\n",
       "      <td>0.0</td>\n",
       "      <td>0.0</td>\n",
       "      <td>0.0</td>\n",
       "      <td>0.0</td>\n",
       "      <td>0.0</td>\n",
       "      <td>0.0</td>\n",
       "      <td>0.0</td>\n",
       "    </tr>\n",
       "    <tr>\n",
       "      <th>4</th>\n",
       "      <td>2684155</td>\n",
       "      <td>1</td>\n",
       "      <td>15.307909</td>\n",
       "      <td>0.000000</td>\n",
       "      <td>0.000000</td>\n",
       "      <td>0.000000</td>\n",
       "      <td>0.00000</td>\n",
       "      <td>0.000000</td>\n",
       "      <td>0.00000</td>\n",
       "      <td>0.000000</td>\n",
       "      <td>...</td>\n",
       "      <td>0.0</td>\n",
       "      <td>0.0</td>\n",
       "      <td>0.0</td>\n",
       "      <td>0.0</td>\n",
       "      <td>0.0</td>\n",
       "      <td>0.0</td>\n",
       "      <td>0.0</td>\n",
       "      <td>0.0</td>\n",
       "      <td>0.0</td>\n",
       "      <td>0.0</td>\n",
       "    </tr>\n",
       "  </tbody>\n",
       "</table>\n",
       "<p>5 rows × 502 columns</p>\n",
       "</div>"
      ],
      "text/plain": [
       "       NODE  Label        rat     common       use    examin  pathogenesi  \\\n",
       "0  12187484      1  46.967448  14.349229  5.880063  9.687707     31.58066   \n",
       "1   2344352      1  11.808958   0.000000  7.392080  0.000000      0.00000   \n",
       "2  14654069      1  51.131572   0.000000  5.334490  0.000000      0.00000   \n",
       "3  16443886      2   0.000000   0.000000  0.000000  0.000000      0.00000   \n",
       "4   2684155      1  15.307909   0.000000  0.000000  0.000000      0.00000   \n",
       "\n",
       "   retinopathi      mous     studi  ...  kidney  urinari  myocardi  meal  ica  \\\n",
       "0    85.445293  33.85124  8.777305  ...     0.0      0.0       0.0   0.0  0.0   \n",
       "1     0.000000   0.00000  0.000000  ...     0.0      0.0       0.0   0.0  0.0   \n",
       "2     0.000000   0.00000  0.000000  ...     0.0      0.0       0.0   0.0  0.0   \n",
       "3     0.000000   0.00000  0.000000  ...     0.0      0.0       0.0   0.0  0.0   \n",
       "4     0.000000   0.00000  0.000000  ...     0.0      0.0       0.0   0.0  0.0   \n",
       "\n",
       "   locus  tcell  depress  bone  mutat  \n",
       "0    0.0    0.0      0.0   0.0    0.0  \n",
       "1    0.0    0.0      0.0   0.0    0.0  \n",
       "2    0.0    0.0      0.0   0.0    0.0  \n",
       "3    0.0    0.0      0.0   0.0    0.0  \n",
       "4    0.0    0.0      0.0   0.0    0.0  \n",
       "\n",
       "[5 rows x 502 columns]"
      ]
     },
     "execution_count": 11,
     "metadata": {},
     "output_type": "execute_result"
    }
   ],
   "source": [
    "import pandas as pd\n",
    "from sklearn.model_selection import train_test_split\n",
    "\n",
    "# Load CSV file\n",
    "df_2= pd.read_csv('final_dataset_pubmed.csv')\n",
    "\n",
    "# Check the first few rows\n",
    "df_2.head()"
   ]
  },
  {
   "cell_type": "code",
   "execution_count": 12,
   "metadata": {},
   "outputs": [],
   "source": [
    "# Create a dictionary mapping column names to indices (excluding 'node' and 'label')\n",
    "column_dict = {col: idx + 1 for idx, col in enumerate(df_2.columns) if col not in ['NODE', 'Label']}\n",
    "\n",
    "# # View the dictionary\n",
    "# print(column_dict)\n"
   ]
  },
  {
   "cell_type": "code",
   "execution_count": 13,
   "metadata": {},
   "outputs": [],
   "source": [
    "\n",
    "# Assume df is your TF-IDF dataframe\n",
    "df = df_2.reset_index(drop=True)\n",
    "vocab = df.columns[2:]  # Skipping 'NODE' and 'Label' columns\n",
    "\n",
    "def tfidf_to_review(row, max_words=300):\n",
    "    word_list = []\n",
    "    for word in vocab:\n",
    "        tfidf_score = row[word]\n",
    "        if tfidf_score > 0:\n",
    "            repeat_count = int(tfidf_score // 5)  # Scale down to reduce long reviews\n",
    "            word_list.extend([word] * repeat_count)\n",
    "    return ' '.join(word_list[:max_words])  # Truncate to max_words\n",
    "\n",
    "# Apply to all rows\n",
    "pseudo_reviews = df.apply(tfidf_to_review, axis=1)\n",
    "\n",
    "# Extract labels\n",
    "labels = df['Label'].values\n"
   ]
  },
  {
   "cell_type": "code",
   "execution_count": 14,
   "metadata": {},
   "outputs": [],
   "source": [
    "# # View pseudo-reviews with their corresponding class labels\n",
    "# for i in range(5):\n",
    "#     print(f\"Label: {labels[i]} | Review: {pseudo_reviews[i]}\")\n",
    "#     print(\"-\" * 100)\n",
    "\n"
   ]
  },
  {
   "cell_type": "code",
   "execution_count": 15,
   "metadata": {},
   "outputs": [
    {
     "name": "stdout",
     "output_type": "stream",
     "text": [
      "   Label                                      Pseudo_Review\n",
      "0      1  rat rat rat rat rat rat rat rat rat common com...\n",
      "1      1  rat rat use anim anim anim metabol metabol met...\n",
      "2      1  rat rat rat rat rat rat rat rat rat rat use an...\n",
      "3      2  model model model develop month month method l...\n",
      "4      1  rat rat rat anim anim anim anim anim anim anim...\n"
     ]
    }
   ],
   "source": [
    "df = pd.DataFrame({'Label': labels, 'Pseudo_Review': pseudo_reviews})\n",
    "print(df.head())\n"
   ]
  },
  {
   "cell_type": "code",
   "execution_count": 16,
   "metadata": {
    "id": "4XkHK6GeCgd6"
   },
   "outputs": [
    {
     "data": {
      "text/html": [
       "<div>\n",
       "<style scoped>\n",
       "    .dataframe tbody tr th:only-of-type {\n",
       "        vertical-align: middle;\n",
       "    }\n",
       "\n",
       "    .dataframe tbody tr th {\n",
       "        vertical-align: top;\n",
       "    }\n",
       "\n",
       "    .dataframe thead th {\n",
       "        text-align: right;\n",
       "    }\n",
       "</style>\n",
       "<table border=\"1\" class=\"dataframe\">\n",
       "  <thead>\n",
       "    <tr style=\"text-align: right;\">\n",
       "      <th></th>\n",
       "      <th>Label</th>\n",
       "      <th>Pseudo_Review</th>\n",
       "    </tr>\n",
       "  </thead>\n",
       "  <tbody>\n",
       "    <tr>\n",
       "      <th>0</th>\n",
       "      <td>1</td>\n",
       "      <td>rat rat rat rat rat rat rat rat rat common com...</td>\n",
       "    </tr>\n",
       "    <tr>\n",
       "      <th>1</th>\n",
       "      <td>1</td>\n",
       "      <td>rat rat use anim anim anim metabol metabol met...</td>\n",
       "    </tr>\n",
       "    <tr>\n",
       "      <th>2</th>\n",
       "      <td>1</td>\n",
       "      <td>rat rat rat rat rat rat rat rat rat rat use an...</td>\n",
       "    </tr>\n",
       "    <tr>\n",
       "      <th>3</th>\n",
       "      <td>2</td>\n",
       "      <td>model model model develop month month method l...</td>\n",
       "    </tr>\n",
       "    <tr>\n",
       "      <th>4</th>\n",
       "      <td>1</td>\n",
       "      <td>rat rat rat anim anim anim anim anim anim anim...</td>\n",
       "    </tr>\n",
       "  </tbody>\n",
       "</table>\n",
       "</div>"
      ],
      "text/plain": [
       "   Label                                      Pseudo_Review\n",
       "0      1  rat rat rat rat rat rat rat rat rat common com...\n",
       "1      1  rat rat use anim anim anim metabol metabol met...\n",
       "2      1  rat rat rat rat rat rat rat rat rat rat use an...\n",
       "3      2  model model model develop month month method l...\n",
       "4      1  rat rat rat anim anim anim anim anim anim anim..."
      ]
     },
     "execution_count": 16,
     "metadata": {},
     "output_type": "execute_result"
    }
   ],
   "source": [
    "df=df[df['Label'].isin([1, 2])]\n",
    "df.head()"
   ]
  },
  {
   "cell_type": "code",
   "execution_count": 17,
   "metadata": {
    "id": "f3V-PTGlCgbv"
   },
   "outputs": [],
   "source": [
    "# df= df.fillna(0).round().astype('Int64', errors='ignore')  # Fill NaNs with 0, round, and convert to integers\n"
   ]
  },
  {
   "cell_type": "code",
   "execution_count": 18,
   "metadata": {
    "colab": {
     "base_uri": "https://localhost:8080/",
     "height": 256
    },
    "id": "eI55XYqrCgZW",
    "outputId": "d770752e-1e3c-4766-d58f-930cabdf34a0"
   },
   "outputs": [],
   "source": [
    "# df.head()"
   ]
  },
  {
   "cell_type": "code",
   "execution_count": 19,
   "metadata": {
    "colab": {
     "base_uri": "https://localhost:8080/"
    },
    "id": "9d1FUeuhCqd9",
    "outputId": "8d1b9b6c-c10f-4fb3-fb34-178c91aba839"
   },
   "outputs": [
    {
     "name": "stdout",
     "output_type": "stream",
     "text": [
      "Label            0\n",
      "Pseudo_Review    0\n",
      "dtype: int64\n",
      "False\n"
     ]
    }
   ],
   "source": [
    "# Check for missing values\n",
    "print(df.isnull().sum())\n",
    "print(df.isnull().values.any())  # Returns True if any NaN is present\n"
   ]
  },
  {
   "cell_type": "code",
   "execution_count": 20,
   "metadata": {},
   "outputs": [
    {
     "name": "stdout",
     "output_type": "stream",
     "text": [
      "Label\n",
      "2    7875\n",
      "1    4103\n",
      "Name: count, dtype: int64\n"
     ]
    }
   ],
   "source": [
    "import pandas as pd\n",
    "\n",
    "# Suppose your DataFrame is called df\n",
    "label_counts = df['Label'].value_counts()\n",
    "\n",
    "print(label_counts)"
   ]
  },
  {
   "cell_type": "code",
   "execution_count": 21,
   "metadata": {},
   "outputs": [
    {
     "name": "stdout",
     "output_type": "stream",
     "text": [
      "Label\n",
      "1    4103\n",
      "0    4103\n",
      "Name: count, dtype: int64\n"
     ]
    }
   ],
   "source": [
    "from sklearn.utils import resample\n",
    "\n",
    "# Separate majority and minority classes\n",
    "df_majority = df[df['Label'] == 2]\n",
    "df_minority = df[df['Label'] == 1]\n",
    "\n",
    "# Downsample majority class\n",
    "df_majority_downsampled = resample(df_majority, \n",
    "                                   replace=False,    # sample without replacement\n",
    "                                   n_samples=len(df_minority), # match minority count\n",
    "                                   random_state=42)  # reproducible results\n",
    "\n",
    "# Combine minority class with downsampled majority class\n",
    "df_balanced = pd.concat([df_majority_downsampled, df_minority])\n",
    "\n",
    "# Shuffle the dataset\n",
    "df_balanced = df_balanced.sample(frac=1, random_state=42).reset_index(drop=True)\n",
    "# Ensure the labels are integers before mapping\n",
    "df_balanced['Label'] = df_balanced['Label'].astype(int).map({1: 0, 2: 1})\n",
    "\n",
    "\n",
    "print(df_balanced['Label'].value_counts())"
   ]
  },
  {
   "cell_type": "code",
   "execution_count": 22,
   "metadata": {},
   "outputs": [
    {
     "name": "stderr",
     "output_type": "stream",
     "text": [
      "2025-05-03 19:25:40.124365: I tensorflow/core/util/port.cc:110] oneDNN custom operations are on. You may see slightly different numerical results due to floating-point round-off errors from different computation orders. To turn them off, set the environment variable `TF_ENABLE_ONEDNN_OPTS=0`.\n",
      "2025-05-03 19:25:40.185321: I tensorflow/core/platform/cpu_feature_guard.cc:182] This TensorFlow binary is optimized to use available CPU instructions in performance-critical operations.\n",
      "To enable the following instructions: AVX2 AVX_VNNI FMA, in other operations, rebuild TensorFlow with the appropriate compiler flags.\n",
      "2025-05-03 19:25:42.421576: W tensorflow/compiler/tf2tensorrt/utils/py_utils.cc:38] TF-TRT Warning: Could not find TensorRT\n"
     ]
    }
   ],
   "source": [
    "import pandas as pd\n",
    "import numpy as np\n",
    "from sklearn.model_selection import train_test_split\n",
    "from tensorflow.keras.preprocessing.text import Tokenizer\n",
    "from tensorflow.keras.preprocessing.sequence import pad_sequences\n",
    "\n",
    "# Assuming your data looks like this:\n",
    "# df = pd.DataFrame({'Pseudo_Review': [...], 'Label': [...]})\n",
    "# You can load it or define it as needed.\n",
    "\n",
    "# Example setup:\n",
    "texts = df['Pseudo_Review'].astype(str).tolist()  # list of reviews\n",
    "labels = df['Label'].astype(int).tolist()         # list of labels\n"
   ]
  },
  {
   "cell_type": "code",
   "execution_count": 23,
   "metadata": {},
   "outputs": [],
   "source": [
    "vocab_size = 1000\n",
    "tokenizer = Tokenizer(num_words=vocab_size, oov_token=\"<OOV>\")\n",
    "tokenizer.fit_on_texts(texts)\n",
    "\n",
    "sequences = tokenizer.texts_to_sequences(texts)\n"
   ]
  },
  {
   "cell_type": "code",
   "execution_count": 24,
   "metadata": {},
   "outputs": [],
   "source": [
    "maxlen = 200  # choose based on average sequence length or experiment\n",
    "padded_sequences = pad_sequences(sequences, maxlen=maxlen, padding='post', truncating='post')\n"
   ]
  },
  {
   "cell_type": "code",
   "execution_count": 25,
   "metadata": {},
   "outputs": [],
   "source": [
    "x_train, x_test, y_train, y_test = train_test_split(\n",
    "    padded_sequences, labels, test_size=0.2, random_state=42\n",
    ")\n",
    "\n",
    "x_train = np.array(x_train)\n",
    "x_test = np.array(x_test)\n",
    "y_train = np.array(y_train)\n",
    "y_test = np.array(y_test)\n"
   ]
  },
  {
   "cell_type": "code",
   "execution_count": 26,
   "metadata": {},
   "outputs": [
    {
     "name": "stdout",
     "output_type": "stream",
     "text": [
      "Label\n",
      "1    4103\n",
      "0    4103\n",
      "Name: count, dtype: int64\n"
     ]
    }
   ],
   "source": [
    "df = df_balanced\n",
    "print(df['Label'].value_counts())"
   ]
  },
  {
   "cell_type": "code",
   "execution_count": 27,
   "metadata": {
    "colab": {
     "base_uri": "https://localhost:8080/"
    },
    "id": "AsVySQhMCqWa",
    "outputId": "9ce2ca0e-5b95-489e-875e-15cefd2a2c20"
   },
   "outputs": [
    {
     "name": "stdout",
     "output_type": "stream",
     "text": [
      "                                       Pseudo_Review\n",
      "0  examin metabol lipid lipid lipid lipid lipid l...\n",
      "1  metabol metabol metabol metabol metabol metabo...\n",
      "2  compar method result 3 similar similar observ ...\n",
      "3  use studi develop develop 2 compar 6 6 3 3 p p...\n",
      "4  rat rat rat rat rat rat rat rat studi studi st...\n",
      "0    1\n",
      "1    1\n",
      "2    1\n",
      "3    1\n",
      "4    0\n",
      "Name: Label, dtype: int64\n"
     ]
    }
   ],
   "source": [
    "# Separate features and target\n",
    "X = df.drop(columns=['Label'])  # Assuming 'Label' is the target\n",
    "y = df['Label']\n",
    "\n",
    "print(X.head())\n",
    "print(y.head())\n"
   ]
  },
  {
   "cell_type": "code",
   "execution_count": 28,
   "metadata": {},
   "outputs": [
    {
     "name": "stdout",
     "output_type": "stream",
     "text": [
      "X_train shape: (9582, 200), y_train shape: (9582,)\n",
      "X_test shape: (2396, 200), y_test shape: (2396,)\n"
     ]
    }
   ],
   "source": [
    "# Check the shapes of the splits\n",
    "print(f'X_train shape: {x_train.shape}, y_train shape: {y_train.shape}')\n",
    "print(f'X_test shape: {x_test.shape}, y_test shape: {y_test.shape}')"
   ]
  },
  {
   "cell_type": "code",
   "execution_count": 29,
   "metadata": {
    "id": "eeSrbQA4CtN4"
   },
   "outputs": [
    {
     "name": "stdout",
     "output_type": "stream",
     "text": [
      "[ 90 140 216 216  85  85  28  43  78 130 130 219 219 219  11  11  55  55\n",
      "  55  55  55  55  55  55  55  55  55  55  55  55  55  55  55  55 189 189\n",
      " 221 221 375 375 375  20  57  57  57  45 429 429 429  54 381 381 381 358\n",
      " 358 358 129 129 129 129  98  98  98  98  98  98  98  98  98  98  98  98\n",
      "  98  88 295 295 295  49 386 386 386 160 160 160 146 146 146 146 146 146\n",
      " 146 229 229 229 242 242 242 176 176 176 176 176 236 236 236 236 315 315\n",
      " 315 315  40  40  93  93  93  93 255 255 255 255 255 255 255 255 255 255\n",
      " 255 255 255 255 255 255 255 255 255 255 255 255 255 197 197 197 197 197\n",
      " 197 197 197 197 197 197 197 197 197 197 197 197 197 197  23  23  23  23\n",
      "  23  23  23  23  23  23  23  23  23  23 104 104 104  50  50  50  50  73\n",
      "  73  73  73  73  73  73  73  73  73  73  73  73  73  73  73  73  73  73\n",
      " 316 316]\n"
     ]
    }
   ],
   "source": [
    "print(x_train[0])\n"
   ]
  },
  {
   "cell_type": "code",
   "execution_count": 30,
   "metadata": {
    "colab": {
     "base_uri": "https://localhost:8080/"
    },
    "id": "3OAqYWS7CtKf",
    "outputId": "8259e0f3-809b-47b0-c0f6-edae041897bd"
   },
   "outputs": [],
   "source": [
    "# # # Handle missing values (e.g., fill with the mean of each column)\n",
    "# # X = X.fillna(X.mean())\n",
    "\n",
    "# # Split the data into training and testing sets (80% train, 20% test)\n",
    "# x_train, x_test, y_train, y_test = train_test_split(X_np, y_np, test_size=0.2, random_state=42)\n",
    "\n",
    "# # Check the shapes of the splits\n",
    "# print(f'X_train shape: {x_train.shape}, y_train shape: {y_train.shape}')\n",
    "# print(f'X_test shape: {x_test.shape}, y_test shape: {y_test.shape}')"
   ]
  },
  {
   "cell_type": "code",
   "execution_count": 31,
   "metadata": {
    "colab": {
     "base_uri": "https://localhost:8080/"
    },
    "id": "UKsyy2IcCy5s",
    "outputId": "c8cbdb5c-5590-4361-95ca-4a25b30f9b73"
   },
   "outputs": [
    {
     "name": "stdout",
     "output_type": "stream",
     "text": [
      "<class 'numpy.ndarray'>\n"
     ]
    }
   ],
   "source": [
    "print(type(y_train))"
   ]
  },
  {
   "cell_type": "code",
   "execution_count": 32,
   "metadata": {
    "colab": {
     "base_uri": "https://localhost:8080/"
    },
    "id": "cs7B_nN-Cy2O",
    "outputId": "feae4702-e1d0-4851-951f-d72fd234d55a"
   },
   "outputs": [
    {
     "data": {
      "text/plain": [
       "2"
      ]
     },
     "execution_count": 32,
     "metadata": {},
     "output_type": "execute_result"
    }
   ],
   "source": [
    "y_train[0]"
   ]
  },
  {
   "cell_type": "code",
   "execution_count": 33,
   "metadata": {
    "colab": {
     "base_uri": "https://localhost:8080/"
    },
    "id": "-5SeUfmtCyy3",
    "outputId": "12d3c895-7c36-4b05-90fa-de738a914fe4"
   },
   "outputs": [
    {
     "name": "stdout",
     "output_type": "stream",
     "text": [
      "<class 'numpy.ndarray'>\n"
     ]
    }
   ],
   "source": [
    "print(type(y_test))"
   ]
  },
  {
   "cell_type": "code",
   "execution_count": 34,
   "metadata": {},
   "outputs": [
    {
     "name": "stdout",
     "output_type": "stream",
     "text": [
      "Unique y_train labels: {1, 2}\n",
      "Unique y_test labels: {1, 2}\n"
     ]
    }
   ],
   "source": [
    "print(\"Unique y_train labels:\", set(y_train))\n",
    "print(\"Unique y_test labels:\", set(y_test))\n"
   ]
  },
  {
   "cell_type": "code",
   "execution_count": 35,
   "metadata": {
    "id": "xQ7ozMuQCtH5"
   },
   "outputs": [
    {
     "name": "stdout",
     "output_type": "stream",
     "text": [
      "Train class balance: 64 64\n",
      "Test class balance: 64 64\n"
     ]
    }
   ],
   "source": [
    "import random\n",
    "\n",
    "selected_num = 128\n",
    "\n",
    "# Remap labels before any sampling\n",
    "y_train = [0 if y == 1 else 1 for y in y_train]\n",
    "y_test = [0 if y == 1 else 1 for y in y_test]\n",
    "\n",
    "# Now shuffle\n",
    "train_data = list(zip(x_train, y_train))\n",
    "test_data = list(zip(x_test, y_test))\n",
    "...\n",
    "\n",
    "# Shuffle data\n",
    "train_data = list(zip(x_train, y_train))\n",
    "test_data = list(zip(x_test, y_test))\n",
    "random.shuffle(train_data)\n",
    "random.shuffle(test_data)\n",
    "x_train_shuffled, y_train_shuffled = zip(*train_data)\n",
    "x_test_shuffled, y_test_shuffled = zip(*test_data)\n",
    "\n",
    "# Balanced sampling for train\n",
    "new_x_train = []\n",
    "new_y_train = []\n",
    "class_0_count = 0\n",
    "class_1_count = 0\n",
    "indx = 0\n",
    "\n",
    "while len(new_x_train) < selected_num and indx < len(x_train_shuffled):\n",
    "    label = y_train_shuffled[indx]\n",
    "    if label == 0 and class_0_count < selected_num // 2:\n",
    "        new_x_train.append(x_train_shuffled[indx])\n",
    "        new_y_train.append(label)\n",
    "        class_0_count += 1\n",
    "    elif label == 1 and class_1_count < selected_num // 2:\n",
    "        new_x_train.append(x_train_shuffled[indx])\n",
    "        new_y_train.append(label)\n",
    "        class_1_count += 1\n",
    "    indx += 1\n",
    "\n",
    "# Balanced sampling for test\n",
    "new_x_test = []\n",
    "new_y_test = []\n",
    "class_0_count = 0\n",
    "class_1_count = 0\n",
    "indx = 0\n",
    "\n",
    "while len(new_x_test) < selected_num and indx < len(x_test_shuffled):\n",
    "    label = y_test_shuffled[indx]\n",
    "    if label == 0 and class_0_count < selected_num // 2:\n",
    "        new_x_test.append(x_test_shuffled[indx])\n",
    "        new_y_test.append(label)\n",
    "        class_0_count += 1\n",
    "    elif label == 1 and class_1_count < selected_num // 2:\n",
    "        new_x_test.append(x_test_shuffled[indx])\n",
    "        new_y_test.append(label)\n",
    "        class_1_count += 1\n",
    "    indx += 1\n",
    "\n",
    "# Check results\n",
    "print(\"Train class balance:\", new_y_train.count(0), new_y_train.count(1))\n",
    "print(\"Test class balance:\", new_y_test.count(0), new_y_test.count(1))\n"
   ]
  },
  {
   "cell_type": "code",
   "execution_count": 36,
   "metadata": {},
   "outputs": [
    {
     "name": "stdout",
     "output_type": "stream",
     "text": [
      "Train class balance: 64 64\n",
      "Test class balance: 64 64\n"
     ]
    }
   ],
   "source": [
    "print(\"Train class balance:\", new_y_train.count(0), new_y_train.count(1))\n",
    "print(\"Test class balance:\", new_y_test.count(0), new_y_test.count(1))\n"
   ]
  },
  {
   "cell_type": "code",
   "execution_count": 37,
   "metadata": {
    "colab": {
     "base_uri": "https://localhost:8080/"
    },
    "id": "zFfB3t8rDAv_",
    "outputId": "75db4339-e773-4eed-df52-4d5b3b327683"
   },
   "outputs": [],
   "source": [
    "# print([len(str(x)) for x in new_x_train])  # Converts to string to avoid errors\n"
   ]
  },
  {
   "cell_type": "code",
   "execution_count": 38,
   "metadata": {
    "id": "n5O-yiTYDAsh"
   },
   "outputs": [
    {
     "name": "stdout",
     "output_type": "stream",
     "text": [
      "x_train length: 128\n",
      "x_test length: 128\n"
     ]
    }
   ],
   "source": [
    "x_train=np.array(new_x_train)#[:128]\n",
    "y_train=np.array(new_y_train)#[:128]\n",
    "\n",
    "x_test=np.array(new_x_test)#[:128]\n",
    "y_test=np.array(new_y_test)#[:128]\n",
    "\n",
    "print(\"x_train length:\", len(x_train))\n",
    "print(\"x_test length:\", len(x_test))\n"
   ]
  },
  {
   "cell_type": "code",
   "execution_count": 39,
   "metadata": {
    "id": "UxzjXem9DAp7"
   },
   "outputs": [
    {
     "name": "stdout",
     "output_type": "stream",
     "text": [
      "Maximum review length: 200\n",
      "Minimum review length: 200\n",
      "Mean review length: 200.00\n",
      "\n",
      "Machine Readable Review\n",
      "  Review Text: [ 19  19  71  71 177 177   4   4   4   4   4   4   4   4   4   4   4   4\n",
      "   4   4 110 140  33  85  85 159 159 203 203 113 113 113 113 113 113 113\n",
      " 113 113 189 189 259 259 259 259 259 259 299 299 299 299 299 299 299 299\n",
      " 299 375 375 375 375 375 375 375 461 461 461 461 461 461 461 435 435 435\n",
      " 435 435 435 435 435 354 354 354  10  10  57  57  57 429 429 429 137 137\n",
      " 137   3   3   3   3 245 245 136 136 275 275 275 275 227 227 227 227 227\n",
      " 181 181 181 246 246 246 246 398 398 398 398  53  53 325 325 325  84  84\n",
      "  84  84  84  84  84  84  84  84  84  84  84  84  84  84 273 273 273  18\n",
      "  18  18  18  18  18  18 255 255 255  23  23  23 156 156 156 156 156 156\n",
      " 156 156 156 156  50  50  50  50  63  63  63  63  63  63  63  63  63  63\n",
      "  63  63  63  63  63  63  63  63  63  63  63  63  63   7   7   7   7   7\n",
      "   7   7]\n",
      "  Review Sentiment: 1\n",
      "\n",
      "Human Readable Review\n",
      "  Review Text: contribut contribut period period hormon hormon <UNKNOWN> <UNKNOWN> <UNKNOWN> <UNKNOWN> <UNKNOWN> <UNKNOWN> <UNKNOWN> <UNKNOWN> <UNKNOWN> <UNKNOWN> <UNKNOWN> <UNKNOWN> <UNKNOWN> <UNKNOWN> loss research diet respect respect base base cell cell 4 4 4 4 4 4 4 4 4 analys analys treat treat treat treat treat treat pathway pathway pathway pathway pathway pathway pathway pathway pathway approxim approxim approxim approxim approxim approxim approxim review review review review review review review area area area area area area area area genet genet genet examin examin m m m bmi bmi bmi assess assess assess <UNUSED> <UNUSED> <UNUSED> <UNUSED> progress progress independ independ 100 100 100 100 process process process process process major major major noninsulindepend noninsulindepend noninsulindepend noninsulindepend failur failur failur failur import import potenti potenti potenti vivo vivo vivo vivo vivo vivo vivo vivo vivo vivo vivo vivo vivo vivo vivo vivo daili daili daili abnorm abnorm abnorm abnorm abnorm abnorm abnorm mg mg mg 2 2 2 0 0 0 0 0 0 0 0 0 0 observ observ observ observ lower lower lower lower lower lower lower lower lower lower lower lower lower lower lower lower lower lower lower lower lower lower lower rat rat rat rat rat rat rat\n",
      "  Review Sentiment: Diabetes Mellitus Type 1\n"
     ]
    }
   ],
   "source": [
    "import numpy as np\n",
    "\n",
    "# STEP 1: Create column_dict with special tokens\n",
    "# If you already have a dictionary like {'the': 1, 'and': 2, ...}, load or define it here.\n",
    "# Example:\n",
    "# column_dict = {'the': 1, 'and': 2, 'a': 3, 'of': 4, 'to': 5, ...}\n",
    "\n",
    "# Shift existing indices to make room for special tokens\n",
    "column_dict = {k: v + 4 for k, v in column_dict.items()}  \n",
    "class_names = [\"Diabetes Mellitus, Experimental\", \"Diabetes Mellitus Type 1\", \"Diabetes Mellitus Type 2\"]\n",
    "\n",
    "# Add special tokens\n",
    "column_dict[\"<PAD>\"] = 0\n",
    "column_dict[\"<START>\"] = 1\n",
    "column_dict[\"<UNKNOWN>\"] = 2\n",
    "column_dict[\"<UNUSED>\"] = 3\n",
    "\n",
    "# Create reverse lookup dictionary\n",
    "reverse_column_dict = {v: k for k, v in column_dict.items()}\n",
    "\n",
    "# Function to decode list of token indices to human-readable text\n",
    "def decode_review(encoded_text):\n",
    "    return ' '.join([reverse_column_dict.get(i, \"<UNKNOWN>\") for i in encoded_text])\n",
    "\n",
    "# STEP 2: Analyze review lengths\n",
    "# Combine train and test reviews\n",
    "allreviews = np.concatenate((x_train, x_test), axis=0)\n",
    "\n",
    "# Print review length statistics\n",
    "print(\"Maximum review length: {}\".format(len(max(allreviews, key=len))))\n",
    "print(\"Minimum review length: {}\".format(len(min(allreviews, key=len))))\n",
    "result = [len(x) for x in allreviews]\n",
    "print(\"Mean review length: {:.2f}\".format(np.mean(result)))\n",
    "\n",
    "# STEP 3: Print machine-readable and human-readable versions of reviews\n",
    "# Change index (e.g., 0 or 60) to inspect different examples\n",
    "index = 0\n",
    "\n",
    "print(\"\\nMachine Readable Review\")\n",
    "print(\"  Text: \" + str(x_train[index]))\n",
    "print(\"  Type: \" + str(y_train[index]))\n",
    "\n",
    "print(\"\\nHuman Readable Review\")\n",
    "print(\"  Text: \" + decode_review(x_train[index]))\n",
    "print(\"  Type: \" + class_names[y_train[index]])\n",
    "\n"
   ]
  },
  {
   "cell_type": "code",
   "execution_count": 40,
   "metadata": {
    "colab": {
     "base_uri": "https://localhost:8080/"
    },
    "id": "aja1Md5oDG-8",
    "outputId": "f8891865-efaf-4376-d42e-1c5ce9384701"
   },
   "outputs": [
    {
     "name": "stdout",
     "output_type": "stream",
     "text": [
      "Maximum review length: 200\n",
      "Minimum review length: 200\n",
      "Mean review length: 200.0\n",
      "\n",
      "Machine readable Review\n",
      "  Review Text: [ 90 278 278 278 239 239 239  31  31  31  31  31  31  31   4   4   4   4\n",
      "   4   4   4   4   4   4   4 114  56  56  56  56  56  56  30  33  33 458\n",
      " 353 353 353 125 125  85  85 376 376 376 376  24  43  69  78 130 130 294\n",
      " 294 294 134 134 134 134 134 469 469 469 469  20 204 204 204  57  57  57\n",
      "  45  45  92  92  92  92   3   3   3   3  54  14  14  14  14  14  15  15\n",
      " 223 223 223  32  32  32 102 102 102 240 240 240 136 136 160 160 160 227\n",
      " 227 249 249 249 246 246 246 246  52  52  52  52  52  52 327 327 327 327\n",
      "  16  16  16 149 149 149  84  84  84  84 438 438 438 438 438 438 438 438\n",
      " 220 220 220 220 220 220 220 220 220 100 100 100 100 100 208 208 208 208\n",
      "   7   7   7   7   7   7   7   7   7   7   7   7   0   0   0   0   0   0\n",
      "   0   0   0   0   0   0   0   0   0   0   0   0   0   0   0   0   0   0\n",
      "   0   0]\n",
      "  Review Sentiment: 1\n",
      "\n",
      "Human Readable Review\n",
      "  Review Text: contribut contribut period period hormon hormon <UNKNOWN> <UNKNOWN> <UNKNOWN> <UNKNOWN> <UNKNOWN> <UNKNOWN> <UNKNOWN> <UNKNOWN> <UNKNOWN> <UNKNOWN> <UNKNOWN> <UNKNOWN> <UNKNOWN> <UNKNOWN> loss research diet respect respect base base cell cell 4 4 4 4 4 4 4 4 4 analys analys treat treat treat treat treat treat pathway pathway pathway pathway pathway pathway pathway pathway pathway approxim approxim approxim approxim approxim approxim approxim review review review review review review review area area area area area area area area genet genet genet examin examin m m m bmi bmi bmi assess assess assess <UNUSED> <UNUSED> <UNUSED> <UNUSED> progress progress independ independ 100 100 100 100 process process process process process major major major noninsulindepend noninsulindepend noninsulindepend noninsulindepend failur failur failur failur import import potenti potenti potenti vivo vivo vivo vivo vivo vivo vivo vivo vivo vivo vivo vivo vivo vivo vivo vivo daili daili daili abnorm abnorm abnorm abnorm abnorm abnorm abnorm mg mg mg 2 2 2 0 0 0 0 0 0 0 0 0 0 observ observ observ observ lower lower lower lower lower lower lower lower lower lower lower lower lower lower lower lower lower lower lower lower lower lower lower rat rat rat rat rat rat rat\n",
      "  Review Sentiment: Diabetes Mellitus Type 1\n"
     ]
    }
   ],
   "source": [
    "\n",
    "# Concatonate test and training datasets\n",
    "allreviews = np.concatenate((x_train, x_test), axis=0)\n",
    "\n",
    "# Review lengths across test and training whole datasets\n",
    "print(\"Maximum review length: {}\".format(len(max((allreviews), key=len))))\n",
    "print(\"Minimum review length: {}\".format(len(min((allreviews), key=len))))\n",
    "result = [len(x) for x in allreviews]\n",
    "print(\"Mean review length: {}\".format(np.mean(result)))\n",
    "\n",
    "# Print a review and it's class as stored in the dataset. Replace the number\n",
    "# to select a different review.\n",
    "print(\"\")\n",
    "print(\"Machine readable Review\")\n",
    "print(\"  Text: \" + str(x_train[60]))\n",
    "print(\"  Type: \" + str(y_train[60]))\n",
    "\n",
    "# Print a review and it's class in human readable format. Replace the number\n",
    "# to select a different review.\n",
    "print(\"\")\n",
    "print(\"Human Readable Review\")\n",
    "print(\"  Text: \" + decode_review(x_train[0]))\n",
    "print(\"  Type: \" + class_names[y_train[0]])\n"
   ]
  },
  {
   "cell_type": "code",
   "execution_count": 41,
   "metadata": {
    "id": "mx6X4VyIDR26"
   },
   "outputs": [],
   "source": [
    "\n",
    "new_X_train=[]\n",
    "for seq in x_train:\n",
    "    a=torch.tensor(np.pi*(seq/1000-0.5))\n",
    "    new_X_train.append(torch.reshape(a, (10, 20)))\n",
    "\n",
    "new_y_train=[]\n",
    "for seq in y_train:\n",
    "    new_y_train.append(torch.tensor(seq))"
   ]
  },
  {
   "cell_type": "code",
   "execution_count": 42,
   "metadata": {},
   "outputs": [],
   "source": [
    "\n",
    "new_X_train=torch.stack(new_X_train)\n",
    "\n",
    "label=torch.stack(new_y_train)"
   ]
  },
  {
   "cell_type": "code",
   "execution_count": 43,
   "metadata": {},
   "outputs": [],
   "source": [
    "\n",
    "new_X_test=[]\n",
    "for seq in x_test:\n",
    "    a=torch.tensor(np.pi*(seq/1000-0.5))\n",
    "    new_X_test.append(torch.reshape(a, (10, 20)))\n",
    "\n",
    "new_y_test=[]\n",
    "for seq in y_test:\n",
    "    new_y_test.append(torch.tensor(seq))"
   ]
  },
  {
   "cell_type": "code",
   "execution_count": 46,
   "metadata": {
    "id": "SL69XLGwDRzZ"
   },
   "outputs": [],
   "source": [
    "import torch\n",
    "import numpy as np\n",
    "import random\n",
    "import qiskit\n",
    "# Set seeds for reproducibility\n",
    "torch.manual_seed(42)\n",
    "np.random.seed(42)\n",
    "random.seed(42)\n",
    "\n",
    "# If using a GPU, ensure deterministic behavior\n",
    "torch.backends.cudnn.deterministic = True\n",
    "torch.backends.cudnn.benchmark = False\n",
    "\n",
    "from qiskit.utils import algorithm_globals\n",
    "algorithm_globals.random_seed = 42\n"
   ]
  },
  {
   "cell_type": "code",
   "execution_count": 47,
   "metadata": {
    "id": "pB5zOpZMDEhy"
   },
   "outputs": [],
   "source": [
    "import torch\n",
    "import torch.nn as nn\n",
    "import torch.nn.functional as F\n",
    "\n",
    "class ClassicalSelfAttention(nn.Module):\n",
    "    def __init__(self, embed_dim, num_heads):\n",
    "        super(ClassicalSelfAttention, self).__init__()\n",
    "        self.multihead_attn = nn.MultiheadAttention(embed_dim, num_heads, batch_first=True)\n",
    "        self.layer_norm = nn.LayerNorm(embed_dim)\n",
    "\n",
    "    def forward(self, x):\n",
    "        # x shape: (batch_size, seq_len, embed_dim)\n",
    "        attn_output, _ = self.multihead_attn(x, x, x)\n",
    "        x = self.layer_norm(x + attn_output)\n",
    "        return x\n",
    "\n",
    "class ClassicalSelfAttentionNetwork(nn.Module):\n",
    "    def __init__(self, S, n, Denc, D, num_layers, num_heads=2):\n",
    "        \"\"\"\n",
    "        S: number of sequences\n",
    "        n: number of features per sequence (similar to number of qubits)\n",
    "        Denc, D: encoding & variational depths (not used in classical directly)\n",
    "        num_layers: number of attention layers\n",
    "        num_heads: number of attention heads\n",
    "        \"\"\"\n",
    "        super(ClassicalSelfAttentionNetwork, self).__init__()\n",
    "        self.seq_len = S\n",
    "        self.embed_dim = n * (Denc + 2)\n",
    "\n",
    "        # Define a stack of classical self-attention layers\n",
    "        self.attention_layers = nn.ModuleList([\n",
    "            ClassicalSelfAttention(self.embed_dim, num_heads) for _ in range(num_layers)\n",
    "        ])\n",
    "\n",
    "        # Final classification head\n",
    "        self.classifier = nn.Sequential(\n",
    "            nn.Linear(self.embed_dim * self.seq_len, 32),\n",
    "            nn.ReLU(),\n",
    "            nn.Dropout(0.3),\n",
    "            nn.Linear(32, 1)\n",
    "        )\n",
    "\n",
    "    def forward(self, x):\n",
    "        # x shape: (batch_size, seq_len, embed_dim)\n",
    "        for attn_layer in self.attention_layers:\n",
    "            x = attn_layer(x)\n",
    "\n",
    "        x = torch.flatten(x, start_dim=1)  # Flatten all features\n",
    "        out = torch.sigmoid(self.classifier(x))\n",
    "        return out\n"
   ]
  },
  {
   "cell_type": "code",
   "execution_count": 50,
   "metadata": {
    "id": "tUjMM57WCGmC"
   },
   "outputs": [],
   "source": [
    "model = ClassicalSelfAttentionNetwork(S=10, n=2, Denc=8, D=1, num_layers=1, num_heads=1)\n"
   ]
  },
  {
   "cell_type": "code",
   "execution_count": 54,
   "metadata": {
    "id": "lmAfWq6aDmiK"
   },
   "outputs": [],
   "source": [
    "criterion = torch.nn.CrossEntropyLoss()"
   ]
  },
  {
   "cell_type": "code",
   "execution_count": 55,
   "metadata": {
    "id": "UX_CAv3AD0Z0"
   },
   "outputs": [],
   "source": [
    "optimizer = torch.optim.Adam(lr=0.005, params=model.parameters())\n",
    "criterion = torch.nn.CrossEntropyLoss()"
   ]
  },
  {
   "cell_type": "code",
   "execution_count": 56,
   "metadata": {
    "colab": {
     "base_uri": "https://localhost:8080/"
    },
    "id": "dCxYUdXxD3XI",
    "outputId": "e0be9202-7bae-4caf-85be-871342cc9bcb"
   },
   "outputs": [
    {
     "name": "stdout",
     "output_type": "stream",
     "text": [
      "8185\n"
     ]
    }
   ],
   "source": [
    "trainable_params = sum(p.numel() for p in model.parameters() if p.requires_grad)\n",
    "print(trainable_params)"
   ]
  },
  {
   "cell_type": "code",
   "execution_count": 57,
   "metadata": {
    "colab": {
     "base_uri": "https://localhost:8080/"
    },
    "id": "HAAxzbnbD3Oa",
    "outputId": "f215d4e1-8e32-48ba-aed9-faeb65f89295"
   },
   "outputs": [
    {
     "data": {
      "text/plain": [
       "128"
      ]
     },
     "execution_count": 57,
     "metadata": {},
     "output_type": "execute_result"
    }
   ],
   "source": [
    "new_X_train.shape[0]  # Number of training samples"
   ]
  },
  {
   "cell_type": "code",
   "execution_count": 58,
   "metadata": {
    "id": "M--N6ZojXp-z"
   },
   "outputs": [],
   "source": [
    "import torch\n",
    "import os"
   ]
  },
  {
   "cell_type": "code",
   "execution_count": 59,
   "metadata": {},
   "outputs": [],
   "source": [
    "# Make sure everything is tensor first\n",
    "if isinstance(new_X_train, list):\n",
    "    new_X_train = torch.stack(new_X_train)\n",
    "\n",
    "if isinstance(new_y_train, list):\n",
    "    new_y_train = torch.stack(new_y_train)\n",
    "\n",
    "if isinstance(new_X_test, list):\n",
    "    new_X_val = torch.stack(new_X_test)\n",
    "else:\n",
    "    new_X_val = new_X_test\n",
    "\n",
    "if isinstance(new_y_test, list):\n",
    "    new_y_val = torch.stack(new_y_test)\n",
    "else:\n",
    "    new_y_val = new_y_test\n"
   ]
  },
  {
   "cell_type": "code",
   "execution_count": 60,
   "metadata": {},
   "outputs": [
    {
     "name": "stdout",
     "output_type": "stream",
     "text": [
      "Epoch 1: Train Loss=0.7036, Train Acc=0.5234, Val Loss=0.6882, Val Acc=0.5078\n",
      "Epoch 2: Train Loss=0.6939, Train Acc=0.5469, Val Loss=0.6750, Val Acc=0.5547\n",
      "Epoch 3: Train Loss=0.6328, Train Acc=0.6328, Val Loss=0.6701, Val Acc=0.5938\n",
      "Epoch 4: Train Loss=0.5807, Train Acc=0.7344, Val Loss=0.6475, Val Acc=0.6250\n",
      "Epoch 5: Train Loss=0.5258, Train Acc=0.7734, Val Loss=0.6409, Val Acc=0.6172\n",
      "Epoch 6: Train Loss=0.4844, Train Acc=0.8125, Val Loss=0.6523, Val Acc=0.6562\n",
      "Epoch 7: Train Loss=0.4199, Train Acc=0.8203, Val Loss=0.6536, Val Acc=0.6172\n",
      "Epoch 8: Train Loss=0.3696, Train Acc=0.8594, Val Loss=0.6473, Val Acc=0.6562\n",
      "Epoch 9: Train Loss=0.3251, Train Acc=0.8750, Val Loss=0.6593, Val Acc=0.6641\n",
      "Epoch 10: Train Loss=0.2921, Train Acc=0.8906, Val Loss=0.6954, Val Acc=0.6484\n",
      "Epoch 11: Train Loss=0.2246, Train Acc=0.9297, Val Loss=0.7420, Val Acc=0.6328\n",
      "Epoch 12: Train Loss=0.1926, Train Acc=0.9688, Val Loss=0.8174, Val Acc=0.6250\n",
      "Epoch 13: Train Loss=0.1569, Train Acc=0.9688, Val Loss=0.8248, Val Acc=0.6562\n",
      "Epoch 14: Train Loss=0.1440, Train Acc=0.9688, Val Loss=0.8572, Val Acc=0.6406\n",
      "Epoch 00015: reducing learning rate of group 0 to 2.5000e-03.\n",
      "Epoch 15: Train Loss=0.1277, Train Acc=0.9766, Val Loss=0.9375, Val Acc=0.6172\n",
      "Epoch 16: Train Loss=0.0781, Train Acc=0.9844, Val Loss=0.9472, Val Acc=0.6328\n",
      "Epoch 17: Train Loss=0.1015, Train Acc=0.9766, Val Loss=0.9392, Val Acc=0.6641\n",
      "Epoch 18: Train Loss=0.0748, Train Acc=0.9922, Val Loss=0.9756, Val Acc=0.6250\n",
      "Epoch 19: Train Loss=0.0723, Train Acc=0.9922, Val Loss=1.0235, Val Acc=0.6172\n",
      "Early stopping triggered at epoch 19\n",
      "Total training time: 0.05 minutes\n"
     ]
    }
   ],
   "source": [
    "import time\n",
    "import torch\n",
    "import torch.nn as nn\n",
    "from torch.utils.data import TensorDataset, DataLoader\n",
    "from tqdm import tqdm\n",
    "\n",
    "# Set device\n",
    "device = torch.device(\"cuda\" if torch.cuda.is_available() else \"cpu\")\n",
    "model.to(device)\n",
    "\n",
    "# Prepare data\n",
    "# new_X_train = torch.stack(new_X_train)\n",
    "# label = torch.stack(new_y_train)\n",
    "\n",
    "new_X_val = torch.stack(new_X_test)   # Use your test set as validation set\n",
    "new_y_val = torch.stack(new_y_test)\n",
    "\n",
    "\n",
    "# Dataloaders\n",
    "batch_size = 32\n",
    "\n",
    "train_dataset = TensorDataset(new_X_train, label)\n",
    "train_loader = DataLoader(train_dataset, batch_size=batch_size, shuffle=True)\n",
    "\n",
    "val_dataset = TensorDataset(new_X_val, new_y_val)\n",
    "val_loader = DataLoader(val_dataset, batch_size=batch_size, shuffle=False)\n",
    "\n",
    "# Loss, Optimizer, Scheduler\n",
    "criterion = nn.BCELoss()\n",
    "optimizer = torch.optim.Adam(model.parameters(), lr=0.005)\n",
    "scheduler = torch.optim.lr_scheduler.ReduceLROnPlateau(optimizer, mode='max', patience=5, factor=0.5, verbose=True)\n",
    "\n",
    "# Training loop\n",
    "n_epochs = 100\n",
    "patience = 10\n",
    "best_val_acc = 0\n",
    "epochs_no_improve = 0\n",
    "\n",
    "def binary_accuracy(preds, y):\n",
    "    # For BCELoss outputs\n",
    "    rounded_preds = torch.round(preds)\n",
    "    correct = (rounded_preds == y).float()\n",
    "    acc = correct.sum() / len(correct)\n",
    "    return acc\n",
    "\n",
    "start_time = time.time()\n",
    "\n",
    "for epoch in range(n_epochs):\n",
    "    model.train()\n",
    "    train_loss = 0\n",
    "    train_acc = 0\n",
    "\n",
    "    for X_batch, y_batch in train_loader:\n",
    "        X_batch, y_batch = X_batch.to(device), y_batch.to(device)\n",
    "\n",
    "        optimizer.zero_grad()\n",
    "        predictions = model(X_batch.float()).squeeze(1)\n",
    "        loss = criterion(predictions, y_batch.float())\n",
    "\n",
    "        loss.backward()\n",
    "        optimizer.step()\n",
    "\n",
    "        train_loss += loss.item()\n",
    "        train_acc += binary_accuracy(predictions, y_batch)\n",
    "\n",
    "    train_loss /= len(train_loader)\n",
    "    train_acc /= len(train_loader)\n",
    "\n",
    "    # Validation\n",
    "    model.eval()\n",
    "    val_acc = 0\n",
    "    val_loss = 0\n",
    "    with torch.no_grad():\n",
    "        for X_val, y_val in val_loader:\n",
    "            X_val, y_val = X_val.to(device), y_val.to(device)\n",
    "            preds = model(X_val.float()).squeeze(1)\n",
    "            loss = criterion(preds, y_val.float())\n",
    "            val_loss += loss.item()\n",
    "            val_acc += binary_accuracy(preds, y_val)\n",
    "\n",
    "    val_loss /= len(val_loader)\n",
    "    val_acc /= len(val_loader)\n",
    "\n",
    "    scheduler.step(val_acc)\n",
    "\n",
    "    print(f\"Epoch {epoch+1}: Train Loss={train_loss:.4f}, Train Acc={train_acc:.4f}, Val Loss={val_loss:.4f}, Val Acc={val_acc:.4f}\")\n",
    "\n",
    "    # Early stopping\n",
    "    if val_acc > best_val_acc:\n",
    "        best_val_acc = val_acc\n",
    "        epochs_no_improve = 0\n",
    "        torch.save(model.state_dict(), 'best_model_CSANN.pt')  # save the best model\n",
    "    else:\n",
    "        epochs_no_improve += 1\n",
    "\n",
    "    if epochs_no_improve >= patience:\n",
    "        print(f\"Early stopping triggered at epoch {epoch+1}\")\n",
    "        break\n",
    "\n",
    "total_time = time.time() - start_time\n",
    "print(f\"Total training time: {total_time/60:.2f} minutes\")\n"
   ]
  },
  {
   "cell_type": "code",
   "execution_count": 61,
   "metadata": {},
   "outputs": [],
   "source": [
    "path ='take_2'"
   ]
  },
  {
   "cell_type": "code",
   "execution_count": 62,
   "metadata": {},
   "outputs": [],
   "source": [
    "\n",
    "file_name=path+'m_csann'\n",
    "torch.save(model.state_dict(),file_name)"
   ]
  },
  {
   "cell_type": "code",
   "execution_count": 72,
   "metadata": {},
   "outputs": [
    {
     "data": {
      "text/plain": [
       "ClassicalSelfAttentionNetwork(\n",
       "  (attention_layers): ModuleList(\n",
       "    (0): ClassicalSelfAttention(\n",
       "      (multihead_attn): MultiheadAttention(\n",
       "        (out_proj): NonDynamicallyQuantizableLinear(in_features=20, out_features=20, bias=True)\n",
       "      )\n",
       "      (layer_norm): LayerNorm((20,), eps=1e-05, elementwise_affine=True)\n",
       "    )\n",
       "  )\n",
       "  (classifier): Sequential(\n",
       "    (0): Linear(in_features=200, out_features=32, bias=True)\n",
       "    (1): ReLU()\n",
       "    (2): Dropout(p=0.3, inplace=False)\n",
       "    (3): Linear(in_features=32, out_features=1, bias=True)\n",
       "  )\n",
       ")"
      ]
     },
     "execution_count": 72,
     "metadata": {},
     "output_type": "execute_result"
    }
   ],
   "source": [
    "\n",
    "# 1. Create model instance first\n",
    "model = ClassicalSelfAttentionNetwork(S=10, n=2, Denc=8, D=1, num_layers=1, num_heads=1)\n",
    "\n",
    "\n",
    "# 2. Load weights\n",
    "model.load_state_dict(torch.load('best_model_CSANN.pt'))\n",
    "\n",
    "# 3. Move to device (cuda or cpu)\n",
    "model = model.to(device)\n",
    "\n",
    "# 4. Set to evaluation mode\n",
    "model.eval()\n"
   ]
  },
  {
   "cell_type": "code",
   "execution_count": 74,
   "metadata": {},
   "outputs": [
    {
     "name": "stdout",
     "output_type": "stream",
     "text": [
      "Train input shape: torch.Size([128, 10, 20])\n",
      "Test input shape: torch.Size([128, 10, 20])\n",
      "Train input dtype: torch.float64\n",
      "Test input dtype: torch.float64\n",
      "Train input device: cpu\n",
      "Test input device: cpu\n",
      "Train input min/max: -1.5707963267948966 -0.006283185307179592\n",
      "Test input min/max: -1.5707963267948966 -0.006283185307179592\n"
     ]
    }
   ],
   "source": [
    "# new_X_test = torch.stack(new_X_test)  # Shape: (num_samples, 10, 20)\n",
    "# new_y_test = torch.tensor(new_y_test)  # Automatically stacks scalar tensors\n",
    "\n",
    "\n",
    "# Check shapes\n",
    "print(\"Train input shape:\", new_X_train.shape)\n",
    "print(\"Test input shape:\", new_X_test.shape)\n",
    "\n",
    "# Check data types\n",
    "print(\"Train input dtype:\", new_X_train.dtype)\n",
    "print(\"Test input dtype:\", new_X_test.dtype)\n",
    "\n",
    "# Check devices\n",
    "print(\"Train input device:\", new_X_train.device)\n",
    "print(\"Test input device:\", new_X_test.device)\n",
    "\n",
    "# Check value ranges (optional but helpful)\n",
    "print(\"Train input min/max:\", new_X_train.min().item(), new_X_train.max().item())\n",
    "print(\"Test input min/max:\", new_X_test.min().item(), new_X_test.max().item())"
   ]
  },
  {
   "cell_type": "code",
   "execution_count": 75,
   "metadata": {},
   "outputs": [],
   "source": [
    "# new_X_test = torch.stack(new_X_test)  # Shape: (num_samples, 10, 20)\n",
    "# new_y_test = torch.tensor(new_y_test)  # Automatically stacks scalar tensors\n"
   ]
  },
  {
   "cell_type": "code",
   "execution_count": 76,
   "metadata": {},
   "outputs": [
    {
     "name": "stdout",
     "output_type": "stream",
     "text": [
      "Train input shape: torch.Size([128, 10, 20])\n",
      "Test input shape: torch.Size([128, 10, 20])\n",
      "Train input dtype: torch.float64\n",
      "Test input dtype: torch.float64\n",
      "Train input device: cpu\n",
      "Test input device: cpu\n",
      "Train input min/max: -1.5707963267948966 -0.006283185307179592\n",
      "Test input min/max: -1.5707963267948966 -0.006283185307179592\n"
     ]
    }
   ],
   "source": [
    "# Check shapes\n",
    "print(\"Train input shape:\", new_X_train.shape)\n",
    "print(\"Test input shape:\", new_X_test.shape)\n",
    "\n",
    "# Check data types\n",
    "print(\"Train input dtype:\", new_X_train.dtype)\n",
    "print(\"Test input dtype:\", new_X_test.dtype)\n",
    "\n",
    "# Check devices\n",
    "print(\"Train input device:\", new_X_train.device)\n",
    "print(\"Test input device:\", new_X_test.device)\n",
    "\n",
    "# Check value ranges (optional but helpful)\n",
    "print(\"Train input min/max:\", new_X_train.min().item(), new_X_train.max().item())\n",
    "print(\"Test input min/max:\", new_X_test.min().item(), new_X_test.max().item())\n"
   ]
  },
  {
   "cell_type": "code",
   "execution_count": 77,
   "metadata": {},
   "outputs": [
    {
     "name": "stdout",
     "output_type": "stream",
     "text": [
      "Run 1: Test Accuracy = 0.6641\n",
      "\n",
      "Average Test Accuracy over 100 runs: 0.6641\n",
      "Max Accuracy: 0.6641, Min Accuracy: 0.6641\n"
     ]
    }
   ],
   "source": [
    "import torch\n",
    "from torch.utils.data import DataLoader, TensorDataset\n",
    "\n",
    "device = torch.device(\"cuda\" if torch.cuda.is_available() else \"cpu\")\n",
    "\n",
    "# Ensure test data is properly stacked\n",
    "if isinstance(new_X_test, list):\n",
    "    new_X_test = torch.stack(new_X_test)\n",
    "if isinstance(new_y_test, list):\n",
    "    new_y_test = torch.stack(new_y_test)\n",
    "\n",
    "# Create the DataLoader\n",
    "test_loader = torch.utils.data.DataLoader(\n",
    "    torch.utils.data.TensorDataset(new_X_test, new_y_test),\n",
    "    batch_size=32,\n",
    "    shuffle=False\n",
    ")\n",
    "\n",
    "# Define the test accuracy function\n",
    "def test_accuracy(model, test_loader, device):\n",
    "    model.eval()\n",
    "    total = 0\n",
    "    correct = 0\n",
    "\n",
    "    with torch.no_grad():\n",
    "        for inputs, labels in test_loader:\n",
    "            inputs = inputs.to(device).float()\n",
    "            labels = labels.to(device).float()\n",
    "\n",
    "            outputs = model(inputs).squeeze(1)\n",
    "            preds = torch.round(outputs)\n",
    "\n",
    "            correct += (preds == labels).sum().item()\n",
    "            total += labels.size(0)\n",
    "\n",
    "    return correct / total\n",
    "\n",
    "accuracies = []\n",
    "\n",
    "# Loop to reload model and test each time\n",
    "for run in range(1):\n",
    "    # Re-load the model\n",
    "\n",
    "    # Test the model\n",
    "    acc = test_accuracy(model, test_loader, device)\n",
    "    accuracies.append(acc)\n",
    "    print(f\"Run {run+1}: Test Accuracy = {acc:.4f}\")\n",
    "\n",
    "# Final statistics\n",
    "print(f\"\\nAverage Test Accuracy over 100 runs: {sum(accuracies)/len(accuracies):.4f}\")\n",
    "print(f\"Max Accuracy: {max(accuracies):.4f}, Min Accuracy: {min(accuracies):.4f}\")\n"
   ]
  },
  {
   "cell_type": "code",
   "execution_count": 78,
   "metadata": {},
   "outputs": [
    {
     "data": {
      "image/png": "[encoded data removed]",
      "text/plain": [
       "<Figure size 640x480 with 2 Axes>"
      ]
     },
     "metadata": {},
     "output_type": "display_data"
    }
   ],
   "source": [
    "import torch\n",
    "import numpy as np\n",
    "import matplotlib.pyplot as plt\n",
    "from sklearn.metrics import confusion_matrix, ConfusionMatrixDisplay\n",
    "\n",
    "\n",
    "\n",
    "# 2. Prepare the test DataLoader\n",
    "if isinstance(new_X_test, list):\n",
    "    new_X_test = torch.stack(new_X_test)\n",
    "if isinstance(new_y_test, list):\n",
    "    new_y_test = torch.stack(new_y_test)\n",
    "\n",
    "test_loader = torch.utils.data.DataLoader(\n",
    "    torch.utils.data.TensorDataset(new_X_test, new_y_test),\n",
    "    batch_size=32,\n",
    "    shuffle=False\n",
    ")\n",
    "\n",
    "# 3. Gather all predictions and true labels\n",
    "all_preds = []\n",
    "all_labels = []\n",
    "\n",
    "with torch.no_grad():\n",
    "    for inputs, labels in test_loader:\n",
    "        inputs = inputs.to(device).float()\n",
    "        labels = labels.to(device).float()\n",
    "\n",
    "        outputs = model(inputs).squeeze(1)\n",
    "        preds = torch.round(outputs)  # Binary thresholding at 0.5\n",
    "\n",
    "        all_preds.append(preds.cpu().numpy())\n",
    "        all_labels.append(labels.cpu().numpy())\n",
    "\n",
    "# 4. Concatenate all batches\n",
    "all_preds = np.concatenate(all_preds)\n",
    "all_labels = np.concatenate(all_labels)\n",
    "\n",
    "# 5. Compute the confusion matrix\n",
    "cm = confusion_matrix(all_labels, all_preds)\n",
    "\n",
    "# 6. Plot the confusion matrix\n",
    "disp = ConfusionMatrixDisplay(confusion_matrix=cm, display_labels=[\"Class 0\", \"Class 1\"])\n",
    "disp.plot(cmap=plt.cm.Blues)\n",
    "plt.title(\"Confusion Matrix on Test Set\")\n",
    "plt.show()\n"
   ]
  },
  {
   "cell_type": "code",
   "execution_count": 79,
   "metadata": {},
   "outputs": [
    {
     "name": "stdout",
     "output_type": "stream",
     "text": [
      "              precision    recall  f1-score   support\n",
      "\n",
      "     Class 0       0.64      0.75      0.69        64\n",
      "     Class 1       0.70      0.58      0.63        64\n",
      "\n",
      "    accuracy                           0.66       128\n",
      "   macro avg       0.67      0.66      0.66       128\n",
      "weighted avg       0.67      0.66      0.66       128\n",
      "\n",
      "Confusion Matrix:\n",
      " [[48 16]\n",
      " [27 37]]\n"
     ]
    },
    {
     "data": {
      "image/png": "[encoded data removed]",
      "text/plain": [
       "<Figure size 640x480 with 1 Axes>"
      ]
     },
     "metadata": {},
     "output_type": "display_data"
    }
   ],
   "source": [
    "from sklearn.metrics import classification_report, confusion_matrix, roc_curve, auc, RocCurveDisplay\n",
    "import matplotlib.pyplot as plt\n",
    "import torch\n",
    "\n",
    "\n",
    "\n",
    "all_preds = []\n",
    "all_labels = []\n",
    "\n",
    "with torch.no_grad():\n",
    "    for inputs, labels in test_loader:\n",
    "        inputs = inputs.to(device).float()\n",
    "        labels = labels.to(device).float()\n",
    "        \n",
    "        outputs = model(inputs).squeeze(1)\n",
    "        preds = torch.round(outputs)\n",
    "        \n",
    "        all_preds.append(preds.cpu())\n",
    "        all_labels.append(labels.cpu())\n",
    "\n",
    "all_preds = torch.cat(all_preds)\n",
    "all_labels = torch.cat(all_labels)\n",
    "\n",
    "# Classification Report (Precision, Recall, F1)\n",
    "print(classification_report(all_labels, all_preds, target_names=['Class 0', 'Class 1']))\n",
    "\n",
    "# Confusion Matrix\n",
    "cm = confusion_matrix(all_labels, all_preds)\n",
    "print(\"Confusion Matrix:\\n\", cm)\n",
    "\n",
    "# ROC Curve\n",
    "# Need probabilities, not rounded predictions\n",
    "probs = []\n",
    "\n",
    "with torch.no_grad():\n",
    "    for inputs, labels in test_loader:\n",
    "        inputs = inputs.to(device).float()\n",
    "        outputs = model(inputs).squeeze(1)\n",
    "        probs.append(outputs.cpu())\n",
    "\n",
    "probs = torch.cat(probs)\n",
    "\n",
    "fpr, tpr, thresholds = roc_curve(all_labels, probs)\n",
    "roc_auc = auc(fpr, tpr)\n",
    "\n",
    "# Plot ROC\n",
    "plt.figure()\n",
    "plt.plot(fpr, tpr, color='darkorange', lw=2, label=f'ROC curve (area = {roc_auc:.2f})')\n",
    "plt.plot([0, 1], [0, 1], color='navy', lw=2, linestyle='--')\n",
    "plt.xlim([0.0, 1.0])\n",
    "plt.ylim([0.0, 1.05])\n",
    "plt.xlabel('False Positive Rate')\n",
    "plt.ylabel('True Positive Rate')\n",
    "plt.title('Receiver Operating Characteristic (ROC)')\n",
    "plt.legend(loc=\"lower right\")\n",
    "plt.show()\n"
   ]
  }
 ],
 "metadata": {
  "accelerator": "GPU",
  "colab": {
   "gpuType": "T4",
   "provenance": []
  },
  "kernelspec": {
   "display_name": "Python 3.11",
   "language": "python",
   "name": "python3.11"
  },
  "language_info": {
   "codemirror_mode": {
    "name": "ipython",
    "version": 3
   },
   "file_extension": ".py",
   "mimetype": "text/x-python",
   "name": "python",
   "nbconvert_exporter": "python",
   "pygments_lexer": "ipython3",
   "version": "3.11.12"
  }
 },
 "nbformat": 4,
 "nbformat_minor": 4
}
